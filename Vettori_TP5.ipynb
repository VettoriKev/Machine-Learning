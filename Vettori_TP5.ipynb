{
  "nbformat": 4,
  "nbformat_minor": 0,
  "metadata": {
    "colab": {
      "name": "Vettori-TP5.ipynb",
      "provenance": [],
      "collapsed_sections": [],
      "authorship_tag": "ABX9TyNLfAWo+ZtC431PNkpJDoXh",
      "include_colab_link": true
    },
    "kernelspec": {
      "name": "python3",
      "display_name": "Python 3"
    },
    "language_info": {
      "name": "python"
    }
  },
  "cells": [
    {
      "cell_type": "markdown",
      "metadata": {
        "id": "view-in-github",
        "colab_type": "text"
      },
      "source": [
        "<a href=\"https://colab.research.google.com/github/VettoriKev/Machine-Learning/blob/main/Vettori_TP5.ipynb\" target=\"_parent\"><img src=\"https://colab.research.google.com/assets/colab-badge.svg\" alt=\"Open In Colab\"/></a>"
      ]
    },
    {
      "cell_type": "markdown",
      "metadata": {
        "id": "VnWOlejZ9xi5"
      },
      "source": [
        "#Trabajo practico 5\n",
        "##Ejercicio 3\n",
        "---\n",
        "##Tasas de delitos violentos por estado de EE.UU.\n",
        "Este conjunto de datos contiene estadísticas, en arrestos por cada 100,000 residentes por asalto, asesinato y violación en cada uno de los 50 estados de EE. UU. En 1973. También se da el porcentaje de la población que vive en áreas urbanas. El objetivo de este proyecto es identificar jerarquías de grupos de estados de EE. UU. Según los datos de tasas de delitos violentos. Siéntase libre de aumentar este conjunto de datos con otras fuentes [info](https://stat.ethz.ch/R-manual/R-devel/library/datasets/html/USArrests.html)."
      ]
    },
    {
      "cell_type": "code",
      "metadata": {
        "colab": {
          "base_uri": "https://localhost:8080/",
          "height": 202
        },
        "id": "qjXqR6h48jSR",
        "outputId": "d9bdd4ad-8552-4732-e389-45768724853b"
      },
      "source": [
        "import pandas as pd\n",
        "violent_crime = pd.read_csv(\"https://raw.githubusercontent.com/emmanueliarussi/DataScienceCapstone/master/3_MidtermProjects/ProjectUSA/data/violent_crime.csv\")\n",
        "df = violent_crime[['Unnamed: 0','Murder','Assault','Rape','UrbanPop']]\n",
        "df.head()"
      ],
      "execution_count": null,
      "outputs": [
        {
          "output_type": "execute_result",
          "data": {
            "text/html": [
              "<div>\n",
              "<style scoped>\n",
              "    .dataframe tbody tr th:only-of-type {\n",
              "        vertical-align: middle;\n",
              "    }\n",
              "\n",
              "    .dataframe tbody tr th {\n",
              "        vertical-align: top;\n",
              "    }\n",
              "\n",
              "    .dataframe thead th {\n",
              "        text-align: right;\n",
              "    }\n",
              "</style>\n",
              "<table border=\"1\" class=\"dataframe\">\n",
              "  <thead>\n",
              "    <tr style=\"text-align: right;\">\n",
              "      <th></th>\n",
              "      <th>Unnamed: 0</th>\n",
              "      <th>Murder</th>\n",
              "      <th>Assault</th>\n",
              "      <th>Rape</th>\n",
              "      <th>UrbanPop</th>\n",
              "    </tr>\n",
              "  </thead>\n",
              "  <tbody>\n",
              "    <tr>\n",
              "      <th>0</th>\n",
              "      <td>Alabama</td>\n",
              "      <td>13.2</td>\n",
              "      <td>236</td>\n",
              "      <td>21.2</td>\n",
              "      <td>58</td>\n",
              "    </tr>\n",
              "    <tr>\n",
              "      <th>1</th>\n",
              "      <td>Alaska</td>\n",
              "      <td>10.0</td>\n",
              "      <td>263</td>\n",
              "      <td>44.5</td>\n",
              "      <td>48</td>\n",
              "    </tr>\n",
              "    <tr>\n",
              "      <th>2</th>\n",
              "      <td>Arizona</td>\n",
              "      <td>8.1</td>\n",
              "      <td>294</td>\n",
              "      <td>31.0</td>\n",
              "      <td>80</td>\n",
              "    </tr>\n",
              "    <tr>\n",
              "      <th>3</th>\n",
              "      <td>Arkansas</td>\n",
              "      <td>8.8</td>\n",
              "      <td>190</td>\n",
              "      <td>19.5</td>\n",
              "      <td>50</td>\n",
              "    </tr>\n",
              "    <tr>\n",
              "      <th>4</th>\n",
              "      <td>California</td>\n",
              "      <td>9.0</td>\n",
              "      <td>276</td>\n",
              "      <td>40.6</td>\n",
              "      <td>91</td>\n",
              "    </tr>\n",
              "  </tbody>\n",
              "</table>\n",
              "</div>"
            ],
            "text/plain": [
              "   Unnamed: 0  Murder  Assault  Rape  UrbanPop\n",
              "0     Alabama    13.2      236  21.2        58\n",
              "1      Alaska    10.0      263  44.5        48\n",
              "2     Arizona     8.1      294  31.0        80\n",
              "3    Arkansas     8.8      190  19.5        50\n",
              "4  California     9.0      276  40.6        91"
            ]
          },
          "metadata": {},
          "execution_count": 95
        }
      ]
    },
    {
      "cell_type": "markdown",
      "metadata": {
        "id": "T7ytpwxqwzMw"
      },
      "source": [
        "\n",
        "*\t**Murder**:\tArrestos por asesinato (per 100,000)\n",
        "*\t**Assault**:\tArrestos por asalto (per 100,000)\n",
        "*\t**UrbanPop**:\tPorcentaje numerico de población urbana\n",
        "*\t**Rape**:\tNumeros de arrestos por violaciones  (per 100,000)\n"
      ]
    },
    {
      "cell_type": "code",
      "metadata": {
        "colab": {
          "base_uri": "https://localhost:8080/",
          "height": 601
        },
        "id": "mjNLI5LowyTF",
        "outputId": "74d2bf1a-bd67-4a6e-a988-f617039c7d53"
      },
      "source": [
        "import seaborn as sns\n",
        "sns.set_style('darkgrid')\n",
        "sns.pairplot(df, corner=True, height=2)"
      ],
      "execution_count": null,
      "outputs": [
        {
          "output_type": "execute_result",
          "data": {
            "text/plain": [
              "<seaborn.axisgrid.PairGrid at 0x7f113b857590>"
            ]
          },
          "metadata": {},
          "execution_count": 76
        },
        {
          "output_type": "display_data",
          "data": {
            "image/png": "[encoded data removed]",
            "text/plain": [
              "<Figure size 576x576 with 14 Axes>"
            ]
          },
          "metadata": {}
        }
      ]
    },
    {
      "cell_type": "code",
      "metadata": {
        "colab": {
          "base_uri": "https://localhost:8080/",
          "height": 553
        },
        "id": "tJTrYyW4wO6B",
        "outputId": "89ab326c-3741-4371-dc5e-ecdd1a626eff"
      },
      "source": [
        "import matplotlib.pyplot as plt\n",
        "import numpy as np\n",
        "\n",
        "\n",
        "fig, axes = plt.subplots(2, 2, figsize=(15,9))\n",
        "for r,c in np.ndindex(2,2):\n",
        "    df[df.columns[2+r+c]].plot.hist(bins=30, ax=axes[r,c])\n",
        "    axes[r,c].set_title(df.columns[2+r+c])\n"
      ],
      "execution_count": null,
      "outputs": [
        {
          "output_type": "display_data",
          "data": {
            "image/png": "[encoded data removed]",
            "text/plain": [
              "<Figure size 1080x648 with 4 Axes>"
            ]
          },
          "metadata": {}
        }
      ]
    },
    {
      "cell_type": "markdown",
      "metadata": {
        "id": "yizRhsV__L0H"
      },
      "source": [
        "\n",
        "\n",
        "---\n",
        "\n",
        "\n",
        "\n",
        "---\n",
        "### Empezamos con el clustering\n"
      ]
    },
    {
      "cell_type": "code",
      "metadata": {
        "id": "KW7p9230C2wa"
      },
      "source": [
        "from sklearn.preprocessing import StandardScaler\n",
        "\n",
        "s = StandardScaler()\n",
        "X = s.fit_transform(df.drop(columns=['Unnamed: 0']).values)\n"
      ],
      "execution_count": null,
      "outputs": []
    },
    {
      "cell_type": "code",
      "metadata": {
        "colab": {
          "base_uri": "https://localhost:8080/"
        },
        "id": "BBAS2tWn2hib",
        "outputId": "0e5a2171-685b-44df-e3fc-1fcd075d0204"
      },
      "source": [
        "from sklearn.cluster import KMeans\n",
        "\n",
        "km = KMeans(n_clusters = 5, init='k-means++')\n",
        "km.fit(X)"
      ],
      "execution_count": null,
      "outputs": [
        {
          "output_type": "execute_result",
          "data": {
            "text/plain": [
              "KMeans(algorithm='auto', copy_x=True, init='k-means++', max_iter=300,\n",
              "       n_clusters=5, n_init=10, n_jobs=None, precompute_distances='auto',\n",
              "       random_state=None, tol=0.0001, verbose=0)"
            ]
          },
          "metadata": {},
          "execution_count": 79
        }
      ]
    },
    {
      "cell_type": "markdown",
      "metadata": {
        "id": "hQhAffsUMcix"
      },
      "source": [
        "# Porque n = 5?\n",
        "Trate de asignar un numero de cluster \"intuitivo\". Entonces si hablamos de taza de criminalidad y queremos dividirlo en zonas, lo primero que podemos pensar es en zonas seguras y otras que no (n_cluster=2). Pero con los datos que se tenia era predecible que no haya blancos ni negros, entonces en que gama de grises se trabajaria? Conclui que entre 3 y 5 eran numeros logicos ya que más, seria dificil para seguir a un transeunte que veria un mapa con colores de \"peligrosidad\".\n",
        "\n",
        "### ¿Cómo sabemos si es efectivo el numero que elegimos?"
      ]
    },
    {
      "cell_type": "code",
      "metadata": {
        "colab": {
          "base_uri": "https://localhost:8080/"
        },
        "id": "aWvyFAq7Ia5F",
        "outputId": "bc7ac3c3-4058-46e8-c92a-cba2555939d2"
      },
      "source": [
        "km.cluster_centers_"
      ],
      "execution_count": null,
      "outputs": [
        {
          "output_type": "execute_result",
          "data": {
            "text/plain": [
              "array([[-1.18518939, -1.22267902, -1.16102738, -1.13101714],\n",
              "       [-0.70922731, -0.61406005, -0.40249141,  0.91839895],\n",
              "       [ 1.59644066,  0.97606837,  0.0489325 , -0.78540457],\n",
              "       [ 0.73721295,  1.13018079,  1.33477166,  0.76486721],\n",
              "       [-0.1885552 , -0.27082804, -0.15713558, -0.22378414]])"
            ]
          },
          "metadata": {},
          "execution_count": 80
        }
      ]
    },
    {
      "cell_type": "code",
      "metadata": {
        "colab": {
          "base_uri": "https://localhost:8080/"
        },
        "id": "1xg8eeMmm44g",
        "outputId": "a339a997-dba2-46c5-bee9-9a4d08bc7e50"
      },
      "source": [
        "from sklearn import metrics\n",
        "from sklearn.metrics import pairwise_distances\n",
        "from sklearn.metrics import davies_bouldin_score\n",
        "from sklearn import datasets\n",
        "\n",
        "labels = km.labels_\n",
        "\n",
        "# Índice de Calinski-Harabasz \n",
        "\n",
        "# La puntuación es más alta cuando los conglomerados son densos y \n",
        "#  están bien separados, lo que se relaciona con un concepto estándar de conglomerado.\n",
        "\n",
        "# El índice de Calinski-Harabasz es generalmente más alto para los conglomerados convexos que otros conceptos de conglomerados.\n",
        "\n",
        "metrics.calinski_harabasz_score(X, labels)"
      ],
      "execution_count": null,
      "outputs": [
        {
          "output_type": "execute_result",
          "data": {
            "text/plain": [
              "33.654646900084394"
            ]
          },
          "metadata": {},
          "execution_count": 81
        }
      ]
    },
    {
      "cell_type": "code",
      "metadata": {
        "colab": {
          "base_uri": "https://localhost:8080/"
        },
        "id": "dov9GBicm6gO",
        "outputId": "c70208bb-6860-4d5f-b79a-00465f8d7262"
      },
      "source": [
        "# Indice de Davies-Bouldin \n",
        "\n",
        "# El índice se basa únicamente en cantidades y características inherentes al conjunto de datos, ya que su cálculo solo utiliza distancias puntuales.\n",
        "# El índice de Davies-Boulding es generalmente más alto para los conglomerados convexos que para otros conceptos de conglomerados.\n",
        "\n",
        "davies_bouldin_score(X, labels)"
      ],
      "execution_count": null,
      "outputs": [
        {
          "output_type": "execute_result",
          "data": {
            "text/plain": [
              "1.075359433718456"
            ]
          },
          "metadata": {},
          "execution_count": 82
        }
      ]
    },
    {
      "cell_type": "code",
      "metadata": {
        "colab": {
          "base_uri": "https://localhost:8080/"
        },
        "id": "Pm__fOR93YIU",
        "outputId": "b01e3281-2035-4d31-ab70-0a8c21a4c0f0"
      },
      "source": [
        "#   El coeficiente de silueta \n",
        "\n",
        "# La puntuación es más alta cuando los conglomerados son densos y están bien separados, lo que se relaciona con un concepto estándar de conglomerado.\n",
        "\n",
        "# El coeficiente de silueta es generalmente más alto para los conglomerados convexos que para otros conceptos de conglomerados.\n",
        "\n",
        "metrics.silhouette_score(X, labels, metric='euclidean')\n"
      ],
      "execution_count": null,
      "outputs": [
        {
          "output_type": "execute_result",
          "data": {
            "text/plain": [
              "0.30033305641024377"
            ]
          },
          "metadata": {},
          "execution_count": 83
        }
      ]
    },
    {
      "cell_type": "code",
      "metadata": {
        "id": "unqA57ihKpe6"
      },
      "source": [
        "# Busqueda de cluster optimos \n",
        "\n",
        "wcss = []\n",
        "\n",
        "for i in range(1,15):\n",
        "    km=KMeans(n_clusters=i, init='k-means++', max_iter = 1000, random_state=0)\n",
        "    km.fit(X)\n",
        "    wcss.append(km.inertia_)\n"
      ],
      "execution_count": null,
      "outputs": []
    },
    {
      "cell_type": "code",
      "metadata": {
        "colab": {
          "base_uri": "https://localhost:8080/",
          "height": 295
        },
        "id": "MRa1uWfcOs6P",
        "outputId": "64cf5694-5157-4a22-ad7d-7afa2276da86"
      },
      "source": [
        "plt.plot(range(1,15), wcss)\n",
        "plt.title('Elbow Method / codo de jambú')\n",
        "plt.xlabel('Números de clusters')\n",
        "plt.ylabel('wcss')\n",
        "plt.show()"
      ],
      "execution_count": null,
      "outputs": [
        {
          "output_type": "display_data",
          "data": {
            "image/png": "[encoded data removed]",
            "text/plain": [
              "<Figure size 432x288 with 1 Axes>"
            ]
          },
          "metadata": {}
        }
      ]
    },
    {
      "cell_type": "code",
      "metadata": {
        "colab": {
          "base_uri": "https://localhost:8080/"
        },
        "id": "ExhDFUAxNl8l",
        "outputId": "06d54e98-1d38-46c5-87e6-adf26bdecaf0"
      },
      "source": [
        "## Vemos el codo en 4 cluster\n",
        "km = KMeans(n_clusters = 4, init='k-means++')\n",
        "km.fit(X)\n",
        "\n",
        "labels = km.labels_\n",
        "\n",
        "mch = metrics.calinski_harabasz_score(X, labels)\n",
        "mdb = davies_bouldin_score(X, labels)\n",
        "ms = metrics.silhouette_score(X, labels, metric='euclidean')\n",
        "\n",
        "print('Indice Calinski harabasz :', mch, '\\n')\n",
        "print('Indice Davies Bouldin :', mdb, '\\n')\n",
        "print('Indice Silhouette :', ms, '\\n')"
      ],
      "execution_count": null,
      "outputs": [
        {
          "output_type": "stream",
          "name": "stdout",
          "text": [
            "Indice Calinski harabasz : 37.845016785196904 \n",
            "\n",
            "Indice Davies Bouldin : 0.9922999332310214 \n",
            "\n",
            "Indice Silhouette : 0.3387340896430468 \n",
            "\n"
          ]
        }
      ]
    },
    {
      "cell_type": "code",
      "metadata": {
        "colab": {
          "base_uri": "https://localhost:8080/",
          "height": 657
        },
        "id": "7WCVfl2qQm2b",
        "outputId": "b1f2846c-283d-43e9-b732-aeffd66eeed5"
      },
      "source": [
        "df[['Kmeas_clust']] = km.labels_\n",
        "df.head(10)"
      ],
      "execution_count": null,
      "outputs": [
        {
          "output_type": "stream",
          "name": "stderr",
          "text": [
            "/usr/local/lib/python3.7/dist-packages/pandas/core/indexing.py:659: SettingWithCopyWarning: \n",
            "A value is trying to be set on a copy of a slice from a DataFrame.\n",
            "Try using .loc[row_indexer,col_indexer] = value instead\n",
            "\n",
            "See the caveats in the documentation: https://pandas.pydata.org/pandas-docs/stable/user_guide/indexing.html#returning-a-view-versus-a-copy\n",
            "  self.obj[k] = np.nan\n",
            "/usr/local/lib/python3.7/dist-packages/ipykernel_launcher.py:1: SettingWithCopyWarning: \n",
            "A value is trying to be set on a copy of a slice from a DataFrame.\n",
            "Try using .loc[row_indexer,col_indexer] = value instead\n",
            "\n",
            "See the caveats in the documentation: https://pandas.pydata.org/pandas-docs/stable/user_guide/indexing.html#returning-a-view-versus-a-copy\n",
            "  \"\"\"Entry point for launching an IPython kernel.\n",
            "/usr/local/lib/python3.7/dist-packages/pandas/core/indexing.py:1743: SettingWithCopyWarning: \n",
            "A value is trying to be set on a copy of a slice from a DataFrame.\n",
            "Try using .loc[row_indexer,col_indexer] = value instead\n",
            "\n",
            "See the caveats in the documentation: https://pandas.pydata.org/pandas-docs/stable/user_guide/indexing.html#returning-a-view-versus-a-copy\n",
            "  isetter(ilocs[0], value)\n"
          ]
        },
        {
          "output_type": "execute_result",
          "data": {
            "text/html": [
              "<div>\n",
              "<style scoped>\n",
              "    .dataframe tbody tr th:only-of-type {\n",
              "        vertical-align: middle;\n",
              "    }\n",
              "\n",
              "    .dataframe tbody tr th {\n",
              "        vertical-align: top;\n",
              "    }\n",
              "\n",
              "    .dataframe thead th {\n",
              "        text-align: right;\n",
              "    }\n",
              "</style>\n",
              "<table border=\"1\" class=\"dataframe\">\n",
              "  <thead>\n",
              "    <tr style=\"text-align: right;\">\n",
              "      <th></th>\n",
              "      <th>Unnamed: 0</th>\n",
              "      <th>Murder</th>\n",
              "      <th>Assault</th>\n",
              "      <th>Rape</th>\n",
              "      <th>UrbanPop</th>\n",
              "      <th>Kmeas_clust</th>\n",
              "    </tr>\n",
              "  </thead>\n",
              "  <tbody>\n",
              "    <tr>\n",
              "      <th>0</th>\n",
              "      <td>Alabama</td>\n",
              "      <td>13.2</td>\n",
              "      <td>236</td>\n",
              "      <td>21.2</td>\n",
              "      <td>58</td>\n",
              "      <td>3</td>\n",
              "    </tr>\n",
              "    <tr>\n",
              "      <th>1</th>\n",
              "      <td>Alaska</td>\n",
              "      <td>10.0</td>\n",
              "      <td>263</td>\n",
              "      <td>44.5</td>\n",
              "      <td>48</td>\n",
              "      <td>2</td>\n",
              "    </tr>\n",
              "    <tr>\n",
              "      <th>2</th>\n",
              "      <td>Arizona</td>\n",
              "      <td>8.1</td>\n",
              "      <td>294</td>\n",
              "      <td>31.0</td>\n",
              "      <td>80</td>\n",
              "      <td>2</td>\n",
              "    </tr>\n",
              "    <tr>\n",
              "      <th>3</th>\n",
              "      <td>Arkansas</td>\n",
              "      <td>8.8</td>\n",
              "      <td>190</td>\n",
              "      <td>19.5</td>\n",
              "      <td>50</td>\n",
              "      <td>3</td>\n",
              "    </tr>\n",
              "    <tr>\n",
              "      <th>4</th>\n",
              "      <td>California</td>\n",
              "      <td>9.0</td>\n",
              "      <td>276</td>\n",
              "      <td>40.6</td>\n",
              "      <td>91</td>\n",
              "      <td>2</td>\n",
              "    </tr>\n",
              "    <tr>\n",
              "      <th>5</th>\n",
              "      <td>Colorado</td>\n",
              "      <td>7.9</td>\n",
              "      <td>204</td>\n",
              "      <td>38.7</td>\n",
              "      <td>78</td>\n",
              "      <td>2</td>\n",
              "    </tr>\n",
              "    <tr>\n",
              "      <th>6</th>\n",
              "      <td>Connecticut</td>\n",
              "      <td>3.3</td>\n",
              "      <td>110</td>\n",
              "      <td>11.1</td>\n",
              "      <td>77</td>\n",
              "      <td>0</td>\n",
              "    </tr>\n",
              "    <tr>\n",
              "      <th>7</th>\n",
              "      <td>Delaware</td>\n",
              "      <td>5.9</td>\n",
              "      <td>238</td>\n",
              "      <td>15.8</td>\n",
              "      <td>72</td>\n",
              "      <td>0</td>\n",
              "    </tr>\n",
              "    <tr>\n",
              "      <th>8</th>\n",
              "      <td>Florida</td>\n",
              "      <td>15.4</td>\n",
              "      <td>335</td>\n",
              "      <td>31.9</td>\n",
              "      <td>80</td>\n",
              "      <td>2</td>\n",
              "    </tr>\n",
              "    <tr>\n",
              "      <th>9</th>\n",
              "      <td>Georgia</td>\n",
              "      <td>17.4</td>\n",
              "      <td>211</td>\n",
              "      <td>25.8</td>\n",
              "      <td>60</td>\n",
              "      <td>3</td>\n",
              "    </tr>\n",
              "  </tbody>\n",
              "</table>\n",
              "</div>"
            ],
            "text/plain": [
              "    Unnamed: 0  Murder  Assault  Rape  UrbanPop  Kmeas_clust\n",
              "0      Alabama    13.2      236  21.2        58            3\n",
              "1       Alaska    10.0      263  44.5        48            2\n",
              "2      Arizona     8.1      294  31.0        80            2\n",
              "3     Arkansas     8.8      190  19.5        50            3\n",
              "4   California     9.0      276  40.6        91            2\n",
              "5     Colorado     7.9      204  38.7        78            2\n",
              "6  Connecticut     3.3      110  11.1        77            0\n",
              "7     Delaware     5.9      238  15.8        72            0\n",
              "8      Florida    15.4      335  31.9        80            2\n",
              "9      Georgia    17.4      211  25.8        60            3"
            ]
          },
          "metadata": {},
          "execution_count": 88
        }
      ]
    },
    {
      "cell_type": "markdown",
      "metadata": {
        "id": "94PohFAPSQAy"
      },
      "source": [
        "### Para tratar de observar la correcta clusterización, decidimos quedarnos con un modelo 3D de nuestros datos y pintar los correspondientes al mismo grupo a ver si eran identificables."
      ]
    },
    {
      "cell_type": "code",
      "metadata": {
        "colab": {
          "base_uri": "https://localhost:8080/",
          "height": 356
        },
        "id": "8f5OhIlyRIal",
        "outputId": "eb386c5e-50d8-4866-b1cf-ca67c43446ee"
      },
      "source": [
        "from sklearn.decomposition import PCA\n",
        "\n",
        "pca = PCA(n_components = 3)\n",
        "pca_aux = pca.fit_transform(X)\n",
        "pca_df = pd.DataFrame(data = pca_aux, columns = ['x','y','z'])\n",
        "pca_nombres = pd.concat([pca_df, df[['Kmeas_clust']]], axis=1)\n",
        "\n",
        "pca_nombres.head(10)"
      ],
      "execution_count": null,
      "outputs": [
        {
          "output_type": "execute_result",
          "data": {
            "text/html": [
              "<div>\n",
              "<style scoped>\n",
              "    .dataframe tbody tr th:only-of-type {\n",
              "        vertical-align: middle;\n",
              "    }\n",
              "\n",
              "    .dataframe tbody tr th {\n",
              "        vertical-align: top;\n",
              "    }\n",
              "\n",
              "    .dataframe thead th {\n",
              "        text-align: right;\n",
              "    }\n",
              "</style>\n",
              "<table border=\"1\" class=\"dataframe\">\n",
              "  <thead>\n",
              "    <tr style=\"text-align: right;\">\n",
              "      <th></th>\n",
              "      <th>x</th>\n",
              "      <th>y</th>\n",
              "      <th>z</th>\n",
              "      <th>Kmeas_clust</th>\n",
              "    </tr>\n",
              "  </thead>\n",
              "  <tbody>\n",
              "    <tr>\n",
              "      <th>0</th>\n",
              "      <td>0.985566</td>\n",
              "      <td>1.133392</td>\n",
              "      <td>-0.444269</td>\n",
              "      <td>3</td>\n",
              "    </tr>\n",
              "    <tr>\n",
              "      <th>1</th>\n",
              "      <td>1.950138</td>\n",
              "      <td>1.073213</td>\n",
              "      <td>2.040003</td>\n",
              "      <td>2</td>\n",
              "    </tr>\n",
              "    <tr>\n",
              "      <th>2</th>\n",
              "      <td>1.763164</td>\n",
              "      <td>-0.745957</td>\n",
              "      <td>0.054781</td>\n",
              "      <td>2</td>\n",
              "    </tr>\n",
              "    <tr>\n",
              "      <th>3</th>\n",
              "      <td>-0.141420</td>\n",
              "      <td>1.119797</td>\n",
              "      <td>0.114574</td>\n",
              "      <td>3</td>\n",
              "    </tr>\n",
              "    <tr>\n",
              "      <th>4</th>\n",
              "      <td>2.523980</td>\n",
              "      <td>-1.542934</td>\n",
              "      <td>0.598557</td>\n",
              "      <td>2</td>\n",
              "    </tr>\n",
              "    <tr>\n",
              "      <th>5</th>\n",
              "      <td>1.514563</td>\n",
              "      <td>-0.987555</td>\n",
              "      <td>1.095007</td>\n",
              "      <td>2</td>\n",
              "    </tr>\n",
              "    <tr>\n",
              "      <th>6</th>\n",
              "      <td>-1.358647</td>\n",
              "      <td>-1.088928</td>\n",
              "      <td>-0.643258</td>\n",
              "      <td>0</td>\n",
              "    </tr>\n",
              "    <tr>\n",
              "      <th>7</th>\n",
              "      <td>0.047709</td>\n",
              "      <td>-0.325359</td>\n",
              "      <td>-0.718633</td>\n",
              "      <td>0</td>\n",
              "    </tr>\n",
              "    <tr>\n",
              "      <th>8</th>\n",
              "      <td>3.013042</td>\n",
              "      <td>0.039229</td>\n",
              "      <td>-0.576829</td>\n",
              "      <td>2</td>\n",
              "    </tr>\n",
              "    <tr>\n",
              "      <th>9</th>\n",
              "      <td>1.639283</td>\n",
              "      <td>1.278942</td>\n",
              "      <td>-0.342460</td>\n",
              "      <td>3</td>\n",
              "    </tr>\n",
              "  </tbody>\n",
              "</table>\n",
              "</div>"
            ],
            "text/plain": [
              "          x         y         z  Kmeas_clust\n",
              "0  0.985566  1.133392 -0.444269            3\n",
              "1  1.950138  1.073213  2.040003            2\n",
              "2  1.763164 -0.745957  0.054781            2\n",
              "3 -0.141420  1.119797  0.114574            3\n",
              "4  2.523980 -1.542934  0.598557            2\n",
              "5  1.514563 -0.987555  1.095007            2\n",
              "6 -1.358647 -1.088928 -0.643258            0\n",
              "7  0.047709 -0.325359 -0.718633            0\n",
              "8  3.013042  0.039229 -0.576829            2\n",
              "9  1.639283  1.278942 -0.342460            3"
            ]
          },
          "metadata": {},
          "execution_count": 89
        }
      ]
    },
    {
      "cell_type": "code",
      "metadata": {
        "id": "pIn8sy2MT7qe",
        "colab": {
          "base_uri": "https://localhost:8080/",
          "height": 297
        },
        "outputId": "0c4e16f2-2563-42c0-be4e-2ff68029650d"
      },
      "source": [
        "import matplotlib.pyplot as plt\n",
        "import numpy as np\n",
        "from mpl_toolkits.mplot3d import axes3d\n",
        "\n",
        "fig = plt.figure()\n",
        "ax = fig.add_subplot(111, projection = '3d')\n",
        "\n",
        "x1 = np.array(pca_nombres.iloc[pca_nombres.values[:,3]==0,0])\n",
        "y1 = np.array(pca_nombres.iloc[pca_nombres.values[:,3]==0,1])\n",
        "z1 = np.array(pca_nombres.iloc[pca_nombres.values[:,3]==0,2])\n",
        "\n",
        "x2 = np.array(pca_nombres.iloc[pca_nombres.values[:,3]==1,0])\n",
        "y2 = np.array(pca_nombres.iloc[pca_nombres.values[:,3]==1,1])\n",
        "z2 = np.array(pca_nombres.iloc[pca_nombres.values[:,3]==1,3])\n",
        "\n",
        "x3 = np.array(pca_nombres.iloc[pca_nombres.values[:,3]==2,0])\n",
        "y3 = np.array(pca_nombres.iloc[pca_nombres.values[:,3]==2,1])\n",
        "z3 = np.array(pca_nombres.iloc[pca_nombres.values[:,3]==2,3])\n",
        "\n",
        "x4 = np.array(pca_nombres.iloc[pca_nombres.values[:,3]==3,0])\n",
        "y4 = np.array(pca_nombres.iloc[pca_nombres.values[:,3]==3,1])\n",
        "z4 = np.array(pca_nombres.iloc[pca_nombres.values[:,3]==3,3])\n",
        "\n",
        "ax.scatter(x1, y1, z1, c='b', marker='o', label='blue')\n",
        "ax.scatter(x2, y2, z2, c='g', marker='D', label='green')\n",
        "ax.scatter(x3, y3, z3, c='r', marker='x', label='red')\n",
        "ax.scatter(x4, y4, z4, c='y', marker='.', label='yellow')\n",
        "\n",
        "ax.set_xlabel('x axis')\n",
        "ax.set_ylabel('y axis')\n",
        "ax.set_zlabel('z axis')\n",
        "plt.title(\"Cluster Kmeans n=4\")\n",
        "plt.legend()\n",
        "plt.tight_layout()\n",
        "plt.show()"
      ],
      "execution_count": null,
      "outputs": [
        {
          "output_type": "display_data",
          "data": {
            "image/png": "[encoded data removed]",
            "text/plain": [
              "<Figure size 432x288 with 1 Axes>"
            ]
          },
          "metadata": {}
        }
      ]
    },
    {
      "cell_type": "markdown",
      "metadata": {
        "id": "fb7cGcnOx_xX"
      },
      "source": [
        "### Se puede ver que si bien hay puntos de los grupos cercanos a otros, se le puede ver una cierta pertenencia a su grupo.\n",
        "\n",
        "---\n",
        "\n",
        "\n",
        "\n",
        "---\n",
        "\n",
        "## Ahora probamos con otro tipo de clustering (Espectral)"
      ]
    },
    {
      "cell_type": "code",
      "metadata": {
        "id": "SmMb1fQlcyZt",
        "colab": {
          "base_uri": "https://localhost:8080/"
        },
        "outputId": "195b05ed-43b6-4a85-82af-680db5aadc6b"
      },
      "source": [
        "from sklearn.cluster import SpectralClustering\n",
        "\n",
        "sc = SpectralClustering(n_clusters = 4, n_init=100)\n",
        "sc.fit(X)\n",
        "\n",
        "labels = sc.labels_\n",
        "\n",
        "mch = metrics.calinski_harabasz_score(X, labels)\n",
        "mdb = davies_bouldin_score(X, labels)\n",
        "ms = metrics.silhouette_score(X, labels, metric='euclidean')\n",
        "\n",
        "print('Indice Calinski harabasz :', mch, '\\n')\n",
        "print('Indice Davies Bouldin :', mdb, '\\n')\n",
        "print('Indice Silhouette :', ms, '\\n')"
      ],
      "execution_count": null,
      "outputs": [
        {
          "output_type": "stream",
          "name": "stdout",
          "text": [
            "Indice Calinski harabasz : 36.058935328888865 \n",
            "\n",
            "Indice Davies Bouldin : 0.9251475496073578 \n",
            "\n",
            "Indice Silhouette : 0.33741008812835427 \n",
            "\n"
          ]
        }
      ]
    },
    {
      "cell_type": "code",
      "metadata": {
        "colab": {
          "base_uri": "https://localhost:8080/",
          "height": 657
        },
        "id": "4eSO3KZuz78G",
        "outputId": "dc04a41b-ddf4-408f-e619-63372e6d1a9d"
      },
      "source": [
        "df[['Sc_clust']] = sc.labels_\n",
        "df.head(10)"
      ],
      "execution_count": null,
      "outputs": [
        {
          "output_type": "stream",
          "name": "stderr",
          "text": [
            "/usr/local/lib/python3.7/dist-packages/pandas/core/indexing.py:659: SettingWithCopyWarning: \n",
            "A value is trying to be set on a copy of a slice from a DataFrame.\n",
            "Try using .loc[row_indexer,col_indexer] = value instead\n",
            "\n",
            "See the caveats in the documentation: https://pandas.pydata.org/pandas-docs/stable/user_guide/indexing.html#returning-a-view-versus-a-copy\n",
            "  self.obj[k] = np.nan\n",
            "/usr/local/lib/python3.7/dist-packages/ipykernel_launcher.py:1: SettingWithCopyWarning: \n",
            "A value is trying to be set on a copy of a slice from a DataFrame.\n",
            "Try using .loc[row_indexer,col_indexer] = value instead\n",
            "\n",
            "See the caveats in the documentation: https://pandas.pydata.org/pandas-docs/stable/user_guide/indexing.html#returning-a-view-versus-a-copy\n",
            "  \"\"\"Entry point for launching an IPython kernel.\n",
            "/usr/local/lib/python3.7/dist-packages/pandas/core/indexing.py:1743: SettingWithCopyWarning: \n",
            "A value is trying to be set on a copy of a slice from a DataFrame.\n",
            "Try using .loc[row_indexer,col_indexer] = value instead\n",
            "\n",
            "See the caveats in the documentation: https://pandas.pydata.org/pandas-docs/stable/user_guide/indexing.html#returning-a-view-versus-a-copy\n",
            "  isetter(ilocs[0], value)\n"
          ]
        },
        {
          "output_type": "execute_result",
          "data": {
            "text/html": [
              "<div>\n",
              "<style scoped>\n",
              "    .dataframe tbody tr th:only-of-type {\n",
              "        vertical-align: middle;\n",
              "    }\n",
              "\n",
              "    .dataframe tbody tr th {\n",
              "        vertical-align: top;\n",
              "    }\n",
              "\n",
              "    .dataframe thead th {\n",
              "        text-align: right;\n",
              "    }\n",
              "</style>\n",
              "<table border=\"1\" class=\"dataframe\">\n",
              "  <thead>\n",
              "    <tr style=\"text-align: right;\">\n",
              "      <th></th>\n",
              "      <th>Unnamed: 0</th>\n",
              "      <th>Murder</th>\n",
              "      <th>Assault</th>\n",
              "      <th>Rape</th>\n",
              "      <th>UrbanPop</th>\n",
              "      <th>Kmeas_clust</th>\n",
              "      <th>Sc_clust</th>\n",
              "    </tr>\n",
              "  </thead>\n",
              "  <tbody>\n",
              "    <tr>\n",
              "      <th>0</th>\n",
              "      <td>Alabama</td>\n",
              "      <td>13.2</td>\n",
              "      <td>236</td>\n",
              "      <td>21.2</td>\n",
              "      <td>58</td>\n",
              "      <td>3</td>\n",
              "      <td>2</td>\n",
              "    </tr>\n",
              "    <tr>\n",
              "      <th>1</th>\n",
              "      <td>Alaska</td>\n",
              "      <td>10.0</td>\n",
              "      <td>263</td>\n",
              "      <td>44.5</td>\n",
              "      <td>48</td>\n",
              "      <td>2</td>\n",
              "      <td>1</td>\n",
              "    </tr>\n",
              "    <tr>\n",
              "      <th>2</th>\n",
              "      <td>Arizona</td>\n",
              "      <td>8.1</td>\n",
              "      <td>294</td>\n",
              "      <td>31.0</td>\n",
              "      <td>80</td>\n",
              "      <td>2</td>\n",
              "      <td>1</td>\n",
              "    </tr>\n",
              "    <tr>\n",
              "      <th>3</th>\n",
              "      <td>Arkansas</td>\n",
              "      <td>8.8</td>\n",
              "      <td>190</td>\n",
              "      <td>19.5</td>\n",
              "      <td>50</td>\n",
              "      <td>3</td>\n",
              "      <td>0</td>\n",
              "    </tr>\n",
              "    <tr>\n",
              "      <th>4</th>\n",
              "      <td>California</td>\n",
              "      <td>9.0</td>\n",
              "      <td>276</td>\n",
              "      <td>40.6</td>\n",
              "      <td>91</td>\n",
              "      <td>2</td>\n",
              "      <td>1</td>\n",
              "    </tr>\n",
              "    <tr>\n",
              "      <th>5</th>\n",
              "      <td>Colorado</td>\n",
              "      <td>7.9</td>\n",
              "      <td>204</td>\n",
              "      <td>38.7</td>\n",
              "      <td>78</td>\n",
              "      <td>2</td>\n",
              "      <td>1</td>\n",
              "    </tr>\n",
              "    <tr>\n",
              "      <th>6</th>\n",
              "      <td>Connecticut</td>\n",
              "      <td>3.3</td>\n",
              "      <td>110</td>\n",
              "      <td>11.1</td>\n",
              "      <td>77</td>\n",
              "      <td>0</td>\n",
              "      <td>0</td>\n",
              "    </tr>\n",
              "    <tr>\n",
              "      <th>7</th>\n",
              "      <td>Delaware</td>\n",
              "      <td>5.9</td>\n",
              "      <td>238</td>\n",
              "      <td>15.8</td>\n",
              "      <td>72</td>\n",
              "      <td>0</td>\n",
              "      <td>0</td>\n",
              "    </tr>\n",
              "    <tr>\n",
              "      <th>8</th>\n",
              "      <td>Florida</td>\n",
              "      <td>15.4</td>\n",
              "      <td>335</td>\n",
              "      <td>31.9</td>\n",
              "      <td>80</td>\n",
              "      <td>2</td>\n",
              "      <td>1</td>\n",
              "    </tr>\n",
              "    <tr>\n",
              "      <th>9</th>\n",
              "      <td>Georgia</td>\n",
              "      <td>17.4</td>\n",
              "      <td>211</td>\n",
              "      <td>25.8</td>\n",
              "      <td>60</td>\n",
              "      <td>3</td>\n",
              "      <td>2</td>\n",
              "    </tr>\n",
              "  </tbody>\n",
              "</table>\n",
              "</div>"
            ],
            "text/plain": [
              "    Unnamed: 0  Murder  Assault  Rape  UrbanPop  Kmeas_clust  Sc_clust\n",
              "0      Alabama    13.2      236  21.2        58            3         2\n",
              "1       Alaska    10.0      263  44.5        48            2         1\n",
              "2      Arizona     8.1      294  31.0        80            2         1\n",
              "3     Arkansas     8.8      190  19.5        50            3         0\n",
              "4   California     9.0      276  40.6        91            2         1\n",
              "5     Colorado     7.9      204  38.7        78            2         1\n",
              "6  Connecticut     3.3      110  11.1        77            0         0\n",
              "7     Delaware     5.9      238  15.8        72            0         0\n",
              "8      Florida    15.4      335  31.9        80            2         1\n",
              "9      Georgia    17.4      211  25.8        60            3         2"
            ]
          },
          "metadata": {},
          "execution_count": 92
        }
      ]
    },
    {
      "cell_type": "markdown",
      "metadata": {
        "id": "z37A5rvL2h6P"
      },
      "source": [
        "\n",
        "\n",
        "---\n",
        "\n",
        "\n",
        "\n",
        "---\n",
        "\n",
        "### Ahora agregamos al clustering un nuevo atributo, siendo la suma de los crimenes para ver como nos afecta."
      ]
    },
    {
      "cell_type": "code",
      "metadata": {
        "colab": {
          "base_uri": "https://localhost:8080/",
          "height": 503
        },
        "id": "oDsjYzZL8lRQ",
        "outputId": "b6b3bef7-9bc4-4576-f5c4-9e4f1afa3a9a"
      },
      "source": [
        "df[['Tot_crim']] = df['Assault']+df['Murder']+df['Rape']\n",
        "df.head()"
      ],
      "execution_count": null,
      "outputs": [
        {
          "output_type": "stream",
          "name": "stderr",
          "text": [
            "/usr/local/lib/python3.7/dist-packages/pandas/core/indexing.py:659: SettingWithCopyWarning: \n",
            "A value is trying to be set on a copy of a slice from a DataFrame.\n",
            "Try using .loc[row_indexer,col_indexer] = value instead\n",
            "\n",
            "See the caveats in the documentation: https://pandas.pydata.org/pandas-docs/stable/user_guide/indexing.html#returning-a-view-versus-a-copy\n",
            "  self.obj[k] = np.nan\n",
            "/usr/local/lib/python3.7/dist-packages/ipykernel_launcher.py:1: SettingWithCopyWarning: \n",
            "A value is trying to be set on a copy of a slice from a DataFrame.\n",
            "Try using .loc[row_indexer,col_indexer] = value instead\n",
            "\n",
            "See the caveats in the documentation: https://pandas.pydata.org/pandas-docs/stable/user_guide/indexing.html#returning-a-view-versus-a-copy\n",
            "  \"\"\"Entry point for launching an IPython kernel.\n",
            "/usr/local/lib/python3.7/dist-packages/pandas/core/indexing.py:1743: SettingWithCopyWarning: \n",
            "A value is trying to be set on a copy of a slice from a DataFrame.\n",
            "Try using .loc[row_indexer,col_indexer] = value instead\n",
            "\n",
            "See the caveats in the documentation: https://pandas.pydata.org/pandas-docs/stable/user_guide/indexing.html#returning-a-view-versus-a-copy\n",
            "  isetter(ilocs[0], value)\n"
          ]
        },
        {
          "output_type": "execute_result",
          "data": {
            "text/html": [
              "<div>\n",
              "<style scoped>\n",
              "    .dataframe tbody tr th:only-of-type {\n",
              "        vertical-align: middle;\n",
              "    }\n",
              "\n",
              "    .dataframe tbody tr th {\n",
              "        vertical-align: top;\n",
              "    }\n",
              "\n",
              "    .dataframe thead th {\n",
              "        text-align: right;\n",
              "    }\n",
              "</style>\n",
              "<table border=\"1\" class=\"dataframe\">\n",
              "  <thead>\n",
              "    <tr style=\"text-align: right;\">\n",
              "      <th></th>\n",
              "      <th>Unnamed: 0</th>\n",
              "      <th>Murder</th>\n",
              "      <th>Assault</th>\n",
              "      <th>Rape</th>\n",
              "      <th>UrbanPop</th>\n",
              "      <th>Tot_crim</th>\n",
              "    </tr>\n",
              "  </thead>\n",
              "  <tbody>\n",
              "    <tr>\n",
              "      <th>0</th>\n",
              "      <td>Alabama</td>\n",
              "      <td>13.2</td>\n",
              "      <td>236</td>\n",
              "      <td>21.2</td>\n",
              "      <td>58</td>\n",
              "      <td>270.4</td>\n",
              "    </tr>\n",
              "    <tr>\n",
              "      <th>1</th>\n",
              "      <td>Alaska</td>\n",
              "      <td>10.0</td>\n",
              "      <td>263</td>\n",
              "      <td>44.5</td>\n",
              "      <td>48</td>\n",
              "      <td>317.5</td>\n",
              "    </tr>\n",
              "    <tr>\n",
              "      <th>2</th>\n",
              "      <td>Arizona</td>\n",
              "      <td>8.1</td>\n",
              "      <td>294</td>\n",
              "      <td>31.0</td>\n",
              "      <td>80</td>\n",
              "      <td>333.1</td>\n",
              "    </tr>\n",
              "    <tr>\n",
              "      <th>3</th>\n",
              "      <td>Arkansas</td>\n",
              "      <td>8.8</td>\n",
              "      <td>190</td>\n",
              "      <td>19.5</td>\n",
              "      <td>50</td>\n",
              "      <td>218.3</td>\n",
              "    </tr>\n",
              "    <tr>\n",
              "      <th>4</th>\n",
              "      <td>California</td>\n",
              "      <td>9.0</td>\n",
              "      <td>276</td>\n",
              "      <td>40.6</td>\n",
              "      <td>91</td>\n",
              "      <td>325.6</td>\n",
              "    </tr>\n",
              "  </tbody>\n",
              "</table>\n",
              "</div>"
            ],
            "text/plain": [
              "   Unnamed: 0  Murder  Assault  Rape  UrbanPop  Tot_crim\n",
              "0     Alabama    13.2      236  21.2        58     270.4\n",
              "1      Alaska    10.0      263  44.5        48     317.5\n",
              "2     Arizona     8.1      294  31.0        80     333.1\n",
              "3    Arkansas     8.8      190  19.5        50     218.3\n",
              "4  California     9.0      276  40.6        91     325.6"
            ]
          },
          "metadata": {},
          "execution_count": 96
        }
      ]
    },
    {
      "cell_type": "code",
      "metadata": {
        "colab": {
          "base_uri": "https://localhost:8080/",
          "height": 295
        },
        "id": "b4E4sV3k7Tc0",
        "outputId": "8671d1c7-73d2-4666-e90c-e395d5d5ed0a"
      },
      "source": [
        "\n",
        "wcss = []\n",
        "\n",
        "for i in range(1,15):\n",
        "    km=KMeans(n_clusters=i, init='k-means++', max_iter = 1000, random_state=0)\n",
        "    km.fit(X)\n",
        "    wcss.append(km.inertia_)\n",
        "\n",
        "plt.plot(range(1,15), wcss)\n",
        "plt.title('Elbow Method / codo de jambú')\n",
        "plt.xlabel('Números de clusters')\n",
        "plt.ylabel('wcss')\n",
        "plt.show()"
      ],
      "execution_count": null,
      "outputs": [
        {
          "output_type": "display_data",
          "data": {
            "image/png": "[encoded data removed]",
            "text/plain": [
              "<Figure size 432x288 with 1 Axes>"
            ]
          },
          "metadata": {}
        }
      ]
    },
    {
      "cell_type": "code",
      "metadata": {
        "colab": {
          "base_uri": "https://localhost:8080/"
        },
        "id": "-E0wxIwA7eNt",
        "outputId": "2205cc4d-54bb-4dd1-e2c9-e467b2611e4e"
      },
      "source": [
        "km = KMeans(n_clusters = 4, init='k-means++')\n",
        "km.fit(X)\n",
        "\n",
        "labels = km.labels_\n",
        "\n",
        "mch = metrics.calinski_harabasz_score(X, labels)\n",
        "mdb = davies_bouldin_score(X, labels)\n",
        "ms = metrics.silhouette_score(X, labels, metric='euclidean')\n",
        "\n",
        "print('Indice Calinski harabasz :', mch, '\\n')\n",
        "print('Indice Davies Bouldin :', mdb, '\\n')\n",
        "print('Indice Silhouette :', ms, '\\n')"
      ],
      "execution_count": null,
      "outputs": [
        {
          "output_type": "stream",
          "name": "stdout",
          "text": [
            "Indice Calinski harabasz : 37.94972059900647 \n",
            "\n",
            "Indice Davies Bouldin : 0.9969668410088918 \n",
            "\n",
            "Indice Silhouette : 0.3396889143334439 \n",
            "\n"
          ]
        }
      ]
    },
    {
      "cell_type": "code",
      "metadata": {
        "colab": {
          "base_uri": "https://localhost:8080/",
          "height": 657
        },
        "id": "97HlLvNE7m5S",
        "outputId": "bd54fc70-06d9-4058-9554-642acdac4445"
      },
      "source": [
        "df[['Kmeas_clust']] = km.labels_\n",
        "df.head(10)"
      ],
      "execution_count": null,
      "outputs": [
        {
          "output_type": "stream",
          "name": "stderr",
          "text": [
            "/usr/local/lib/python3.7/dist-packages/pandas/core/indexing.py:659: SettingWithCopyWarning: \n",
            "A value is trying to be set on a copy of a slice from a DataFrame.\n",
            "Try using .loc[row_indexer,col_indexer] = value instead\n",
            "\n",
            "See the caveats in the documentation: https://pandas.pydata.org/pandas-docs/stable/user_guide/indexing.html#returning-a-view-versus-a-copy\n",
            "  self.obj[k] = np.nan\n",
            "/usr/local/lib/python3.7/dist-packages/ipykernel_launcher.py:1: SettingWithCopyWarning: \n",
            "A value is trying to be set on a copy of a slice from a DataFrame.\n",
            "Try using .loc[row_indexer,col_indexer] = value instead\n",
            "\n",
            "See the caveats in the documentation: https://pandas.pydata.org/pandas-docs/stable/user_guide/indexing.html#returning-a-view-versus-a-copy\n",
            "  \"\"\"Entry point for launching an IPython kernel.\n",
            "/usr/local/lib/python3.7/dist-packages/pandas/core/indexing.py:1743: SettingWithCopyWarning: \n",
            "A value is trying to be set on a copy of a slice from a DataFrame.\n",
            "Try using .loc[row_indexer,col_indexer] = value instead\n",
            "\n",
            "See the caveats in the documentation: https://pandas.pydata.org/pandas-docs/stable/user_guide/indexing.html#returning-a-view-versus-a-copy\n",
            "  isetter(ilocs[0], value)\n"
          ]
        },
        {
          "output_type": "execute_result",
          "data": {
            "text/html": [
              "<div>\n",
              "<style scoped>\n",
              "    .dataframe tbody tr th:only-of-type {\n",
              "        vertical-align: middle;\n",
              "    }\n",
              "\n",
              "    .dataframe tbody tr th {\n",
              "        vertical-align: top;\n",
              "    }\n",
              "\n",
              "    .dataframe thead th {\n",
              "        text-align: right;\n",
              "    }\n",
              "</style>\n",
              "<table border=\"1\" class=\"dataframe\">\n",
              "  <thead>\n",
              "    <tr style=\"text-align: right;\">\n",
              "      <th></th>\n",
              "      <th>Unnamed: 0</th>\n",
              "      <th>Murder</th>\n",
              "      <th>Assault</th>\n",
              "      <th>Rape</th>\n",
              "      <th>UrbanPop</th>\n",
              "      <th>Tot_crim</th>\n",
              "      <th>Kmeas_clust</th>\n",
              "    </tr>\n",
              "  </thead>\n",
              "  <tbody>\n",
              "    <tr>\n",
              "      <th>0</th>\n",
              "      <td>Alabama</td>\n",
              "      <td>13.2</td>\n",
              "      <td>236</td>\n",
              "      <td>21.2</td>\n",
              "      <td>58</td>\n",
              "      <td>270.4</td>\n",
              "      <td>3</td>\n",
              "    </tr>\n",
              "    <tr>\n",
              "      <th>1</th>\n",
              "      <td>Alaska</td>\n",
              "      <td>10.0</td>\n",
              "      <td>263</td>\n",
              "      <td>44.5</td>\n",
              "      <td>48</td>\n",
              "      <td>317.5</td>\n",
              "      <td>1</td>\n",
              "    </tr>\n",
              "    <tr>\n",
              "      <th>2</th>\n",
              "      <td>Arizona</td>\n",
              "      <td>8.1</td>\n",
              "      <td>294</td>\n",
              "      <td>31.0</td>\n",
              "      <td>80</td>\n",
              "      <td>333.1</td>\n",
              "      <td>1</td>\n",
              "    </tr>\n",
              "    <tr>\n",
              "      <th>3</th>\n",
              "      <td>Arkansas</td>\n",
              "      <td>8.8</td>\n",
              "      <td>190</td>\n",
              "      <td>19.5</td>\n",
              "      <td>50</td>\n",
              "      <td>218.3</td>\n",
              "      <td>3</td>\n",
              "    </tr>\n",
              "    <tr>\n",
              "      <th>4</th>\n",
              "      <td>California</td>\n",
              "      <td>9.0</td>\n",
              "      <td>276</td>\n",
              "      <td>40.6</td>\n",
              "      <td>91</td>\n",
              "      <td>325.6</td>\n",
              "      <td>1</td>\n",
              "    </tr>\n",
              "    <tr>\n",
              "      <th>5</th>\n",
              "      <td>Colorado</td>\n",
              "      <td>7.9</td>\n",
              "      <td>204</td>\n",
              "      <td>38.7</td>\n",
              "      <td>78</td>\n",
              "      <td>250.6</td>\n",
              "      <td>1</td>\n",
              "    </tr>\n",
              "    <tr>\n",
              "      <th>6</th>\n",
              "      <td>Connecticut</td>\n",
              "      <td>3.3</td>\n",
              "      <td>110</td>\n",
              "      <td>11.1</td>\n",
              "      <td>77</td>\n",
              "      <td>124.4</td>\n",
              "      <td>0</td>\n",
              "    </tr>\n",
              "    <tr>\n",
              "      <th>7</th>\n",
              "      <td>Delaware</td>\n",
              "      <td>5.9</td>\n",
              "      <td>238</td>\n",
              "      <td>15.8</td>\n",
              "      <td>72</td>\n",
              "      <td>259.7</td>\n",
              "      <td>0</td>\n",
              "    </tr>\n",
              "    <tr>\n",
              "      <th>8</th>\n",
              "      <td>Florida</td>\n",
              "      <td>15.4</td>\n",
              "      <td>335</td>\n",
              "      <td>31.9</td>\n",
              "      <td>80</td>\n",
              "      <td>382.3</td>\n",
              "      <td>1</td>\n",
              "    </tr>\n",
              "    <tr>\n",
              "      <th>9</th>\n",
              "      <td>Georgia</td>\n",
              "      <td>17.4</td>\n",
              "      <td>211</td>\n",
              "      <td>25.8</td>\n",
              "      <td>60</td>\n",
              "      <td>254.2</td>\n",
              "      <td>3</td>\n",
              "    </tr>\n",
              "  </tbody>\n",
              "</table>\n",
              "</div>"
            ],
            "text/plain": [
              "    Unnamed: 0  Murder  Assault  Rape  UrbanPop  Tot_crim  Kmeas_clust\n",
              "0      Alabama    13.2      236  21.2        58     270.4            3\n",
              "1       Alaska    10.0      263  44.5        48     317.5            1\n",
              "2      Arizona     8.1      294  31.0        80     333.1            1\n",
              "3     Arkansas     8.8      190  19.5        50     218.3            3\n",
              "4   California     9.0      276  40.6        91     325.6            1\n",
              "5     Colorado     7.9      204  38.7        78     250.6            1\n",
              "6  Connecticut     3.3      110  11.1        77     124.4            0\n",
              "7     Delaware     5.9      238  15.8        72     259.7            0\n",
              "8      Florida    15.4      335  31.9        80     382.3            1\n",
              "9      Georgia    17.4      211  25.8        60     254.2            3"
            ]
          },
          "metadata": {},
          "execution_count": 99
        }
      ]
    },
    {
      "cell_type": "code",
      "metadata": {
        "colab": {
          "base_uri": "https://localhost:8080/",
          "height": 356
        },
        "id": "Hp-NBw687sYf",
        "outputId": "4336e90f-1154-41c4-cc4e-a013128b2308"
      },
      "source": [
        "from sklearn.decomposition import PCA\n",
        "\n",
        "pca = PCA(n_components = 3)\n",
        "pca_aux = pca.fit_transform(X)\n",
        "pca_df = pd.DataFrame(data = pca_aux, columns = ['x','y','z'])\n",
        "pca_nombres = pd.concat([pca_df, df[['Kmeas_clust']]], axis=1)\n",
        "\n",
        "pca_nombres.head(10)"
      ],
      "execution_count": null,
      "outputs": [
        {
          "output_type": "execute_result",
          "data": {
            "text/html": [
              "<div>\n",
              "<style scoped>\n",
              "    .dataframe tbody tr th:only-of-type {\n",
              "        vertical-align: middle;\n",
              "    }\n",
              "\n",
              "    .dataframe tbody tr th {\n",
              "        vertical-align: top;\n",
              "    }\n",
              "\n",
              "    .dataframe thead th {\n",
              "        text-align: right;\n",
              "    }\n",
              "</style>\n",
              "<table border=\"1\" class=\"dataframe\">\n",
              "  <thead>\n",
              "    <tr style=\"text-align: right;\">\n",
              "      <th></th>\n",
              "      <th>x</th>\n",
              "      <th>y</th>\n",
              "      <th>z</th>\n",
              "      <th>Kmeas_clust</th>\n",
              "    </tr>\n",
              "  </thead>\n",
              "  <tbody>\n",
              "    <tr>\n",
              "      <th>0</th>\n",
              "      <td>0.985566</td>\n",
              "      <td>1.133392</td>\n",
              "      <td>-0.444269</td>\n",
              "      <td>3</td>\n",
              "    </tr>\n",
              "    <tr>\n",
              "      <th>1</th>\n",
              "      <td>1.950138</td>\n",
              "      <td>1.073213</td>\n",
              "      <td>2.040003</td>\n",
              "      <td>1</td>\n",
              "    </tr>\n",
              "    <tr>\n",
              "      <th>2</th>\n",
              "      <td>1.763164</td>\n",
              "      <td>-0.745957</td>\n",
              "      <td>0.054781</td>\n",
              "      <td>1</td>\n",
              "    </tr>\n",
              "    <tr>\n",
              "      <th>3</th>\n",
              "      <td>-0.141420</td>\n",
              "      <td>1.119797</td>\n",
              "      <td>0.114574</td>\n",
              "      <td>3</td>\n",
              "    </tr>\n",
              "    <tr>\n",
              "      <th>4</th>\n",
              "      <td>2.523980</td>\n",
              "      <td>-1.542934</td>\n",
              "      <td>0.598557</td>\n",
              "      <td>1</td>\n",
              "    </tr>\n",
              "    <tr>\n",
              "      <th>5</th>\n",
              "      <td>1.514563</td>\n",
              "      <td>-0.987555</td>\n",
              "      <td>1.095007</td>\n",
              "      <td>1</td>\n",
              "    </tr>\n",
              "    <tr>\n",
              "      <th>6</th>\n",
              "      <td>-1.358647</td>\n",
              "      <td>-1.088928</td>\n",
              "      <td>-0.643258</td>\n",
              "      <td>0</td>\n",
              "    </tr>\n",
              "    <tr>\n",
              "      <th>7</th>\n",
              "      <td>0.047709</td>\n",
              "      <td>-0.325359</td>\n",
              "      <td>-0.718633</td>\n",
              "      <td>0</td>\n",
              "    </tr>\n",
              "    <tr>\n",
              "      <th>8</th>\n",
              "      <td>3.013042</td>\n",
              "      <td>0.039229</td>\n",
              "      <td>-0.576829</td>\n",
              "      <td>1</td>\n",
              "    </tr>\n",
              "    <tr>\n",
              "      <th>9</th>\n",
              "      <td>1.639283</td>\n",
              "      <td>1.278942</td>\n",
              "      <td>-0.342460</td>\n",
              "      <td>3</td>\n",
              "    </tr>\n",
              "  </tbody>\n",
              "</table>\n",
              "</div>"
            ],
            "text/plain": [
              "          x         y         z  Kmeas_clust\n",
              "0  0.985566  1.133392 -0.444269            3\n",
              "1  1.950138  1.073213  2.040003            1\n",
              "2  1.763164 -0.745957  0.054781            1\n",
              "3 -0.141420  1.119797  0.114574            3\n",
              "4  2.523980 -1.542934  0.598557            1\n",
              "5  1.514563 -0.987555  1.095007            1\n",
              "6 -1.358647 -1.088928 -0.643258            0\n",
              "7  0.047709 -0.325359 -0.718633            0\n",
              "8  3.013042  0.039229 -0.576829            1\n",
              "9  1.639283  1.278942 -0.342460            3"
            ]
          },
          "metadata": {},
          "execution_count": 100
        }
      ]
    },
    {
      "cell_type": "code",
      "metadata": {
        "colab": {
          "base_uri": "https://localhost:8080/",
          "height": 297
        },
        "id": "JRAtrXnQ7vs-",
        "outputId": "6fe26040-8d0d-40a4-f077-a889d4b7ce48"
      },
      "source": [
        "\n",
        "fig = plt.figure()\n",
        "ax = fig.add_subplot(111, projection = '3d')\n",
        "\n",
        "x1 = np.array(pca_nombres.iloc[pca_nombres.values[:,3]==0,0])\n",
        "y1 = np.array(pca_nombres.iloc[pca_nombres.values[:,3]==0,1])\n",
        "z1 = np.array(pca_nombres.iloc[pca_nombres.values[:,3]==0,2])\n",
        "\n",
        "x2 = np.array(pca_nombres.iloc[pca_nombres.values[:,3]==1,0])\n",
        "y2 = np.array(pca_nombres.iloc[pca_nombres.values[:,3]==1,1])\n",
        "z2 = np.array(pca_nombres.iloc[pca_nombres.values[:,3]==1,3])\n",
        "\n",
        "x3 = np.array(pca_nombres.iloc[pca_nombres.values[:,3]==2,0])\n",
        "y3 = np.array(pca_nombres.iloc[pca_nombres.values[:,3]==2,1])\n",
        "z3 = np.array(pca_nombres.iloc[pca_nombres.values[:,3]==2,3])\n",
        "\n",
        "x4 = np.array(pca_nombres.iloc[pca_nombres.values[:,3]==3,0])\n",
        "y4 = np.array(pca_nombres.iloc[pca_nombres.values[:,3]==3,1])\n",
        "z4 = np.array(pca_nombres.iloc[pca_nombres.values[:,3]==3,3])\n",
        "\n",
        "ax.scatter(x1, y1, z1, c='b', marker='o', label='blue')\n",
        "ax.scatter(x2, y2, z2, c='g', marker='D', label='green')\n",
        "ax.scatter(x3, y3, z3, c='r', marker='x', label='red')\n",
        "ax.scatter(x4, y4, z4, c='y', marker='.', label='yellow')\n",
        "\n",
        "ax.set_xlabel('x axis')\n",
        "ax.set_ylabel('y axis')\n",
        "ax.set_zlabel('z axis')\n",
        "plt.title(\"Cluster Kmeans n=4\")\n",
        "plt.legend()\n",
        "plt.tight_layout()\n",
        "plt.show()"
      ],
      "execution_count": null,
      "outputs": [
        {
          "output_type": "display_data",
          "data": {
            "image/png": "[encoded data removed]",
            "text/plain": [
              "<Figure size 432x288 with 1 Axes>"
            ]
          },
          "metadata": {}
        }
      ]
    }
  ]
}