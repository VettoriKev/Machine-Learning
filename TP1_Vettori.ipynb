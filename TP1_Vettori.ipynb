{
  "nbformat": 4,
  "nbformat_minor": 0,
  "metadata": {
    "colab": {
      "name": "TP1-Vettori.ipynb",
      "provenance": [],
      "collapsed_sections": [],
      "toc_visible": true,
      "authorship_tag": "ABX9TyPsx7QaQAF3FL2YvDSn9tgT",
      "include_colab_link": true
    },
    "kernelspec": {
      "name": "python3",
      "display_name": "Python 3"
    },
    "language_info": {
      "name": "python"
    }
  },
  "cells": [
    {
      "cell_type": "markdown",
      "metadata": {
        "id": "view-in-github",
        "colab_type": "text"
      },
      "source": [
        "<a href=\"https://colab.research.google.com/github/VettoriKev/Machine-Learning/blob/main/TP1_Vettori.ipynb\" target=\"_parent\"><img src=\"https://colab.research.google.com/assets/colab-badge.svg\" alt=\"Open In Colab\"/></a>"
      ]
    },
    {
      "cell_type": "markdown",
      "metadata": {
        "id": "j19t8mOGQjbx"
      },
      "source": [
        "# Trabajo practico N°1\n",
        "## Cuarteto de Anscombe\n",
        "\n",
        "Primero graficamos las tablas de dato independientemente, pero antes las cargamos."
      ]
    },
    {
      "cell_type": "code",
      "metadata": {
        "id": "6D9C1jioTeYW",
        "colab": {
          "base_uri": "https://localhost:8080/"
        },
        "outputId": "6a70ce1a-f451-49b5-ec4f-87206332e15c"
      },
      "source": [
        "import pandas as pd\n",
        "\n",
        "Tabla1 = pd.DataFrame({\"X\":[10,8,13,9,11,14,6,4,12,7,5],\"Y\":[8.04,6.95,7.58,8.81,8.33,9.96,7.24,4.26,10.84,4.82,5.68]})\n",
        "Tabla2 = pd.DataFrame({\"X\":[10,8,13,9,11,14,6,4,12,7,5],\"Y\":[9.14,8.14,8.74,8.77,9.26,8.10,6.13,3.10,9.13,7.26,4.74]})\n",
        "Tabla3 = pd.DataFrame({\"X\":[10,8,13,9,11,14,6,4,12,7,5],\"Y\":[7.46,6.77,12.74,7.11,7.81,8.84,6.08,5.39,8.15,6.42,5.73]})\n",
        "Tabla4 = pd.DataFrame({\"X\":[8,8,8,8,8,8,8,19,8,8,8],\"Y\":[6.58,5.76,7.71,8.84,8.47,7.04,5.25,12.50,5.56,7.91,6.89]})\n",
        "\n",
        "Puntos = pd.DataFrame({\"X\":[16,8,16,16],\"Y\":[8,6,10,6]})\n",
        "\n",
        "print(\"  Tabla 1 \\n\",Tabla1,\"\\n \\n \",\"  Tabla 2 \\n\",Tabla2,\"\\n \\n \",\"  Tabla 3 \\n\",Tabla3,\"\\n \\n \",\"  Tabla 4 \\n\",Tabla4)    #Quise imprimirlas horizontalmente pero no supe como"
      ],
      "execution_count": null,
      "outputs": [
        {
          "output_type": "stream",
          "name": "stdout",
          "text": [
            "  Tabla 1 \n",
            "      X      Y\n",
            "0   10   8.04\n",
            "1    8   6.95\n",
            "2   13   7.58\n",
            "3    9   8.81\n",
            "4   11   8.33\n",
            "5   14   9.96\n",
            "6    6   7.24\n",
            "7    4   4.26\n",
            "8   12  10.84\n",
            "9    7   4.82\n",
            "10   5   5.68 \n",
            " \n",
            "    Tabla 2 \n",
            "      X     Y\n",
            "0   10  9.14\n",
            "1    8  8.14\n",
            "2   13  8.74\n",
            "3    9  8.77\n",
            "4   11  9.26\n",
            "5   14  8.10\n",
            "6    6  6.13\n",
            "7    4  3.10\n",
            "8   12  9.13\n",
            "9    7  7.26\n",
            "10   5  4.74 \n",
            " \n",
            "    Tabla 3 \n",
            "      X      Y\n",
            "0   10   7.46\n",
            "1    8   6.77\n",
            "2   13  12.74\n",
            "3    9   7.11\n",
            "4   11   7.81\n",
            "5   14   8.84\n",
            "6    6   6.08\n",
            "7    4   5.39\n",
            "8   12   8.15\n",
            "9    7   6.42\n",
            "10   5   5.73 \n",
            " \n",
            "    Tabla 4 \n",
            "      X      Y\n",
            "0    8   6.58\n",
            "1    8   5.76\n",
            "2    8   7.71\n",
            "3    8   8.84\n",
            "4    8   8.47\n",
            "5    8   7.04\n",
            "6    8   5.25\n",
            "7   19  12.50\n",
            "8    8   5.56\n",
            "9    8   7.91\n",
            "10   8   6.89\n"
          ]
        }
      ]
    },
    {
      "cell_type": "markdown",
      "metadata": {
        "id": "n5T0eLVdXq4b"
      },
      "source": [
        "Con los datos ya cargados, graficamos cada tabla con los nuevos datos."
      ]
    },
    {
      "cell_type": "code",
      "metadata": {
        "colab": {
          "base_uri": "https://localhost:8080/",
          "height": 312
        },
        "id": "qjNoQOhJWkSK",
        "outputId": "b3e9eeda-232e-4be6-97fe-077ddb5d9a7d"
      },
      "source": [
        "import matplotlib.pyplot as plt\n",
        "\n",
        "plt.scatter(Tabla1.X,Tabla1.Y,color='darkred')\n",
        "\n",
        "plt.scatter(Puntos.X,Puntos.Y,color='darkblue')\n",
        "\n",
        "plt.title(\"Tabla 1\")\n",
        "plt.xlabel(\"X\")\n",
        "plt.ylabel(\"Y\")\n",
        "\n",
        "plt.show\n"
      ],
      "execution_count": null,
      "outputs": [
        {
          "output_type": "execute_result",
          "data": {
            "text/plain": [
              "<function matplotlib.pyplot.show>"
            ]
          },
          "metadata": {},
          "execution_count": 85
        },
        {
          "output_type": "display_data",
          "data": {
            "image/png": "[encoded data removed]",
            "text/plain": [
              "<Figure size 432x288 with 1 Axes>"
            ]
          },
          "metadata": {
            "needs_background": "light"
          }
        }
      ]
    },
    {
      "cell_type": "code",
      "metadata": {
        "colab": {
          "base_uri": "https://localhost:8080/",
          "height": 312
        },
        "id": "4FvbZgLLjTDm",
        "outputId": "dfd40e63-87b6-4be0-8df6-71c9d1699bfd"
      },
      "source": [
        "plt.scatter(Tabla2.X,Tabla2.Y,color='darkred')\n",
        "\n",
        "plt.scatter(Puntos.X,Puntos.Y,color='darkblue')\n",
        "\n",
        "plt.title(\"Tabla 2\")\n",
        "plt.xlabel(\"X\")\n",
        "plt.ylabel(\"Y\")\n",
        "\n",
        "plt.show"
      ],
      "execution_count": null,
      "outputs": [
        {
          "output_type": "execute_result",
          "data": {
            "text/plain": [
              "<function matplotlib.pyplot.show>"
            ]
          },
          "metadata": {},
          "execution_count": 86
        },
        {
          "output_type": "display_data",
          "data": {
            "image/png": "[encoded data removed]",
            "text/plain": [
              "<Figure size 432x288 with 1 Axes>"
            ]
          },
          "metadata": {
            "needs_background": "light"
          }
        }
      ]
    },
    {
      "cell_type": "code",
      "metadata": {
        "colab": {
          "base_uri": "https://localhost:8080/",
          "height": 312
        },
        "id": "31I3N5KfkSX5",
        "outputId": "63ef626f-3d10-4e5f-d6fa-e035361facbc"
      },
      "source": [
        "plt.scatter(Tabla3.X,Tabla3.Y,color='darkred')\n",
        "\n",
        "plt.scatter(Puntos.X,Puntos.Y,color='darkblue')\n",
        "\n",
        "plt.title(\"Tabla 3\")\n",
        "plt.xlabel(\"X\")\n",
        "plt.ylabel(\"Y\")\n",
        "\n",
        "plt.show"
      ],
      "execution_count": null,
      "outputs": [
        {
          "output_type": "execute_result",
          "data": {
            "text/plain": [
              "<function matplotlib.pyplot.show>"
            ]
          },
          "metadata": {},
          "execution_count": 87
        },
        {
          "output_type": "display_data",
          "data": {
            "image/png": "[encoded data removed]",
            "text/plain": [
              "<Figure size 432x288 with 1 Axes>"
            ]
          },
          "metadata": {
            "needs_background": "light"
          }
        }
      ]
    },
    {
      "cell_type": "code",
      "metadata": {
        "colab": {
          "base_uri": "https://localhost:8080/",
          "height": 312
        },
        "id": "yIqkB-aJkYD3",
        "outputId": "59dfb761-2162-4270-af22-3fd53b1b7359"
      },
      "source": [
        "plt.scatter(Tabla4.X,Tabla4.Y,color='darkred')\n",
        "\n",
        "plt.scatter(Puntos.X,Puntos.Y,color='darkblue')\n",
        "\n",
        "plt.title(\"Tabla 4\")\n",
        "plt.xlabel(\"X\")\n",
        "plt.ylabel(\"Y\")\n",
        "\n",
        "plt.show"
      ],
      "execution_count": null,
      "outputs": [
        {
          "output_type": "execute_result",
          "data": {
            "text/plain": [
              "<function matplotlib.pyplot.show>"
            ]
          },
          "metadata": {},
          "execution_count": 88
        },
        {
          "output_type": "display_data",
          "data": {
            "image/png": "[encoded data removed]",
            "text/plain": [
              "<Figure size 432x288 with 1 Axes>"
            ]
          },
          "metadata": {
            "needs_background": "light"
          }
        }
      ]
    },
    {
      "cell_type": "markdown",
      "metadata": {
        "id": "25JI6n1eb2lN"
      },
      "source": [
        "Viendo la conjunción de puntos de cada tabla, se puede intuir que en algunos conjuntos los nuevos datos, pertenecen a dicha familia.\n",
        "\n",
        "Para el dato 1 = [16,8], es el mas dudoso, pero lo ubicaria en la tabla 1.\n",
        "Luego el dato 2 = [8,6], Entra perfectamente en el grupo de la tabla 4.\n",
        "El dato 3 = [16,10], Sigue la linea de la tabla 3.\n",
        "El dato 4 = [16,6], Encaja en la parabola dibujada por la tabla 2."
      ]
    }
  ]
}