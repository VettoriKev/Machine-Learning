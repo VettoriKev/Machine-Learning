{
  "nbformat": 4,
  "nbformat_minor": 0,
  "metadata": {
    "colab": {
      "name": "Vettori-Tp6.ipynb",
      "provenance": [],
      "authorship_tag": "ABX9TyMD47mEuETQLV+l2dXAf5hd",
      "include_colab_link": true
    },
    "kernelspec": {
      "name": "python3",
      "display_name": "Python 3"
    },
    "language_info": {
      "name": "python"
    }
  },
  "cells": [
    {
      "cell_type": "markdown",
      "metadata": {
        "id": "view-in-github",
        "colab_type": "text"
      },
      "source": [
        "<a href=\"https://colab.research.google.com/github/VettoriKev/Machine-Learning/blob/main/Vettori_Tp6.ipynb\" target=\"_parent\"><img src=\"https://colab.research.google.com/assets/colab-badge.svg\" alt=\"Open In Colab\"/></a>"
      ]
    },
    {
      "cell_type": "markdown",
      "metadata": {
        "id": "b0Og-JLr95ns"
      },
      "source": [
        "### Trabajo practico N°6\n",
        "\n",
        "# Spotify Top Songs\n",
        "\n",
        "\n",
        "El dataset contiene la clasificación diaria de las 200 canciones más escuchadas en 53 países de 2017 y 2018 en Spotify. Contiene más de 2 millones de filas, que comprende 6629 artistas, 18598 canciones para un recuento total de ciento cinco mil millones de streams. El objetivo de este proyecto es comprender qué características hacen que una canción sea popular. Con ese fin, también se le proporciona un archivo que contiene datos sobre los atributos de la música (es decir, habla, acústica, tempo) de varias canciones populares. Dado el gran tamaño del conjunto de datos, no dude en simplificar su tarea trabajando con clasificaciones de un solo país o de un solo año. Más información sobre estos datos [aquí](https://www.kaggle.com/edumucelli/spotifys-worldwide-daily-song-ranking).\n"
      ]
    },
    {
      "cell_type": "code",
      "metadata": {
        "colab": {
          "base_uri": "https://localhost:8080/",
          "height": 206
        },
        "id": "TxkEekPQ91VO",
        "outputId": "ec577785-6167-4cd7-fbdf-ecc600761d0c"
      },
      "source": [
        "import pandas as pd\n",
        "\n",
        "ranking_spotify_1 = pd.read_csv(\"https://raw.githubusercontent.com/emmanueliarussi/DataScienceCapstone/master/3_MidtermProjects/ProjectTSS/data/ranking_spotify_1.csv\")\n",
        "ranking_spotify_1.head()\n"
      ],
      "execution_count": null,
      "outputs": [
        {
          "output_type": "execute_result",
          "data": {
            "text/html": [
              "<div>\n",
              "<style scoped>\n",
              "    .dataframe tbody tr th:only-of-type {\n",
              "        vertical-align: middle;\n",
              "    }\n",
              "\n",
              "    .dataframe tbody tr th {\n",
              "        vertical-align: top;\n",
              "    }\n",
              "\n",
              "    .dataframe thead th {\n",
              "        text-align: right;\n",
              "    }\n",
              "</style>\n",
              "<table border=\"1\" class=\"dataframe\">\n",
              "  <thead>\n",
              "    <tr style=\"text-align: right;\">\n",
              "      <th></th>\n",
              "      <th>Position</th>\n",
              "      <th>Track Name</th>\n",
              "      <th>Artist</th>\n",
              "      <th>Streams</th>\n",
              "      <th>URL</th>\n",
              "      <th>Date</th>\n",
              "      <th>Region</th>\n",
              "    </tr>\n",
              "  </thead>\n",
              "  <tbody>\n",
              "    <tr>\n",
              "      <th>0</th>\n",
              "      <td>1</td>\n",
              "      <td>Reggaetón Lento (Bailemos)</td>\n",
              "      <td>CNCO</td>\n",
              "      <td>19272</td>\n",
              "      <td>https://open.spotify.com/track/3AEZUABDXNtecAO...</td>\n",
              "      <td>2017-01-01</td>\n",
              "      <td>ec</td>\n",
              "    </tr>\n",
              "    <tr>\n",
              "      <th>1</th>\n",
              "      <td>2</td>\n",
              "      <td>Chantaje</td>\n",
              "      <td>Shakira</td>\n",
              "      <td>19270</td>\n",
              "      <td>https://open.spotify.com/track/6mICuAdrwEjh6Y6...</td>\n",
              "      <td>2017-01-01</td>\n",
              "      <td>ec</td>\n",
              "    </tr>\n",
              "    <tr>\n",
              "      <th>2</th>\n",
              "      <td>3</td>\n",
              "      <td>Otra Vez (feat. J Balvin)</td>\n",
              "      <td>Zion &amp; Lennox</td>\n",
              "      <td>15761</td>\n",
              "      <td>https://open.spotify.com/track/3QwBODjSEzelZyV...</td>\n",
              "      <td>2017-01-01</td>\n",
              "      <td>ec</td>\n",
              "    </tr>\n",
              "    <tr>\n",
              "      <th>3</th>\n",
              "      <td>4</td>\n",
              "      <td>Vente Pa' Ca</td>\n",
              "      <td>Ricky Martin</td>\n",
              "      <td>14954</td>\n",
              "      <td>https://open.spotify.com/track/7DM4BPaS7uofFul...</td>\n",
              "      <td>2017-01-01</td>\n",
              "      <td>ec</td>\n",
              "    </tr>\n",
              "    <tr>\n",
              "      <th>4</th>\n",
              "      <td>5</td>\n",
              "      <td>Safari</td>\n",
              "      <td>J Balvin</td>\n",
              "      <td>14269</td>\n",
              "      <td>https://open.spotify.com/track/6rQSrBHf7HlZjtc...</td>\n",
              "      <td>2017-01-01</td>\n",
              "      <td>ec</td>\n",
              "    </tr>\n",
              "  </tbody>\n",
              "</table>\n",
              "</div>"
            ],
            "text/plain": [
              "   Position                  Track Name  ...        Date  Region\n",
              "0         1  Reggaetón Lento (Bailemos)  ...  2017-01-01      ec\n",
              "1         2                    Chantaje  ...  2017-01-01      ec\n",
              "2         3   Otra Vez (feat. J Balvin)  ...  2017-01-01      ec\n",
              "3         4                Vente Pa' Ca  ...  2017-01-01      ec\n",
              "4         5                      Safari  ...  2017-01-01      ec\n",
              "\n",
              "[5 rows x 7 columns]"
            ]
          },
          "metadata": {},
          "execution_count": 1
        }
      ]
    },
    {
      "cell_type": "code",
      "metadata": {
        "colab": {
          "base_uri": "https://localhost:8080/",
          "height": 363
        },
        "id": "Ik68fBwUFiKr",
        "outputId": "3100e414-340b-45d6-a26f-3105a4e0b8aa"
      },
      "source": [
        "ranking_spotify_1.sample(10)"
      ],
      "execution_count": null,
      "outputs": [
        {
          "output_type": "execute_result",
          "data": {
            "text/html": [
              "<div>\n",
              "<style scoped>\n",
              "    .dataframe tbody tr th:only-of-type {\n",
              "        vertical-align: middle;\n",
              "    }\n",
              "\n",
              "    .dataframe tbody tr th {\n",
              "        vertical-align: top;\n",
              "    }\n",
              "\n",
              "    .dataframe thead th {\n",
              "        text-align: right;\n",
              "    }\n",
              "</style>\n",
              "<table border=\"1\" class=\"dataframe\">\n",
              "  <thead>\n",
              "    <tr style=\"text-align: right;\">\n",
              "      <th></th>\n",
              "      <th>Position</th>\n",
              "      <th>Track Name</th>\n",
              "      <th>Artist</th>\n",
              "      <th>Streams</th>\n",
              "      <th>URL</th>\n",
              "      <th>Date</th>\n",
              "      <th>Region</th>\n",
              "    </tr>\n",
              "  </thead>\n",
              "  <tbody>\n",
              "    <tr>\n",
              "      <th>883007</th>\n",
              "      <td>31</td>\n",
              "      <td>Perfect</td>\n",
              "      <td>Ed Sheeran</td>\n",
              "      <td>2493</td>\n",
              "      <td>https://open.spotify.com/track/0tgVpDi06FyKpA1...</td>\n",
              "      <td>2017-12-26</td>\n",
              "      <td>sv</td>\n",
              "    </tr>\n",
              "    <tr>\n",
              "      <th>537946</th>\n",
              "      <td>148</td>\n",
              "      <td>Tenerife Sea</td>\n",
              "      <td>Ed Sheeran</td>\n",
              "      <td>3283</td>\n",
              "      <td>https://open.spotify.com/track/6vSwxzO2Qf4BinH...</td>\n",
              "      <td>2017-01-09</td>\n",
              "      <td>tw</td>\n",
              "    </tr>\n",
              "    <tr>\n",
              "      <th>719486</th>\n",
              "      <td>65</td>\n",
              "      <td>Despacito (Featuring Daddy Yankee)</td>\n",
              "      <td>Luis Fonsi</td>\n",
              "      <td>9410</td>\n",
              "      <td>https://open.spotify.com/track/4aWmUDTfIPGksMN...</td>\n",
              "      <td>2017-04-21</td>\n",
              "      <td>tr</td>\n",
              "    </tr>\n",
              "    <tr>\n",
              "      <th>493324</th>\n",
              "      <td>126</td>\n",
              "      <td>So Slow</td>\n",
              "      <td>Freestyle</td>\n",
              "      <td>25870</td>\n",
              "      <td>https://open.spotify.com/track/1A40ESJJPEEJrqj...</td>\n",
              "      <td>2017-06-09</td>\n",
              "      <td>ph</td>\n",
              "    </tr>\n",
              "    <tr>\n",
              "      <th>379895</th>\n",
              "      <td>96</td>\n",
              "      <td>Lost on You</td>\n",
              "      <td>LP</td>\n",
              "      <td>17826</td>\n",
              "      <td>https://open.spotify.com/track/3SqvR3HYLlCTYzb...</td>\n",
              "      <td>2017-02-14</td>\n",
              "      <td>it</td>\n",
              "    </tr>\n",
              "    <tr>\n",
              "      <th>779605</th>\n",
              "      <td>184</td>\n",
              "      <td>My Shit</td>\n",
              "      <td>A Boogie Wit da Hoodie</td>\n",
              "      <td>167451</td>\n",
              "      <td>https://open.spotify.com/track/5uQOauh47VFt3B2...</td>\n",
              "      <td>2017-02-09</td>\n",
              "      <td>us</td>\n",
              "    </tr>\n",
              "    <tr>\n",
              "      <th>226383</th>\n",
              "      <td>184</td>\n",
              "      <td>Party Monster</td>\n",
              "      <td>The Weeknd</td>\n",
              "      <td>5911</td>\n",
              "      <td>https://open.spotify.com/track/4F7A0DXBrmUAkp3...</td>\n",
              "      <td>2017-01-19</td>\n",
              "      <td>fi</td>\n",
              "    </tr>\n",
              "    <tr>\n",
              "      <th>361216</th>\n",
              "      <td>17</td>\n",
              "      <td>1-800-273-8255</td>\n",
              "      <td>Logic</td>\n",
              "      <td>54702</td>\n",
              "      <td>https://open.spotify.com/track/5tz69p7tJuGPeMG...</td>\n",
              "      <td>2017-11-22</td>\n",
              "      <td>no</td>\n",
              "    </tr>\n",
              "    <tr>\n",
              "      <th>519350</th>\n",
              "      <td>152</td>\n",
              "      <td>More Than You Know</td>\n",
              "      <td>Axwell /\\ Ingrosso</td>\n",
              "      <td>24108</td>\n",
              "      <td>https://open.spotify.com/track/3PEgB3fkiojxms3...</td>\n",
              "      <td>2017-10-17</td>\n",
              "      <td>ph</td>\n",
              "    </tr>\n",
              "    <tr>\n",
              "      <th>693631</th>\n",
              "      <td>29</td>\n",
              "      <td>Crying in the Club</td>\n",
              "      <td>Camila Cabello</td>\n",
              "      <td>1387</td>\n",
              "      <td>https://open.spotify.com/track/1SJtlNRJDeYHioy...</td>\n",
              "      <td>2017-07-17</td>\n",
              "      <td>ee</td>\n",
              "    </tr>\n",
              "  </tbody>\n",
              "</table>\n",
              "</div>"
            ],
            "text/plain": [
              "        Position                          Track Name  ...        Date  Region\n",
              "883007        31                             Perfect  ...  2017-12-26      sv\n",
              "537946       148                        Tenerife Sea  ...  2017-01-09      tw\n",
              "719486        65  Despacito (Featuring Daddy Yankee)  ...  2017-04-21      tr\n",
              "493324       126                             So Slow  ...  2017-06-09      ph\n",
              "379895        96                         Lost on You  ...  2017-02-14      it\n",
              "779605       184                             My Shit  ...  2017-02-09      us\n",
              "226383       184                       Party Monster  ...  2017-01-19      fi\n",
              "361216        17                      1-800-273-8255  ...  2017-11-22      no\n",
              "519350       152                  More Than You Know  ...  2017-10-17      ph\n",
              "693631        29                  Crying in the Club  ...  2017-07-17      ee\n",
              "\n",
              "[10 rows x 7 columns]"
            ]
          },
          "metadata": {},
          "execution_count": 2
        }
      ]
    },
    {
      "cell_type": "code",
      "metadata": {
        "colab": {
          "base_uri": "https://localhost:8080/",
          "height": 206
        },
        "id": "tNcX5QnvBKFq",
        "outputId": "ba8e783c-cb8c-4959-dc12-da3cc6209b2e"
      },
      "source": [
        "ranking_spotify_2 = pd.read_csv(\"https://raw.githubusercontent.com/emmanueliarussi/DataScienceCapstone/master/3_MidtermProjects/ProjectTSS/data/ranking_spotify_2.csv\")\n",
        "ranking_spotify_2.head()"
      ],
      "execution_count": null,
      "outputs": [
        {
          "output_type": "execute_result",
          "data": {
            "text/html": [
              "<div>\n",
              "<style scoped>\n",
              "    .dataframe tbody tr th:only-of-type {\n",
              "        vertical-align: middle;\n",
              "    }\n",
              "\n",
              "    .dataframe tbody tr th {\n",
              "        vertical-align: top;\n",
              "    }\n",
              "\n",
              "    .dataframe thead th {\n",
              "        text-align: right;\n",
              "    }\n",
              "</style>\n",
              "<table border=\"1\" class=\"dataframe\">\n",
              "  <thead>\n",
              "    <tr style=\"text-align: right;\">\n",
              "      <th></th>\n",
              "      <th>Position</th>\n",
              "      <th>Track Name</th>\n",
              "      <th>Artist</th>\n",
              "      <th>Streams</th>\n",
              "      <th>URL</th>\n",
              "      <th>Date</th>\n",
              "      <th>Region</th>\n",
              "    </tr>\n",
              "  </thead>\n",
              "  <tbody>\n",
              "    <tr>\n",
              "      <th>0</th>\n",
              "      <td>54</td>\n",
              "      <td>Thunder</td>\n",
              "      <td>Imagine Dragons</td>\n",
              "      <td>5404</td>\n",
              "      <td>https://open.spotify.com/track/0tKcYR2II1VCQWT...</td>\n",
              "      <td>2017-08-24</td>\n",
              "      <td>cr</td>\n",
              "    </tr>\n",
              "    <tr>\n",
              "      <th>1</th>\n",
              "      <td>55</td>\n",
              "      <td>Soy Peor Remix (feat. J Balvin, Ozuna &amp; Arcangel)</td>\n",
              "      <td>Bad Bunny</td>\n",
              "      <td>5339</td>\n",
              "      <td>https://open.spotify.com/track/4UG962ViiLqoUyx...</td>\n",
              "      <td>2017-08-24</td>\n",
              "      <td>cr</td>\n",
              "    </tr>\n",
              "    <tr>\n",
              "      <th>2</th>\n",
              "      <td>56</td>\n",
              "      <td>Photograph</td>\n",
              "      <td>Ed Sheeran</td>\n",
              "      <td>5278</td>\n",
              "      <td>https://open.spotify.com/track/6fxVffaTuwjgEk5...</td>\n",
              "      <td>2017-08-24</td>\n",
              "      <td>cr</td>\n",
              "    </tr>\n",
              "    <tr>\n",
              "      <th>3</th>\n",
              "      <td>57</td>\n",
              "      <td>Thinking Out Loud</td>\n",
              "      <td>Ed Sheeran</td>\n",
              "      <td>5055</td>\n",
              "      <td>https://open.spotify.com/track/1Slwb6dOYkBlWal...</td>\n",
              "      <td>2017-08-24</td>\n",
              "      <td>cr</td>\n",
              "    </tr>\n",
              "    <tr>\n",
              "      <th>4</th>\n",
              "      <td>58</td>\n",
              "      <td>Imitadora</td>\n",
              "      <td>Romeo Santos</td>\n",
              "      <td>4976</td>\n",
              "      <td>https://open.spotify.com/track/6r46lnXFbE9fr2d...</td>\n",
              "      <td>2017-08-24</td>\n",
              "      <td>cr</td>\n",
              "    </tr>\n",
              "  </tbody>\n",
              "</table>\n",
              "</div>"
            ],
            "text/plain": [
              "   Position  ... Region\n",
              "0        54  ...     cr\n",
              "1        55  ...     cr\n",
              "2        56  ...     cr\n",
              "3        57  ...     cr\n",
              "4        58  ...     cr\n",
              "\n",
              "[5 rows x 7 columns]"
            ]
          },
          "metadata": {},
          "execution_count": 3
        }
      ]
    },
    {
      "cell_type": "code",
      "metadata": {
        "colab": {
          "base_uri": "https://localhost:8080/",
          "height": 206
        },
        "id": "ODhcyJjkBL6F",
        "outputId": "e2fa68e4-6fc5-46d7-960e-62bb717f700d"
      },
      "source": [
        "ranking_spotify_3 = pd.read_csv(\"https://raw.githubusercontent.com/emmanueliarussi/DataScienceCapstone/master/3_MidtermProjects/ProjectTSS/data/ranking_spotify_3.csv\")\n",
        "ranking_spotify_3.head()"
      ],
      "execution_count": null,
      "outputs": [
        {
          "output_type": "execute_result",
          "data": {
            "text/html": [
              "<div>\n",
              "<style scoped>\n",
              "    .dataframe tbody tr th:only-of-type {\n",
              "        vertical-align: middle;\n",
              "    }\n",
              "\n",
              "    .dataframe tbody tr th {\n",
              "        vertical-align: top;\n",
              "    }\n",
              "\n",
              "    .dataframe thead th {\n",
              "        text-align: right;\n",
              "    }\n",
              "</style>\n",
              "<table border=\"1\" class=\"dataframe\">\n",
              "  <thead>\n",
              "    <tr style=\"text-align: right;\">\n",
              "      <th></th>\n",
              "      <th>Position</th>\n",
              "      <th>Track Name</th>\n",
              "      <th>Artist</th>\n",
              "      <th>Streams</th>\n",
              "      <th>URL</th>\n",
              "      <th>Date</th>\n",
              "      <th>Region</th>\n",
              "    </tr>\n",
              "  </thead>\n",
              "  <tbody>\n",
              "    <tr>\n",
              "      <th>0</th>\n",
              "      <td>193</td>\n",
              "      <td>I'm the One</td>\n",
              "      <td>DJ Khaled</td>\n",
              "      <td>8316</td>\n",
              "      <td>https://open.spotify.com/track/3DXncPQOG4VBw3Q...</td>\n",
              "      <td>2017-11-21</td>\n",
              "      <td>dk</td>\n",
              "    </tr>\n",
              "    <tr>\n",
              "      <th>1</th>\n",
              "      <td>194</td>\n",
              "      <td>God Dag</td>\n",
              "      <td>KESI</td>\n",
              "      <td>8298</td>\n",
              "      <td>https://open.spotify.com/track/4Jg4Qp4byYVpJ5m...</td>\n",
              "      <td>2017-11-21</td>\n",
              "      <td>dk</td>\n",
              "    </tr>\n",
              "    <tr>\n",
              "      <th>2</th>\n",
              "      <td>195</td>\n",
              "      <td>Castle on the Hill</td>\n",
              "      <td>Ed Sheeran</td>\n",
              "      <td>8293</td>\n",
              "      <td>https://open.spotify.com/track/6PCUP3dWmTjcTtX...</td>\n",
              "      <td>2017-11-21</td>\n",
              "      <td>dk</td>\n",
              "    </tr>\n",
              "    <tr>\n",
              "      <th>3</th>\n",
              "      <td>196</td>\n",
              "      <td>September Song</td>\n",
              "      <td>JP Cooper</td>\n",
              "      <td>8278</td>\n",
              "      <td>https://open.spotify.com/track/2Inz7gGPGgieN0C...</td>\n",
              "      <td>2017-11-21</td>\n",
              "      <td>dk</td>\n",
              "    </tr>\n",
              "    <tr>\n",
              "      <th>4</th>\n",
              "      <td>197</td>\n",
              "      <td>Mi Gente (feat. Beyoncé)</td>\n",
              "      <td>J Balvin</td>\n",
              "      <td>8261</td>\n",
              "      <td>https://open.spotify.com/track/7fwXWKdDNI5IutO...</td>\n",
              "      <td>2017-11-21</td>\n",
              "      <td>dk</td>\n",
              "    </tr>\n",
              "  </tbody>\n",
              "</table>\n",
              "</div>"
            ],
            "text/plain": [
              "   Position                Track Name  ...        Date  Region\n",
              "0       193               I'm the One  ...  2017-11-21      dk\n",
              "1       194                   God Dag  ...  2017-11-21      dk\n",
              "2       195        Castle on the Hill  ...  2017-11-21      dk\n",
              "3       196            September Song  ...  2017-11-21      dk\n",
              "4       197  Mi Gente (feat. Beyoncé)  ...  2017-11-21      dk\n",
              "\n",
              "[5 rows x 7 columns]"
            ]
          },
          "metadata": {},
          "execution_count": 4
        }
      ]
    },
    {
      "cell_type": "code",
      "metadata": {
        "colab": {
          "base_uri": "https://localhost:8080/",
          "height": 206
        },
        "id": "5nKbq-CsBNP3",
        "outputId": "6dba96c9-3e49-4671-8c31-978d9b9d8fa4"
      },
      "source": [
        "ranking_spotify_4 = pd.read_csv(\"https://raw.githubusercontent.com/emmanueliarussi/DataScienceCapstone/master/3_MidtermProjects/ProjectTSS/data/ranking_spotify_4.csv\")\n",
        "ranking_spotify_4.head()"
      ],
      "execution_count": null,
      "outputs": [
        {
          "output_type": "execute_result",
          "data": {
            "text/html": [
              "<div>\n",
              "<style scoped>\n",
              "    .dataframe tbody tr th:only-of-type {\n",
              "        vertical-align: middle;\n",
              "    }\n",
              "\n",
              "    .dataframe tbody tr th {\n",
              "        vertical-align: top;\n",
              "    }\n",
              "\n",
              "    .dataframe thead th {\n",
              "        text-align: right;\n",
              "    }\n",
              "</style>\n",
              "<table border=\"1\" class=\"dataframe\">\n",
              "  <thead>\n",
              "    <tr style=\"text-align: right;\">\n",
              "      <th></th>\n",
              "      <th>Position</th>\n",
              "      <th>Track Name</th>\n",
              "      <th>Artist</th>\n",
              "      <th>Streams</th>\n",
              "      <th>URL</th>\n",
              "      <th>Date</th>\n",
              "      <th>Region</th>\n",
              "    </tr>\n",
              "  </thead>\n",
              "  <tbody>\n",
              "    <tr>\n",
              "      <th>0</th>\n",
              "      <td>69</td>\n",
              "      <td>There for You</td>\n",
              "      <td>Martin Garrix</td>\n",
              "      <td>8323</td>\n",
              "      <td>https://open.spotify.com/track/6jA8HL9i4QGzsj6...</td>\n",
              "      <td>2017-06-24</td>\n",
              "      <td>co</td>\n",
              "    </tr>\n",
              "    <tr>\n",
              "      <th>1</th>\n",
              "      <td>70</td>\n",
              "      <td>Por Fin Te Encontré</td>\n",
              "      <td>Cali Y El Dandee</td>\n",
              "      <td>8312</td>\n",
              "      <td>https://open.spotify.com/track/3GpvoKKWZyTwgbL...</td>\n",
              "      <td>2017-06-24</td>\n",
              "      <td>co</td>\n",
              "    </tr>\n",
              "    <tr>\n",
              "      <th>2</th>\n",
              "      <td>71</td>\n",
              "      <td>One Dance</td>\n",
              "      <td>Drake</td>\n",
              "      <td>8306</td>\n",
              "      <td>https://open.spotify.com/track/1xznGGDReH1oQq0...</td>\n",
              "      <td>2017-06-24</td>\n",
              "      <td>co</td>\n",
              "    </tr>\n",
              "    <tr>\n",
              "      <th>3</th>\n",
              "      <td>72</td>\n",
              "      <td>Sé Que Te Duele</td>\n",
              "      <td>Alejandro Fernandez</td>\n",
              "      <td>8221</td>\n",
              "      <td>https://open.spotify.com/track/5vZfgeDfNhlkKeJ...</td>\n",
              "      <td>2017-06-24</td>\n",
              "      <td>co</td>\n",
              "    </tr>\n",
              "    <tr>\n",
              "      <th>4</th>\n",
              "      <td>73</td>\n",
              "      <td>Bad Liar</td>\n",
              "      <td>Selena Gomez</td>\n",
              "      <td>8188</td>\n",
              "      <td>https://open.spotify.com/track/1sCxVKWImDZSZKv...</td>\n",
              "      <td>2017-06-24</td>\n",
              "      <td>co</td>\n",
              "    </tr>\n",
              "  </tbody>\n",
              "</table>\n",
              "</div>"
            ],
            "text/plain": [
              "   Position           Track Name  ...        Date  Region\n",
              "0        69        There for You  ...  2017-06-24      co\n",
              "1        70  Por Fin Te Encontré  ...  2017-06-24      co\n",
              "2        71            One Dance  ...  2017-06-24      co\n",
              "3        72      Sé Que Te Duele  ...  2017-06-24      co\n",
              "4        73             Bad Liar  ...  2017-06-24      co\n",
              "\n",
              "[5 rows x 7 columns]"
            ]
          },
          "metadata": {},
          "execution_count": 5
        }
      ]
    },
    {
      "cell_type": "code",
      "metadata": {
        "colab": {
          "base_uri": "https://localhost:8080/",
          "height": 365
        },
        "id": "eyjXSjyEBOdt",
        "outputId": "270fcb2a-d40b-489a-e924-3363aceefe3c"
      },
      "source": [
        "features = pd.read_csv(\"https://raw.githubusercontent.com/emmanueliarussi/DataScienceCapstone/master/3_MidtermProjects/ProjectTSS/data/featuresdf.csv\")\n",
        "features.head()"
      ],
      "execution_count": null,
      "outputs": [
        {
          "output_type": "execute_result",
          "data": {
            "text/html": [
              "<div>\n",
              "<style scoped>\n",
              "    .dataframe tbody tr th:only-of-type {\n",
              "        vertical-align: middle;\n",
              "    }\n",
              "\n",
              "    .dataframe tbody tr th {\n",
              "        vertical-align: top;\n",
              "    }\n",
              "\n",
              "    .dataframe thead th {\n",
              "        text-align: right;\n",
              "    }\n",
              "</style>\n",
              "<table border=\"1\" class=\"dataframe\">\n",
              "  <thead>\n",
              "    <tr style=\"text-align: right;\">\n",
              "      <th></th>\n",
              "      <th>id</th>\n",
              "      <th>name</th>\n",
              "      <th>artists</th>\n",
              "      <th>danceability</th>\n",
              "      <th>energy</th>\n",
              "      <th>key</th>\n",
              "      <th>loudness</th>\n",
              "      <th>mode</th>\n",
              "      <th>speechiness</th>\n",
              "      <th>acousticness</th>\n",
              "      <th>instrumentalness</th>\n",
              "      <th>liveness</th>\n",
              "      <th>valence</th>\n",
              "      <th>tempo</th>\n",
              "      <th>duration_ms</th>\n",
              "      <th>time_signature</th>\n",
              "    </tr>\n",
              "  </thead>\n",
              "  <tbody>\n",
              "    <tr>\n",
              "      <th>0</th>\n",
              "      <td>7qiZfU4dY1lWllzX7mPBI</td>\n",
              "      <td>Shape of You</td>\n",
              "      <td>Ed Sheeran</td>\n",
              "      <td>0.825</td>\n",
              "      <td>0.652</td>\n",
              "      <td>1.0</td>\n",
              "      <td>-3.183</td>\n",
              "      <td>0.0</td>\n",
              "      <td>0.0802</td>\n",
              "      <td>0.5810</td>\n",
              "      <td>0.000000</td>\n",
              "      <td>0.0931</td>\n",
              "      <td>0.931</td>\n",
              "      <td>95.977</td>\n",
              "      <td>233713.0</td>\n",
              "      <td>4.0</td>\n",
              "    </tr>\n",
              "    <tr>\n",
              "      <th>1</th>\n",
              "      <td>5CtI0qwDJkDQGwXD1H1cL</td>\n",
              "      <td>Despacito - Remix</td>\n",
              "      <td>Luis Fonsi</td>\n",
              "      <td>0.694</td>\n",
              "      <td>0.815</td>\n",
              "      <td>2.0</td>\n",
              "      <td>-4.328</td>\n",
              "      <td>1.0</td>\n",
              "      <td>0.1200</td>\n",
              "      <td>0.2290</td>\n",
              "      <td>0.000000</td>\n",
              "      <td>0.0924</td>\n",
              "      <td>0.813</td>\n",
              "      <td>88.931</td>\n",
              "      <td>228827.0</td>\n",
              "      <td>4.0</td>\n",
              "    </tr>\n",
              "    <tr>\n",
              "      <th>2</th>\n",
              "      <td>4aWmUDTfIPGksMNLV2rQP</td>\n",
              "      <td>Despacito (Featuring Daddy Yankee)</td>\n",
              "      <td>Luis Fonsi</td>\n",
              "      <td>0.660</td>\n",
              "      <td>0.786</td>\n",
              "      <td>2.0</td>\n",
              "      <td>-4.757</td>\n",
              "      <td>1.0</td>\n",
              "      <td>0.1700</td>\n",
              "      <td>0.2090</td>\n",
              "      <td>0.000000</td>\n",
              "      <td>0.1120</td>\n",
              "      <td>0.846</td>\n",
              "      <td>177.833</td>\n",
              "      <td>228200.0</td>\n",
              "      <td>4.0</td>\n",
              "    </tr>\n",
              "    <tr>\n",
              "      <th>3</th>\n",
              "      <td>6RUKPb4LETWmmr3iAEQkt</td>\n",
              "      <td>Something Just Like This</td>\n",
              "      <td>The Chainsmokers</td>\n",
              "      <td>0.617</td>\n",
              "      <td>0.635</td>\n",
              "      <td>11.0</td>\n",
              "      <td>-6.769</td>\n",
              "      <td>0.0</td>\n",
              "      <td>0.0317</td>\n",
              "      <td>0.0498</td>\n",
              "      <td>0.000014</td>\n",
              "      <td>0.1640</td>\n",
              "      <td>0.446</td>\n",
              "      <td>103.019</td>\n",
              "      <td>247160.0</td>\n",
              "      <td>4.0</td>\n",
              "    </tr>\n",
              "    <tr>\n",
              "      <th>4</th>\n",
              "      <td>3DXncPQOG4VBw3QHh3S81</td>\n",
              "      <td>I'm the One</td>\n",
              "      <td>DJ Khaled</td>\n",
              "      <td>0.609</td>\n",
              "      <td>0.668</td>\n",
              "      <td>7.0</td>\n",
              "      <td>-4.284</td>\n",
              "      <td>1.0</td>\n",
              "      <td>0.0367</td>\n",
              "      <td>0.0552</td>\n",
              "      <td>0.000000</td>\n",
              "      <td>0.1670</td>\n",
              "      <td>0.811</td>\n",
              "      <td>80.924</td>\n",
              "      <td>288600.0</td>\n",
              "      <td>4.0</td>\n",
              "    </tr>\n",
              "  </tbody>\n",
              "</table>\n",
              "</div>"
            ],
            "text/plain": [
              "                      id  ... time_signature\n",
              "0  7qiZfU4dY1lWllzX7mPBI  ...            4.0\n",
              "1  5CtI0qwDJkDQGwXD1H1cL  ...            4.0\n",
              "2  4aWmUDTfIPGksMNLV2rQP  ...            4.0\n",
              "3  6RUKPb4LETWmmr3iAEQkt  ...            4.0\n",
              "4  3DXncPQOG4VBw3QHh3S81  ...            4.0\n",
              "\n",
              "[5 rows x 16 columns]"
            ]
          },
          "metadata": {},
          "execution_count": 6
        }
      ]
    },
    {
      "cell_type": "markdown",
      "metadata": {
        "id": "KzyKMgrhFial"
      },
      "source": [
        "---\n",
        "### ¿Que elegimos?\n",
        "Vemos que los dataset traen en top ranking de varios paises.\n",
        " Por lo que tenemos dos opciones o sumamos el numero de reproducciones de todos para hacer un ranking mundial o elegimos un pais para analizar el ranking de un pais para hacer el analisis de este. Para este caso hemos elegido el segundo, y selecionaremos Argentina. \n",
        " Primero veamos que concordancia tiene Argentina con el ranking en general."
      ]
    },
    {
      "cell_type": "code",
      "metadata": {
        "colab": {
          "base_uri": "https://localhost:8080/"
        },
        "id": "eBHbxQzBJmT4",
        "outputId": "24c7679e-ada1-4355-b4e6-437a5861b76e"
      },
      "source": [
        "import numpy as np\n",
        "\n",
        "ranking_ar = ranking_spotify_1[ranking_spotify_1['Region'] == 'ar'].drop(columns='Region')\n",
        "\n",
        "artists_ar = list(dict.fromkeys(ranking_ar['Artist']))\n",
        "artists_ar = [x for x in artists_ar if str(x) != 'nan']\n",
        "\n",
        "found_in_ar = []\n",
        "for i in range(features.shape[0]):\n",
        "    artist = features.iloc[i]['artists']\n",
        "    name = features.iloc[i]['name']\n",
        "    if artist in artists_ar:\n",
        "        names = list(dict.fromkeys(ranking_ar[ranking_ar['Artist'] == artist]['Track Name']))\n",
        "        found_in_ar.append(name in names)\n",
        "    else:\n",
        "        found_in_ar.append(False)\n",
        "\n",
        "print('El ' + str(np.round(100*np.mean(found_in_ar), 1)) + '% de las canciones'\n",
        "      + ' ha estado en el ranking de Argentina')"
      ],
      "execution_count": null,
      "outputs": [
        {
          "output_type": "stream",
          "name": "stdout",
          "text": [
            "El 85.0% de las canciones ha estado en el ranking de Argentina\n"
          ]
        }
      ]
    },
    {
      "cell_type": "markdown",
      "metadata": {
        "id": "VkUZwprtJ8eD"
      },
      "source": [
        "Vemos que gran parte de las canciones se encuentran en el top, por lo que no es una mala seleccion para el análisis. Por lo que procedemos a calcular la popularidad de las canciones.\n"
      ]
    },
    {
      "cell_type": "code",
      "metadata": {
        "id": "SFqysUavK27o"
      },
      "source": [
        "features_ar = features[found_in_ar]\n",
        "\n",
        "songs = {artist: [] for artist in list(dict.fromkeys(features_ar['artists']))}\n",
        "for i in range(features_ar.shape[0]):\n",
        "    songs[features_ar.iloc[i]['artists']].append(features_ar.iloc[i]['name'])\n",
        "\n",
        "popularity_index = np.zeros((features_ar.shape[0],))\n",
        "\n",
        "for i in range(ranking_ar.shape[0]):\n",
        "    artist = ranking_ar.iloc[i]['Artist']\n",
        "    name = ranking_ar.iloc[i]['Track Name']\n",
        "    if artist in songs:\n",
        "        if name in songs[artist]:\n",
        "            idx, = np.where(np.logical_and(features_ar['artists'] == artist,\n",
        "                                           features_ar['name'] == name))\n",
        "            date = ranking_ar.iloc[i]['Date']\n",
        "            total_streams = np.sum(ranking_ar[ranking_ar['Date'] == date]['Streams'])\n",
        "            popularity_index[idx[0]] += ranking_ar.iloc[i]['Streams'] / total_streams\n",
        "            \n",
        "features_ar.reset_index(drop=True, inplace=True)\n",
        "features_ar = pd.concat([features_ar, \n",
        "                         pd.DataFrame({'popularity_index':popularity_index})], axis=1)"
      ],
      "execution_count": null,
      "outputs": []
    },
    {
      "cell_type": "code",
      "metadata": {
        "colab": {
          "base_uri": "https://localhost:8080/"
        },
        "id": "wF7mKKpVMJAI",
        "outputId": "804d5eb1-886d-4c29-a729-2696c9205b6d"
      },
      "source": [
        "features_ar.sort_values('popularity_index', inplace=True, ascending=False)\n",
        "with pd.option_context('display.max_rows', 10, 'display.max_columns', None):\n",
        "    print(features_ar.iloc[:,[1,2,-1]])"
      ],
      "execution_count": null,
      "outputs": [
        {
          "output_type": "stream",
          "name": "stdout",
          "text": [
            "                                  name         artists  popularity_index\n",
            "2   Despacito (Featuring Daddy Yankee)      Luis Fonsi          7.540566\n",
            "22                           Me Rehúso     Danny Ocean          6.608879\n",
            "0                         Shape of You      Ed Sheeran          5.786475\n",
            "42                       Felices los 4          Maluma          5.652973\n",
            "54                           El Amante       Nicky Jam          4.809053\n",
            "..                                 ...             ...               ...\n",
            "55      You Don't Know Me - Radio Edit       Jax Jones          0.021582\n",
            "33                      1-800-273-8255           Logic          0.021105\n",
            "70                                Weak             AJR          0.011025\n",
            "73                    I Like Me Better            Lauv          0.009049\n",
            "53                                DNA.  Kendrick Lamar          0.001736\n",
            "\n",
            "[85 rows x 3 columns]\n"
          ]
        }
      ]
    },
    {
      "cell_type": "code",
      "metadata": {
        "colab": {
          "base_uri": "https://localhost:8080/",
          "height": 127
        },
        "id": "jvlx9QRvMhOJ",
        "outputId": "2013e23b-88e9-41df-b9b3-372fc34ecfcd"
      },
      "source": [
        "import seaborn as sns\n",
        "\n",
        "sns.set_style('darkgrid')\n",
        "sns.pairplot(data=features_ar, y_vars=['popularity_index'])"
      ],
      "execution_count": null,
      "outputs": [
        {
          "output_type": "execute_result",
          "data": {
            "text/plain": [
              "<seaborn.axisgrid.PairGrid at 0x7f0f0e75ce90>"
            ]
          },
          "metadata": {},
          "execution_count": 37
        },
        {
          "output_type": "display_data",
          "data": {
            "image/png": "[encoded data removed]",
            "text/plain": [
              "<Figure size 2520x180 with 15 Axes>"
            ]
          },
          "metadata": {}
        }
      ]
    },
    {
      "cell_type": "markdown",
      "metadata": {
        "id": "-5X4J5cCN_A6"
      },
      "source": [
        "Algunos atributos parecieran que responden a una regresión logaritmica, como el caso de la \"danceabilidad\" y la \"energia\". Otros como \"mode\", no parecen tener un comportamiento parametrico a simple vista. Por lo que tenemos dos opciones, o trabajar con algunos atributos para mejorar u optimizar su uso, o la mas facil y elegida por su servidor, sacarlos. "
      ]
    },
    {
      "cell_type": "code",
      "metadata": {
        "id": "vdcGZmPOQH0p",
        "colab": {
          "base_uri": "https://localhost:8080/",
          "height": 327
        },
        "outputId": "f6a97866-8adb-44a0-fe71-cfdf7d2c4f81"
      },
      "source": [
        "features_ar = features_ar.drop(columns=['key','instrumentalness','mode','time_signature'])\n",
        "features_ar.head()"
      ],
      "execution_count": null,
      "outputs": [
        {
          "output_type": "execute_result",
          "data": {
            "text/html": [
              "<div>\n",
              "<style scoped>\n",
              "    .dataframe tbody tr th:only-of-type {\n",
              "        vertical-align: middle;\n",
              "    }\n",
              "\n",
              "    .dataframe tbody tr th {\n",
              "        vertical-align: top;\n",
              "    }\n",
              "\n",
              "    .dataframe thead th {\n",
              "        text-align: right;\n",
              "    }\n",
              "</style>\n",
              "<table border=\"1\" class=\"dataframe\">\n",
              "  <thead>\n",
              "    <tr style=\"text-align: right;\">\n",
              "      <th></th>\n",
              "      <th>id</th>\n",
              "      <th>name</th>\n",
              "      <th>artists</th>\n",
              "      <th>danceability</th>\n",
              "      <th>energy</th>\n",
              "      <th>loudness</th>\n",
              "      <th>speechiness</th>\n",
              "      <th>acousticness</th>\n",
              "      <th>liveness</th>\n",
              "      <th>valence</th>\n",
              "      <th>tempo</th>\n",
              "      <th>duration_ms</th>\n",
              "      <th>popularity_index</th>\n",
              "    </tr>\n",
              "  </thead>\n",
              "  <tbody>\n",
              "    <tr>\n",
              "      <th>2</th>\n",
              "      <td>4aWmUDTfIPGksMNLV2rQP</td>\n",
              "      <td>Despacito (Featuring Daddy Yankee)</td>\n",
              "      <td>Luis Fonsi</td>\n",
              "      <td>0.660</td>\n",
              "      <td>0.786</td>\n",
              "      <td>-4.757</td>\n",
              "      <td>0.1700</td>\n",
              "      <td>0.2090</td>\n",
              "      <td>0.1120</td>\n",
              "      <td>0.846</td>\n",
              "      <td>177.833</td>\n",
              "      <td>228200.0</td>\n",
              "      <td>7.540566</td>\n",
              "    </tr>\n",
              "    <tr>\n",
              "      <th>22</th>\n",
              "      <td>6De0lHrwBfPfrhorm9q1X</td>\n",
              "      <td>Me Rehúso</td>\n",
              "      <td>Danny Ocean</td>\n",
              "      <td>0.744</td>\n",
              "      <td>0.804</td>\n",
              "      <td>-6.327</td>\n",
              "      <td>0.0677</td>\n",
              "      <td>0.0231</td>\n",
              "      <td>0.0494</td>\n",
              "      <td>0.426</td>\n",
              "      <td>104.823</td>\n",
              "      <td>205715.0</td>\n",
              "      <td>6.608879</td>\n",
              "    </tr>\n",
              "    <tr>\n",
              "      <th>0</th>\n",
              "      <td>7qiZfU4dY1lWllzX7mPBI</td>\n",
              "      <td>Shape of You</td>\n",
              "      <td>Ed Sheeran</td>\n",
              "      <td>0.825</td>\n",
              "      <td>0.652</td>\n",
              "      <td>-3.183</td>\n",
              "      <td>0.0802</td>\n",
              "      <td>0.5810</td>\n",
              "      <td>0.0931</td>\n",
              "      <td>0.931</td>\n",
              "      <td>95.977</td>\n",
              "      <td>233713.0</td>\n",
              "      <td>5.786475</td>\n",
              "    </tr>\n",
              "    <tr>\n",
              "      <th>42</th>\n",
              "      <td>0qYTZCo5Bwh1nsUFGZP3z</td>\n",
              "      <td>Felices los 4</td>\n",
              "      <td>Maluma</td>\n",
              "      <td>0.755</td>\n",
              "      <td>0.789</td>\n",
              "      <td>-4.502</td>\n",
              "      <td>0.1460</td>\n",
              "      <td>0.2310</td>\n",
              "      <td>0.3510</td>\n",
              "      <td>0.737</td>\n",
              "      <td>93.973</td>\n",
              "      <td>229849.0</td>\n",
              "      <td>5.652973</td>\n",
              "    </tr>\n",
              "    <tr>\n",
              "      <th>54</th>\n",
              "      <td>3umS4y3uQDkqekNjVpiRU</td>\n",
              "      <td>El Amante</td>\n",
              "      <td>Nicky Jam</td>\n",
              "      <td>0.683</td>\n",
              "      <td>0.691</td>\n",
              "      <td>-5.535</td>\n",
              "      <td>0.0432</td>\n",
              "      <td>0.2430</td>\n",
              "      <td>0.1400</td>\n",
              "      <td>0.732</td>\n",
              "      <td>179.910</td>\n",
              "      <td>219507.0</td>\n",
              "      <td>4.809053</td>\n",
              "    </tr>\n",
              "  </tbody>\n",
              "</table>\n",
              "</div>"
            ],
            "text/plain": [
              "                       id  ... popularity_index\n",
              "2   4aWmUDTfIPGksMNLV2rQP  ...         7.540566\n",
              "22  6De0lHrwBfPfrhorm9q1X  ...         6.608879\n",
              "0   7qiZfU4dY1lWllzX7mPBI  ...         5.786475\n",
              "42  0qYTZCo5Bwh1nsUFGZP3z  ...         5.652973\n",
              "54  3umS4y3uQDkqekNjVpiRU  ...         4.809053\n",
              "\n",
              "[5 rows x 13 columns]"
            ]
          },
          "metadata": {},
          "execution_count": 38
        }
      ]
    },
    {
      "cell_type": "markdown",
      "metadata": {
        "id": "ihwIprRCB8r8"
      },
      "source": [
        "Normalizamos los atributos"
      ]
    },
    {
      "cell_type": "code",
      "metadata": {
        "id": "kOCQaDCFQAzN"
      },
      "source": [
        "from sklearn.preprocessing import MinMaxScaler\n",
        "\n",
        "scaler = MinMaxScaler()\n",
        "X = scaler.fit_transform(features_ar.iloc[:,3:12].values)\n",
        "y = features_ar.iloc[:,-1].values"
      ],
      "execution_count": null,
      "outputs": []
    },
    {
      "cell_type": "markdown",
      "metadata": {
        "id": "yMHfK53zQXR1"
      },
      "source": [
        "Ahora se procede a hacer una regresión lineal utilizando atributos polinomiales. Como método de regularización se propone Elastic-Net, ya que combina los beneficios de Lasso y Ridge. Como hay varios parámetros por configurar se utilizará Grid-Search utilizando como score el -MSE, ya que es preferible ante el R^2 para comparar modelos\n"
      ]
    },
    {
      "cell_type": "code",
      "metadata": {
        "colab": {
          "base_uri": "https://localhost:8080/"
        },
        "id": "uKOZz0tHQaUM",
        "outputId": "b5310669-9157-4b22-ae52-b713adefa413"
      },
      "source": [
        "from sklearn.model_selection import GridSearchCV\n",
        "from sklearn.pipeline import Pipeline\n",
        "from sklearn.preprocessing import PolynomialFeatures\n",
        "from sklearn.linear_model import ElasticNet\n",
        "\n",
        "poly_features = PolynomialFeatures(include_bias=False)\n",
        "elastic_net = ElasticNet(random_state=0)\n",
        "pipe = Pipeline([(\"poly_features\", poly_features), (\"elastic_net\", elastic_net)])\n",
        "\n",
        "param_grid = {'poly_features__degree': [1, 2, 3],'elastic_net__alpha': [0.2, 0.5, 1.0, 2.0, 4.0],\n",
        "              'elastic_net__l1_ratio': [0.2, 0.5, 0.8], 'elastic_net__selection': ['cyclic', 'random']}\n",
        "\n",
        "gs = GridSearchCV(pipe, param_grid, scoring='neg_mean_squared_error', cv=10, n_jobs=-1)\n",
        "gs.fit(X, y)"
      ],
      "execution_count": null,
      "outputs": [
        {
          "output_type": "execute_result",
          "data": {
            "text/plain": [
              "GridSearchCV(cv=10,\n",
              "             estimator=Pipeline(steps=[('poly_features',\n",
              "                                        PolynomialFeatures(include_bias=False)),\n",
              "                                       ('elastic_net',\n",
              "                                        ElasticNet(random_state=0))]),\n",
              "             n_jobs=-1,\n",
              "             param_grid={'elastic_net__alpha': [0.2, 0.5, 1.0, 2.0, 4.0],\n",
              "                         'elastic_net__l1_ratio': [0.2, 0.5, 0.8],\n",
              "                         'elastic_net__selection': ['cyclic', 'random'],\n",
              "                         'poly_features__degree': [1, 2, 3]},\n",
              "             scoring='neg_mean_squared_error')"
            ]
          },
          "metadata": {},
          "execution_count": 40
        }
      ]
    },
    {
      "cell_type": "code",
      "metadata": {
        "colab": {
          "base_uri": "https://localhost:8080/"
        },
        "id": "8btaLL8NQvVM",
        "outputId": "c21c9733-870a-45d3-a0c4-29e18996fcc3"
      },
      "source": [
        "print('Best score:', gs.best_score_)\n",
        "print('Best params:', gs.best_params_)\n",
        "print('Mean test score:', gs.cv_results_['mean_test_score'])"
      ],
      "execution_count": null,
      "outputs": [
        {
          "output_type": "stream",
          "name": "stdout",
          "text": [
            "Best score: -3.1259847434673675\n",
            "Best params: {'elastic_net__alpha': 0.2, 'elastic_net__l1_ratio': 0.2, 'elastic_net__selection': 'random', 'poly_features__degree': 3}\n",
            "Mean test score: [-3.19789237 -3.14348545 -3.12598939 -3.19783704 -3.14348503 -3.12598474\n",
            " -3.23971571 -3.20966527 -3.20377896 -3.23968854 -3.20966593 -3.20377665\n",
            " -3.27189641 -3.26984954 -3.26984954 -3.27189641 -3.26984962 -3.26949195\n",
            " -3.25709856 -3.23289757 -3.21998032 -3.25678382 -3.23289752 -3.21997996\n",
            " -3.27126077 -3.27126077 -3.27126077 -3.27126077 -3.27126077 -3.27126077\n",
            " -3.27126077 -3.27126077 -3.27126077 -3.27126077 -3.27126077 -3.27126077\n",
            " -3.27126077 -3.27126077 -3.27126077 -3.27126077 -3.27126077 -3.27126077\n",
            " -3.27126077 -3.27126077 -3.27126077 -3.27126077 -3.27126077 -3.27126077\n",
            " -3.27126077 -3.27126077 -3.27126077 -3.27126077 -3.27126077 -3.27126077\n",
            " -3.27126077 -3.27126077 -3.27126077 -3.27126077 -3.27126077 -3.27126077\n",
            " -3.27126077 -3.27126077 -3.27126077 -3.27126077 -3.27126077 -3.27126077\n",
            " -3.27126077 -3.27126077 -3.27126077 -3.27126077 -3.27126077 -3.27126077\n",
            " -3.27126077 -3.27126077 -3.27126077 -3.27126077 -3.27126077 -3.27126077\n",
            " -3.27126077 -3.27126077 -3.27126077 -3.27126077 -3.27126077 -3.27126077\n",
            " -3.27126077 -3.27126077 -3.27126077 -3.27126077 -3.27126077 -3.27126077]\n"
          ]
        }
      ]
    },
    {
      "cell_type": "markdown",
      "metadata": {
        "id": "g9BrbuEyQ9IO"
      },
      "source": [
        "Como se puede ver, el MSE es bastante similar en la mayoría de los casos, siendo mejor para las primeras combinaciones. Dado que la variación de los parámetros fue considerable, sería prudente \"muestrear\" más fino en la zona donde el score es mayor. Se comienza viendo cuáles fueron las primeras 20 combinaciones, las cuales tuvieron mayor score."
      ]
    },
    {
      "cell_type": "code",
      "metadata": {
        "colab": {
          "base_uri": "https://localhost:8080/"
        },
        "id": "rBIhYRtlRGiT",
        "outputId": "7465fb1f-5bbb-4e3f-c72a-a86d5bbc41bb"
      },
      "source": [
        "for key, value in gs.cv_results_.items():\n",
        "    if key[0:6] == 'param_' or key == 'mean_test_score':\n",
        "        print(key, ':', value[0:20])"
      ],
      "execution_count": null,
      "outputs": [
        {
          "output_type": "stream",
          "name": "stdout",
          "text": [
            "param_elastic_net__alpha : [0.2 0.2 0.2 0.2 0.2 0.2 0.2 0.2 0.2 0.2 0.2 0.2 0.2 0.2 0.2 0.2 0.2 0.2\n",
            " 0.5 0.5]\n",
            "param_elastic_net__l1_ratio : [0.2 0.2 0.2 0.2 0.2 0.2 0.5 0.5 0.5 0.5 0.5 0.5 0.8 0.8 0.8 0.8 0.8 0.8\n",
            " 0.2 0.2]\n",
            "param_elastic_net__selection : ['cyclic' 'cyclic' 'cyclic' 'random' 'random' 'random' 'cyclic' 'cyclic'\n",
            " 'cyclic' 'random' 'random' 'random' 'cyclic' 'cyclic' 'cyclic' 'random'\n",
            " 'random' 'random' 'cyclic' 'cyclic']\n",
            "param_poly_features__degree : [1 2 3 1 2 3 1 2 3 1 2 3 1 2 3 1 2 3 1 2]\n",
            "mean_test_score : [-3.19789237 -3.14348545 -3.12598939 -3.19783704 -3.14348503 -3.12598474\n",
            " -3.23971571 -3.20966527 -3.20377896 -3.23968854 -3.20966593 -3.20377665\n",
            " -3.27189641 -3.26984954 -3.26984954 -3.27189641 -3.26984962 -3.26949195\n",
            " -3.25709856 -3.23289757]\n"
          ]
        }
      ]
    },
    {
      "cell_type": "markdown",
      "metadata": {
        "id": "rNkyg9xzRPFv"
      },
      "source": [
        "En cuanto al alpha, las combinaciones seleccionadas corresponden a alpha=0.2, por lo cual podría hacerse un barrido en torno a ese valor. El parámetro \"L1_ratio\" afecta negativamente al error cuando aumenta, lo cual es entendible. Esto es porque a mayor L1 hay coeficientes que directamente se hacen cero, y la métrica MSE no tiene en cuenta la complejidad del modelo, es decir la cantidad de coeficientes. Se podría analizar cómo cambia la cantidad de estos, pero no  encontre como hacerlo con GridSearch. Por esto, configuramos \"l1_ratio=0\".\n",
        "\n",
        "La selección de coeficientes al ser actualizados no cambia el resultado si se realiza de forma cíclica o aleatoria, por lo cual se deja en cíclica. Por otro lado, un mayor orden de los coeficientes polinomiales disminuye el error, lo cual es esperable. La contrapartida es que aumenta considerablemente la complejidad del modelo.\n",
        "\n",
        "A continuación se varían los parámetros alpha y degree para analizar mejor su dependencia."
      ]
    },
    {
      "cell_type": "code",
      "metadata": {
        "colab": {
          "base_uri": "https://localhost:8080/"
        },
        "id": "FYofnTJ9RGa2",
        "outputId": "a8a9f7d1-13c7-4aab-ac4a-1c4db3a32c97"
      },
      "source": [
        "poly_features = PolynomialFeatures(include_bias=False)\n",
        "elastic_net = ElasticNet(l1_ratio=0, max_iter=10000)\n",
        "pipe = Pipeline([(\"poly_features\", poly_features), (\"elastic_net\", elastic_net)])\n",
        "\n",
        "param_grid = {'poly_features__degree': [2, 3, 4, 5, 6],\n",
        "              'elastic_net__alpha': np.round(np.arange(0.05, 0.30, 0.05), 2)}\n",
        "\n",
        "gs = GridSearchCV(pipe, param_grid, scoring='neg_mean_squared_error', cv=10, n_jobs=-1)\n",
        "gs.fit(X, y)\n",
        "\n",
        "for key, value in gs.cv_results_.items():\n",
        "    if key[0:6] == 'param_' or key == 'mean_test_score':\n",
        "        print(key, ':', value)"
      ],
      "execution_count": null,
      "outputs": [
        {
          "output_type": "stream",
          "name": "stdout",
          "text": [
            "param_elastic_net__alpha : [0.05 0.05 0.05 0.05 0.05 0.1 0.1 0.1 0.1 0.1 0.15 0.15 0.15 0.15 0.15 0.2\n",
            " 0.2 0.2 0.2 0.2 0.25 0.25 0.25 0.25 0.25]\n",
            "param_poly_features__degree : [2 3 4 5 6 2 3 4 5 6 2 3 4 5 6 2 3 4 5 6 2 3 4 5 6]\n",
            "mean_test_score : [-3.15786812 -3.14825562 -3.18604869 -3.28054988 -3.39552931 -3.10938185\n",
            " -3.11191596 -3.12424027 -3.16861082 -3.23608492 -3.08489404 -3.08791734\n",
            " -3.09649125 -3.12550714 -3.17376474 -3.07277295 -3.07073474 -3.07772882\n",
            " -3.09993981 -3.13820328 -3.06744642 -3.0582899  -3.06350949 -3.08181384\n",
            " -3.11400537]\n"
          ]
        },
        {
          "output_type": "stream",
          "name": "stderr",
          "text": [
            "/usr/local/lib/python3.7/dist-packages/sklearn/linear_model/_coordinate_descent.py:648: ConvergenceWarning: Objective did not converge. You might want to increase the number of iterations, check the scale of the features or consider increasing regularisation. Duality gap: 9.365e+01, tolerance: 2.348e-02 Linear regression models with null weight for the l1 regularization term are more efficiently fitted using one of the solvers implemented in sklearn.linear_model.Ridge/RidgeCV instead.\n",
            "  coef_, l1_reg, l2_reg, X, y, max_iter, tol, rng, random, positive\n"
          ]
        }
      ]
    },
    {
      "cell_type": "markdown",
      "metadata": {
        "id": "K9k0uY6zSGh8"
      },
      "source": [
        "Vemos que a partir de el feature de orden 4, el error empieza a aumentar, lo que seguramente se debe a que ocurre \"overfitng\". Pero vemos tambien que mientras mayor es el orden, mayor peso tiene alpha. Por lo que ahora usaremos ordenes bajos con alphas mas grandes."
      ]
    },
    {
      "cell_type": "code",
      "metadata": {
        "colab": {
          "base_uri": "https://localhost:8080/"
        },
        "id": "bwFvXFRUTeUc",
        "outputId": "9fbea023-1876-4a4f-e510-a6f09ae1c7c0"
      },
      "source": [
        "param_grid = {'elastic_net__alpha': np.round(np.arange(0.2, 0.6, 0.025), 2),\n",
        "              'poly_features__degree': [2, 3, 4]}\n",
        "\n",
        "gs = GridSearchCV(pipe, param_grid, scoring='neg_mean_squared_error', cv=10, n_jobs=-1)\n",
        "gs.fit(X, y)\n",
        "\n",
        "for key, value in gs.cv_results_.items():\n",
        "    if key[0:6] == 'param_' or key == 'mean_test_score':\n",
        "        print(key, ':', value)"
      ],
      "execution_count": null,
      "outputs": [
        {
          "output_type": "stream",
          "name": "stdout",
          "text": [
            "param_elastic_net__alpha : [0.2 0.2 0.2 0.22 0.22 0.22 0.25 0.25 0.25 0.28 0.28 0.28 0.3 0.3 0.3 0.32\n",
            " 0.32 0.32 0.35 0.35 0.35 0.38 0.38 0.38 0.4 0.4 0.4 0.42 0.42 0.42 0.45\n",
            " 0.45 0.45 0.47 0.47 0.47 0.5 0.5 0.5 0.52 0.52 0.52 0.55 0.55 0.55 0.57\n",
            " 0.57 0.57]\n",
            "param_poly_features__degree : [2 3 4 2 3 4 2 3 4 2 3 4 2 3 4 2 3 4 2 3 4 2 3 4 2 3 4 2 3 4 2 3 4 2 3 4 2\n",
            " 3 4 2 3 4 2 3 4 2 3 4]\n",
            "mean_test_score : [-3.07277295 -3.07073474 -3.07772882 -3.07002524 -3.06527384 -3.07161119\n",
            " -3.06744642 -3.0582899  -3.06350949 -3.06627069 -3.0525314  -3.05646607\n",
            " -3.06608019 -3.04927096 -3.05226459 -3.06626568 -3.04641403 -3.04840832\n",
            " -3.06710649 -3.04279217 -3.0431966  -3.06846981 -3.03985879 -3.03858841\n",
            " -3.0696023  -3.03823491 -3.03581285 -3.07087673 -3.03684608 -3.03325163\n",
            " -3.07299923 -3.03515477 -3.02977485 -3.0745245  -3.03426002 -3.02767881\n",
            " -3.07693588 -3.03322475 -3.02483517 -3.07860596 -3.03271761 -3.02312314\n",
            " -3.08117719 -3.03219923 -3.02080557 -3.08292227 -3.03199868 -3.01941449]\n"
          ]
        },
        {
          "output_type": "stream",
          "name": "stderr",
          "text": [
            "/usr/local/lib/python3.7/dist-packages/sklearn/linear_model/_coordinate_descent.py:648: ConvergenceWarning: Objective did not converge. You might want to increase the number of iterations, check the scale of the features or consider increasing regularisation. Duality gap: 9.403e+01, tolerance: 2.348e-02 Linear regression models with null weight for the l1 regularization term are more efficiently fitted using one of the solvers implemented in sklearn.linear_model.Ridge/RidgeCV instead.\n",
            "  coef_, l1_reg, l2_reg, X, y, max_iter, tol, rng, random, positive\n"
          ]
        }
      ]
    },
    {
      "cell_type": "markdown",
      "metadata": {
        "id": "TnuiuKTuTkoK"
      },
      "source": [
        "Vemos que aumentando el alpha disminuye el error hasta cierto punto, pero en el caso dos llega un dado alpha el cual hace que el error empiece a aumentar con este. Como no hay variasciones considerables en el error se elige el feature de grado 2 por ser el mas simple."
      ]
    },
    {
      "cell_type": "code",
      "metadata": {
        "colab": {
          "base_uri": "https://localhost:8080/",
          "height": 367
        },
        "id": "Yj8rYKkjTh6m",
        "outputId": "b5616214-1aea-4c27-b9de-d2d229e9ab73"
      },
      "source": [
        "import matplotlib.pyplot as plt \n",
        "\n",
        "poly_features = PolynomialFeatures(degree=2, include_bias=False)\n",
        "elastic_net = ElasticNet(l1_ratio=0, max_iter=10000)\n",
        "pipe = Pipeline([(\"poly_features\", poly_features), (\"elastic_net\", elastic_net)])\n",
        "\n",
        "param_grid = {'elastic_net__alpha': np.round(np.arange(0.2, 0.4, 0.01), 2)}\n",
        "\n",
        "gs = GridSearchCV(pipe, param_grid, scoring='neg_mean_squared_error', cv=10, n_jobs=-1)\n",
        "gs.fit(X, y)\n",
        "\n",
        "plt.plot(gs.cv_results_['param_elastic_net__alpha'], gs.cv_results_['mean_test_score'])\n",
        "plt.xlabel('Alpha')\n",
        "plt.ylabel('-MSE')\n",
        "plt.title('-MSE vs L2 penalty')"
      ],
      "execution_count": null,
      "outputs": [
        {
          "output_type": "stream",
          "name": "stderr",
          "text": [
            "/usr/local/lib/python3.7/dist-packages/sklearn/linear_model/_coordinate_descent.py:648: ConvergenceWarning: Objective did not converge. You might want to increase the number of iterations, check the scale of the features or consider increasing regularisation. Duality gap: 1.027e+02, tolerance: 2.348e-02 Linear regression models with null weight for the l1 regularization term are more efficiently fitted using one of the solvers implemented in sklearn.linear_model.Ridge/RidgeCV instead.\n",
            "  coef_, l1_reg, l2_reg, X, y, max_iter, tol, rng, random, positive\n"
          ]
        },
        {
          "output_type": "execute_result",
          "data": {
            "text/plain": [
              "Text(0.5, 1.0, '-MSE vs L2 penalty')"
            ]
          },
          "metadata": {},
          "execution_count": 45
        },
        {
          "output_type": "display_data",
          "data": {
            "image/png": "[encoded data removed]",
            "text/plain": [
              "<Figure size 432x288 with 1 Axes>"
            ]
          },
          "metadata": {}
        }
      ]
    },
    {
      "cell_type": "code",
      "metadata": {
        "colab": {
          "base_uri": "https://localhost:8080/"
        },
        "id": "dTpk_E42T4dF",
        "outputId": "a1955324-7229-406a-db7a-90af082e0b2b"
      },
      "source": [
        "print('Best params:', gs.best_params_)"
      ],
      "execution_count": null,
      "outputs": [
        {
          "output_type": "stream",
          "name": "stdout",
          "text": [
            "Best params: {'elastic_net__alpha': 0.3}\n"
          ]
        }
      ]
    },
    {
      "cell_type": "markdown",
      "metadata": {
        "id": "BxnQ-4qlUCIS"
      },
      "source": [
        "Se utiliza el modelo entonces con los parámetros óptimos y se analiza la importacia de los coeficientes de cada atributo. Para ello se calcula el porcentaje que representa el valor absoluto de cada coeficiente en la suma de los valores absolutos de los coeficientes."
      ]
    },
    {
      "cell_type": "code",
      "metadata": {
        "colab": {
          "base_uri": "https://localhost:8080/"
        },
        "id": "60VdQQlxT8nU",
        "outputId": "aa887687-8e57-4947-d8ae-865db572987c"
      },
      "source": [
        "poly_features = PolynomialFeatures(degree=2, include_bias=False)\n",
        "elastic_net = ElasticNet(l1_ratio=0, alpha=0.3, max_iter=10000)\n",
        "\n",
        "X_poly = poly_features.fit_transform(X)\n",
        "elastic_net.fit(X_poly, y)\n",
        "\n",
        "coefs = np.abs(elastic_net.coef_)\n",
        "names = poly_features.get_feature_names(features_ar.columns[3:13])\n",
        "idxs_sorted = np.argsort(coefs)[::-1]\n",
        "coefs = coefs[idxs_sorted]\n",
        "names = [names[i] for i in idxs_sorted]\n",
        "\n",
        "for i in range(len(names)):\n",
        "    print(names[i] + ':', coefs[i], '(' + str(np.round(100*coefs[i]/np.sum(coefs), 2)) + '%)')"
      ],
      "execution_count": null,
      "outputs": [
        {
          "output_type": "stream",
          "name": "stdout",
          "text": [
            "valence^2: 0.23795026623815843 (5.66%)\n",
            "energy valence: 0.2309096709441782 (5.49%)\n",
            "loudness valence: 0.2075560165871318 (4.93%)\n",
            "valence: 0.1805181403746332 (4.29%)\n",
            "energy: 0.1800885950758671 (4.28%)\n",
            "danceability energy: 0.17604584441149088 (4.19%)\n",
            "energy^2: 0.16705938671586076 (3.97%)\n",
            "danceability valence: 0.1550776270220114 (3.69%)\n",
            "acousticness valence: 0.1467599263776136 (3.49%)\n",
            "energy loudness: 0.1459928037603653 (3.47%)\n",
            "valence duration_ms: 0.12434732395947065 (2.96%)\n",
            "loudness duration_ms: 0.12231722420005842 (2.91%)\n",
            "energy duration_ms: 0.12200685418878815 (2.9%)\n",
            "duration_ms: 0.12166015224936542 (2.89%)\n",
            "danceability loudness: 0.11464925211527292 (2.73%)\n",
            "loudness acousticness: 0.11244147116631827 (2.67%)\n",
            "energy acousticness: 0.10805638035685074 (2.57%)\n",
            "loudness^2: 0.1062267275296219 (2.53%)\n",
            "danceability duration_ms: 0.10406110222031324 (2.47%)\n",
            "loudness: 0.09682332735367097 (2.3%)\n",
            "valence tempo: 0.09555271781516234 (2.27%)\n",
            "tempo^2: 0.08430284916577253 (2.0%)\n",
            "speechiness^2: 0.0690591841158068 (1.64%)\n",
            "danceability acousticness: 0.06808535722549838 (1.62%)\n",
            "acousticness duration_ms: 0.06316628648636793 (1.5%)\n",
            "acousticness: 0.058328729161652014 (1.39%)\n",
            "tempo duration_ms: 0.05553485644799241 (1.32%)\n",
            "liveness^2: 0.05509943819793403 (1.31%)\n",
            "acousticness tempo: 0.04989497206457532 (1.19%)\n",
            "liveness valence: 0.049337909011058834 (1.17%)\n",
            "energy speechiness: 0.049070516445346685 (1.17%)\n",
            "danceability: 0.048556782233924185 (1.15%)\n",
            "duration_ms^2: 0.04654353383012898 (1.11%)\n",
            "danceability^2: 0.039739671815717595 (0.94%)\n",
            "speechiness valence: 0.03944132984840289 (0.94%)\n",
            "liveness tempo: 0.038986391149289354 (0.93%)\n",
            "loudness speechiness: 0.036551177646274816 (0.87%)\n",
            "energy tempo: 0.03637249208758139 (0.86%)\n",
            "liveness duration_ms: 0.0319203742679993 (0.76%)\n",
            "speechiness duration_ms: 0.02842364961385136 (0.68%)\n",
            "danceability liveness: 0.028139119190042035 (0.67%)\n",
            "loudness tempo: 0.025414530225197306 (0.6%)\n",
            "speechiness: 0.020890852706010005 (0.5%)\n",
            "energy liveness: 0.01950477881187936 (0.46%)\n",
            "acousticness liveness: 0.019425706183970944 (0.46%)\n",
            "speechiness acousticness: 0.017980593195983025 (0.43%)\n",
            "speechiness tempo: 0.01737486269470648 (0.41%)\n",
            "danceability speechiness: 0.014396960956289001 (0.34%)\n",
            "liveness: 0.013294904182667933 (0.32%)\n",
            "acousticness^2: 0.007553240506773257 (0.18%)\n",
            "loudness liveness: 0.006495641933833214 (0.15%)\n",
            "danceability tempo: 0.005597070811267229 (0.13%)\n",
            "tempo: 0.005400584298529695 (0.13%)\n",
            "speechiness liveness: 0.0003238348202512482 (0.01%)\n"
          ]
        },
        {
          "output_type": "stream",
          "name": "stderr",
          "text": [
            "/usr/local/lib/python3.7/dist-packages/sklearn/linear_model/_coordinate_descent.py:648: ConvergenceWarning: Objective did not converge. You might want to increase the number of iterations, check the scale of the features or consider increasing regularisation. Duality gap: 1.027e+02, tolerance: 2.348e-02 Linear regression models with null weight for the l1 regularization term are more efficiently fitted using one of the solvers implemented in sklearn.linear_model.Ridge/RidgeCV instead.\n",
            "  coef_, l1_reg, l2_reg, X, y, max_iter, tol, rng, random, positive\n",
            "/usr/local/lib/python3.7/dist-packages/sklearn/utils/deprecation.py:87: FutureWarning: Function get_feature_names is deprecated; get_feature_names is deprecated in 1.0 and will be removed in 1.2. Please use get_feature_names_out instead.\n",
            "  warnings.warn(msg, category=FutureWarning)\n"
          ]
        }
      ]
    },
    {
      "cell_type": "markdown",
      "metadata": {
        "id": "hWFsuotdUIbX"
      },
      "source": [
        "Estos resultados parecen difíciles de analizar ya que aparecen combinaciones de atributos. Por ello se decide formar un único puntaje para cada atributo de la siguiente manera. Para cada atributo se calculará un promedio ponderado de los porcentajes anteriores, cuyos pesos serán 1 si el coeficiente depende de un sólo atributo o 1/2 si depende de 2 atributos."
      ]
    },
    {
      "cell_type": "code",
      "metadata": {
        "id": "NDfFVC-sULzl",
        "colab": {
          "base_uri": "https://localhost:8080/",
          "height": 338
        },
        "outputId": "b73a8609-6584-4f5c-8dd0-66fbbafc5584"
      },
      "source": [
        "coefs_percent = 100*coefs/np.sum(coefs)\n",
        "scores = {key: 0 for key in features_ar.columns[3:12]}\n",
        "\n",
        "for key in scores.keys():\n",
        "    for idx, name in enumerate(names):\n",
        "        if key in name:\n",
        "            w = 1 if name == key or name == key + '^2' else 1/2\n",
        "            scores[key] += w*coefs_percent[idx]\n",
        "\n",
        "scores = {k: v for k, v in sorted(scores.items(), key=lambda item: item[1], reverse=True)}\n",
        "\n",
        "plt.figure(figsize=(15,5))\n",
        "plt.bar(scores.keys(), scores.values(), width=0.5)"
      ],
      "execution_count": null,
      "outputs": [
        {
          "output_type": "execute_result",
          "data": {
            "text/plain": [
              "<BarContainer object of 9 artists>"
            ]
          },
          "metadata": {},
          "execution_count": 49
        },
        {
          "output_type": "display_data",
          "data": {
            "image/png": "[encoded data removed]",
            "text/plain": [
              "<Figure size 1080x360 with 1 Axes>"
            ]
          },
          "metadata": {}
        }
      ]
    },
    {
      "cell_type": "markdown",
      "metadata": {
        "id": "FSHl6dIaUBnh"
      },
      "source": [
        "Vemos que los atributos con mas peso son el \"valance\" y \"energy\" \n",
        "\n",
        "---\n"
      ]
    },
    {
      "cell_type": "markdown",
      "metadata": {
        "id": "cmkOmrHaUPl5"
      },
      "source": [
        "---\n",
        "---\n",
        "\n",
        "Teniendo estos resultados aún nos puede quedar la duda si la decisión de eliminar los atributos que creimos que no aportaban era correcta.\n",
        "\n",
        "Por eso repetimos el proceso, pero ahora teniendo en cuenta dichos atributos.\n"
      ]
    },
    {
      "cell_type": "code",
      "metadata": {
        "colab": {
          "base_uri": "https://localhost:8080/",
          "height": 347
        },
        "id": "9rVeAAvzU6AH",
        "outputId": "f3ffba12-07b7-4e39-fe2d-204d1e02d660"
      },
      "source": [
        "features_ar.head()"
      ],
      "execution_count": null,
      "outputs": [
        {
          "output_type": "execute_result",
          "data": {
            "text/html": [
              "<div>\n",
              "<style scoped>\n",
              "    .dataframe tbody tr th:only-of-type {\n",
              "        vertical-align: middle;\n",
              "    }\n",
              "\n",
              "    .dataframe tbody tr th {\n",
              "        vertical-align: top;\n",
              "    }\n",
              "\n",
              "    .dataframe thead th {\n",
              "        text-align: right;\n",
              "    }\n",
              "</style>\n",
              "<table border=\"1\" class=\"dataframe\">\n",
              "  <thead>\n",
              "    <tr style=\"text-align: right;\">\n",
              "      <th></th>\n",
              "      <th>id</th>\n",
              "      <th>name</th>\n",
              "      <th>artists</th>\n",
              "      <th>danceability</th>\n",
              "      <th>energy</th>\n",
              "      <th>key</th>\n",
              "      <th>loudness</th>\n",
              "      <th>mode</th>\n",
              "      <th>speechiness</th>\n",
              "      <th>acousticness</th>\n",
              "      <th>instrumentalness</th>\n",
              "      <th>liveness</th>\n",
              "      <th>valence</th>\n",
              "      <th>tempo</th>\n",
              "      <th>duration_ms</th>\n",
              "      <th>time_signature</th>\n",
              "      <th>popularity_index</th>\n",
              "    </tr>\n",
              "  </thead>\n",
              "  <tbody>\n",
              "    <tr>\n",
              "      <th>2</th>\n",
              "      <td>4aWmUDTfIPGksMNLV2rQP</td>\n",
              "      <td>Despacito (Featuring Daddy Yankee)</td>\n",
              "      <td>Luis Fonsi</td>\n",
              "      <td>0.660</td>\n",
              "      <td>0.786</td>\n",
              "      <td>2.0</td>\n",
              "      <td>-4.757</td>\n",
              "      <td>1.0</td>\n",
              "      <td>0.1700</td>\n",
              "      <td>0.2090</td>\n",
              "      <td>0.0</td>\n",
              "      <td>0.1120</td>\n",
              "      <td>0.846</td>\n",
              "      <td>177.833</td>\n",
              "      <td>228200.0</td>\n",
              "      <td>4.0</td>\n",
              "      <td>7.540566</td>\n",
              "    </tr>\n",
              "    <tr>\n",
              "      <th>22</th>\n",
              "      <td>6De0lHrwBfPfrhorm9q1X</td>\n",
              "      <td>Me Rehúso</td>\n",
              "      <td>Danny Ocean</td>\n",
              "      <td>0.744</td>\n",
              "      <td>0.804</td>\n",
              "      <td>1.0</td>\n",
              "      <td>-6.327</td>\n",
              "      <td>1.0</td>\n",
              "      <td>0.0677</td>\n",
              "      <td>0.0231</td>\n",
              "      <td>0.0</td>\n",
              "      <td>0.0494</td>\n",
              "      <td>0.426</td>\n",
              "      <td>104.823</td>\n",
              "      <td>205715.0</td>\n",
              "      <td>4.0</td>\n",
              "      <td>6.608879</td>\n",
              "    </tr>\n",
              "    <tr>\n",
              "      <th>0</th>\n",
              "      <td>7qiZfU4dY1lWllzX7mPBI</td>\n",
              "      <td>Shape of You</td>\n",
              "      <td>Ed Sheeran</td>\n",
              "      <td>0.825</td>\n",
              "      <td>0.652</td>\n",
              "      <td>1.0</td>\n",
              "      <td>-3.183</td>\n",
              "      <td>0.0</td>\n",
              "      <td>0.0802</td>\n",
              "      <td>0.5810</td>\n",
              "      <td>0.0</td>\n",
              "      <td>0.0931</td>\n",
              "      <td>0.931</td>\n",
              "      <td>95.977</td>\n",
              "      <td>233713.0</td>\n",
              "      <td>4.0</td>\n",
              "      <td>5.786475</td>\n",
              "    </tr>\n",
              "    <tr>\n",
              "      <th>42</th>\n",
              "      <td>0qYTZCo5Bwh1nsUFGZP3z</td>\n",
              "      <td>Felices los 4</td>\n",
              "      <td>Maluma</td>\n",
              "      <td>0.755</td>\n",
              "      <td>0.789</td>\n",
              "      <td>5.0</td>\n",
              "      <td>-4.502</td>\n",
              "      <td>1.0</td>\n",
              "      <td>0.1460</td>\n",
              "      <td>0.2310</td>\n",
              "      <td>0.0</td>\n",
              "      <td>0.3510</td>\n",
              "      <td>0.737</td>\n",
              "      <td>93.973</td>\n",
              "      <td>229849.0</td>\n",
              "      <td>4.0</td>\n",
              "      <td>5.652973</td>\n",
              "    </tr>\n",
              "    <tr>\n",
              "      <th>54</th>\n",
              "      <td>3umS4y3uQDkqekNjVpiRU</td>\n",
              "      <td>El Amante</td>\n",
              "      <td>Nicky Jam</td>\n",
              "      <td>0.683</td>\n",
              "      <td>0.691</td>\n",
              "      <td>8.0</td>\n",
              "      <td>-5.535</td>\n",
              "      <td>1.0</td>\n",
              "      <td>0.0432</td>\n",
              "      <td>0.2430</td>\n",
              "      <td>0.0</td>\n",
              "      <td>0.1400</td>\n",
              "      <td>0.732</td>\n",
              "      <td>179.910</td>\n",
              "      <td>219507.0</td>\n",
              "      <td>4.0</td>\n",
              "      <td>4.809053</td>\n",
              "    </tr>\n",
              "  </tbody>\n",
              "</table>\n",
              "</div>"
            ],
            "text/plain": [
              "                       id  ... popularity_index\n",
              "2   4aWmUDTfIPGksMNLV2rQP  ...         7.540566\n",
              "22  6De0lHrwBfPfrhorm9q1X  ...         6.608879\n",
              "0   7qiZfU4dY1lWllzX7mPBI  ...         5.786475\n",
              "42  0qYTZCo5Bwh1nsUFGZP3z  ...         5.652973\n",
              "54  3umS4y3uQDkqekNjVpiRU  ...         4.809053\n",
              "\n",
              "[5 rows x 17 columns]"
            ]
          },
          "metadata": {},
          "execution_count": 10
        }
      ]
    },
    {
      "cell_type": "code",
      "metadata": {
        "id": "yTMUwI0zVqXD"
      },
      "source": [
        "from sklearn.preprocessing import MinMaxScaler\n",
        "\n",
        "scaler = MinMaxScaler()\n",
        "X = scaler.fit_transform(features_ar.iloc[:,3:15].values)\n",
        "y = features_ar.iloc[:,-1].values"
      ],
      "execution_count": null,
      "outputs": []
    },
    {
      "cell_type": "code",
      "metadata": {
        "colab": {
          "base_uri": "https://localhost:8080/"
        },
        "id": "hF4Z4_P1V2Tv",
        "outputId": "7eb5bfd5-1aa1-4cae-8209-5095f865dfab"
      },
      "source": [
        "from sklearn.model_selection import GridSearchCV\n",
        "from sklearn.pipeline import Pipeline\n",
        "from sklearn.preprocessing import PolynomialFeatures\n",
        "from sklearn.linear_model import ElasticNet\n",
        "\n",
        "poly_features = PolynomialFeatures(include_bias=False)\n",
        "elastic_net = ElasticNet(random_state=0)\n",
        "pipe = Pipeline([(\"poly_features\", poly_features), (\"elastic_net\", elastic_net)])\n",
        "\n",
        "param_grid = {'poly_features__degree': [1, 2, 3],'elastic_net__alpha': [0.2, 0.5, 1.0, 2.0, 4.0],\n",
        "              'elastic_net__l1_ratio': [0.2, 0.5, 0.8], 'elastic_net__selection': ['cyclic', 'random']}\n",
        "\n",
        "gs = GridSearchCV(pipe, param_grid, scoring='neg_mean_squared_error', cv=10, n_jobs=-1)\n",
        "gs.fit(X, y)"
      ],
      "execution_count": null,
      "outputs": [
        {
          "output_type": "execute_result",
          "data": {
            "text/plain": [
              "GridSearchCV(cv=10,\n",
              "             estimator=Pipeline(steps=[('poly_features',\n",
              "                                        PolynomialFeatures(include_bias=False)),\n",
              "                                       ('elastic_net',\n",
              "                                        ElasticNet(random_state=0))]),\n",
              "             n_jobs=-1,\n",
              "             param_grid={'elastic_net__alpha': [0.2, 0.5, 1.0, 2.0, 4.0],\n",
              "                         'elastic_net__l1_ratio': [0.2, 0.5, 0.8],\n",
              "                         'elastic_net__selection': ['cyclic', 'random'],\n",
              "                         'poly_features__degree': [1, 2, 3]},\n",
              "             scoring='neg_mean_squared_error')"
            ]
          },
          "metadata": {},
          "execution_count": 12
        }
      ]
    },
    {
      "cell_type": "code",
      "metadata": {
        "colab": {
          "base_uri": "https://localhost:8080/"
        },
        "id": "RedFfwebWNHE",
        "outputId": "e2034f3c-1cd1-4271-b8c7-e17df250bc83"
      },
      "source": [
        "print('Best score:', gs.best_score_)\n",
        "print('Best params:', gs.best_params_)\n",
        "print('Mean test score:', gs.cv_results_['mean_test_score'])"
      ],
      "execution_count": null,
      "outputs": [
        {
          "output_type": "stream",
          "name": "stdout",
          "text": [
            "Best score: -3.1909828330228587\n",
            "Best params: {'elastic_net__alpha': 0.2, 'elastic_net__l1_ratio': 0.2, 'elastic_net__selection': 'cyclic', 'poly_features__degree': 3}\n",
            "Mean test score: [-3.21810714 -3.19306471 -3.19098283 -3.21811042 -3.19306403 -3.19098483\n",
            " -3.23971571 -3.21153894 -3.2063075  -3.23992784 -3.21153567 -3.20630508\n",
            " -3.27189641 -3.26984954 -3.26984954 -3.27189641 -3.26992246 -3.26999573\n",
            " -3.25709856 -3.23384253 -3.22154288 -3.25716787 -3.23384225 -3.22154405\n",
            " -3.27126077 -3.27126077 -3.27126077 -3.27126077 -3.27126077 -3.27126077\n",
            " -3.27126077 -3.27126077 -3.27126077 -3.27126077 -3.27126077 -3.27126077\n",
            " -3.27126077 -3.27126077 -3.27126077 -3.27126077 -3.27126077 -3.27126077\n",
            " -3.27126077 -3.27126077 -3.27126077 -3.27126077 -3.27126077 -3.27126077\n",
            " -3.27126077 -3.27126077 -3.27126077 -3.27126077 -3.27126077 -3.27126077\n",
            " -3.27126077 -3.27126077 -3.27126077 -3.27126077 -3.27126077 -3.27126077\n",
            " -3.27126077 -3.27126077 -3.27126077 -3.27126077 -3.27126077 -3.27126077\n",
            " -3.27126077 -3.27126077 -3.27126077 -3.27126077 -3.27126077 -3.27126077\n",
            " -3.27126077 -3.27126077 -3.27126077 -3.27126077 -3.27126077 -3.27126077\n",
            " -3.27126077 -3.27126077 -3.27126077 -3.27126077 -3.27126077 -3.27126077\n",
            " -3.27126077 -3.27126077 -3.27126077 -3.27126077 -3.27126077 -3.27126077]\n"
          ]
        }
      ]
    },
    {
      "cell_type": "code",
      "metadata": {
        "colab": {
          "base_uri": "https://localhost:8080/"
        },
        "id": "ZA65BpOUWk-r",
        "outputId": "944e8f51-7eaf-42b8-da00-3dbe3901f803"
      },
      "source": [
        "for key, value in gs.cv_results_.items():\n",
        "    if key[0:6] == 'param_' or key == 'mean_test_score':\n",
        "        print(key, ':', value[0:20])"
      ],
      "execution_count": null,
      "outputs": [
        {
          "output_type": "stream",
          "name": "stdout",
          "text": [
            "param_elastic_net__alpha : [0.2 0.2 0.2 0.2 0.2 0.2 0.2 0.2 0.2 0.2 0.2 0.2 0.2 0.2 0.2 0.2 0.2 0.2\n",
            " 0.5 0.5]\n",
            "param_elastic_net__l1_ratio : [0.2 0.2 0.2 0.2 0.2 0.2 0.5 0.5 0.5 0.5 0.5 0.5 0.8 0.8 0.8 0.8 0.8 0.8\n",
            " 0.2 0.2]\n",
            "param_elastic_net__selection : ['cyclic' 'cyclic' 'cyclic' 'random' 'random' 'random' 'cyclic' 'cyclic'\n",
            " 'cyclic' 'random' 'random' 'random' 'cyclic' 'cyclic' 'cyclic' 'random'\n",
            " 'random' 'random' 'cyclic' 'cyclic']\n",
            "param_poly_features__degree : [1 2 3 1 2 3 1 2 3 1 2 3 1 2 3 1 2 3 1 2]\n",
            "mean_test_score : [-3.21810714 -3.19306471 -3.19098283 -3.21811042 -3.19306403 -3.19098483\n",
            " -3.23971571 -3.21153894 -3.2063075  -3.23992784 -3.21153567 -3.20630508\n",
            " -3.27189641 -3.26984954 -3.26984954 -3.27189641 -3.26992246 -3.26999573\n",
            " -3.25709856 -3.23384253]\n"
          ]
        }
      ]
    },
    {
      "cell_type": "code",
      "metadata": {
        "colab": {
          "base_uri": "https://localhost:8080/"
        },
        "id": "nveV5AdfWtl-",
        "outputId": "b69ba00d-0293-4889-b985-98b24f601214"
      },
      "source": [
        "poly_features = PolynomialFeatures(include_bias=False)\n",
        "elastic_net = ElasticNet(l1_ratio=0, max_iter=10000)\n",
        "pipe = Pipeline([(\"poly_features\", poly_features), (\"elastic_net\", elastic_net)])\n",
        "\n",
        "param_grid = {'poly_features__degree': [2, 3, 4, 5, 6],\n",
        "              'elastic_net__alpha': np.round(np.arange(0.05, 0.30, 0.05), 2)}\n",
        "\n",
        "gs = GridSearchCV(pipe, param_grid, scoring='neg_mean_squared_error', cv=10, n_jobs=-1)\n",
        "gs.fit(X, y)\n",
        "\n",
        "for key, value in gs.cv_results_.items():\n",
        "    if key[0:6] == 'param_' or key == 'mean_test_score':\n",
        "        print(key, ':', value)"
      ],
      "execution_count": null,
      "outputs": [
        {
          "output_type": "stream",
          "name": "stdout",
          "text": [
            "param_elastic_net__alpha : [0.05 0.05 0.05 0.05 0.05 0.1 0.1 0.1 0.1 0.1 0.15 0.15 0.15 0.15 0.15 0.2\n",
            " 0.2 0.2 0.2 0.2 0.25 0.25 0.25 0.25 0.25]\n",
            "param_poly_features__degree : [2 3 4 5 6 2 3 4 5 6 2 3 4 5 6 2 3 4 5 6 2 3 4 5 6]\n",
            "mean_test_score : [-3.34573307 -3.41876893 -3.55169214 -3.71425233 -3.84374582 -3.27082657\n",
            " -3.33393822 -3.41559008 -3.5302025  -3.64320558 -3.2305251  -3.29003388\n",
            " -3.35542386 -3.44735984 -3.54763651 -3.20629542 -3.26057598 -3.318087\n",
            " -3.39696671 -3.48800921 -3.1910168  -3.2389656  -3.29143178 -3.36171226\n",
            " -3.44574035]\n"
          ]
        },
        {
          "output_type": "stream",
          "name": "stderr",
          "text": [
            "/usr/local/lib/python3.7/dist-packages/sklearn/linear_model/_coordinate_descent.py:648: ConvergenceWarning: Objective did not converge. You might want to increase the number of iterations, check the scale of the features or consider increasing regularisation. Duality gap: 1.002e+02, tolerance: 2.348e-02 Linear regression models with null weight for the l1 regularization term are more efficiently fitted using one of the solvers implemented in sklearn.linear_model.Ridge/RidgeCV instead.\n",
            "  coef_, l1_reg, l2_reg, X, y, max_iter, tol, rng, random, positive\n"
          ]
        }
      ]
    },
    {
      "cell_type": "markdown",
      "metadata": {
        "id": "W7djcoDedoyl"
      },
      "source": [
        "Para este caso el overfiting es mucho mas notorio."
      ]
    },
    {
      "cell_type": "code",
      "metadata": {
        "colab": {
          "base_uri": "https://localhost:8080/"
        },
        "id": "Gbil4sRQeLX6",
        "outputId": "dd80571c-ca44-4373-e2eb-e5ffd33efcb0"
      },
      "source": [
        "param_grid = {'elastic_net__alpha': np.round(np.arange(0.1, 1.6, 0.1), 2),\n",
        "              'poly_features__degree': [2, 3]}\n",
        "\n",
        "gs = GridSearchCV(pipe, param_grid, scoring='neg_mean_squared_error', cv=10, n_jobs=-1)\n",
        "gs.fit(X, y)\n",
        "\n",
        "for key, value in gs.cv_results_.items():\n",
        "    if key[0:6] == 'param_' or key == 'mean_test_score':\n",
        "        print(key, ':', value)"
      ],
      "execution_count": null,
      "outputs": [
        {
          "output_type": "stream",
          "name": "stdout",
          "text": [
            "param_elastic_net__alpha : [0.1 0.1 0.2 0.2 0.3 0.3 0.4 0.4 0.5 0.5 0.6 0.6 0.7 0.7 0.8 0.8 0.9 0.9\n",
            " 1.0 1.0 1.1 1.1 1.2 1.2 1.3 1.3 1.4 1.4 1.5 1.5]\n",
            "param_poly_features__degree : [2 3 2 3 2 3 2 3 2 3 2 3 2 3 2 3 2 3 2 3 2 3 2 3 2 3 2 3 2 3]\n",
            "mean_test_score : [-3.27082657 -3.33393822 -3.20629542 -3.26057598 -3.18120189 -3.22239279\n",
            " -3.17100532 -3.19888593 -3.16760224 -3.18347959 -3.16757562 -3.17309494\n",
            " -3.16928806 -3.16603597 -3.17189172 -3.16127591 -3.17492538 -3.15815299\n",
            " -3.17813041 -3.15622113 -3.18135969 -3.15516937 -3.18452969 -3.15477522\n",
            " -3.18759417 -3.15487615 -3.19052903 -3.15535143 -3.19332357 -3.15611013]\n"
          ]
        },
        {
          "output_type": "stream",
          "name": "stderr",
          "text": [
            "/usr/local/lib/python3.7/dist-packages/sklearn/linear_model/_coordinate_descent.py:648: ConvergenceWarning: Objective did not converge. You might want to increase the number of iterations, check the scale of the features or consider increasing regularisation. Duality gap: 1.034e+02, tolerance: 2.348e-02 Linear regression models with null weight for the l1 regularization term are more efficiently fitted using one of the solvers implemented in sklearn.linear_model.Ridge/RidgeCV instead.\n",
            "  coef_, l1_reg, l2_reg, X, y, max_iter, tol, rng, random, positive\n"
          ]
        }
      ]
    },
    {
      "cell_type": "code",
      "metadata": {
        "colab": {
          "base_uri": "https://localhost:8080/",
          "height": 367
        },
        "id": "m_jI4Pnqf8x_",
        "outputId": "f2d54e90-5f2d-4fe1-ddbd-67e8088ec8bf"
      },
      "source": [
        "import matplotlib.pyplot as plt \n",
        "\n",
        "poly_features = PolynomialFeatures(degree=3, include_bias=False)\n",
        "elastic_net = ElasticNet(l1_ratio=0, max_iter=10000)\n",
        "pipe = Pipeline([(\"poly_features\", poly_features), (\"elastic_net\", elastic_net)])\n",
        "\n",
        "param_grid = {'elastic_net__alpha': np.round(np.arange(0.8, 1.8, 0.01), 2)}\n",
        "\n",
        "gs = GridSearchCV(pipe, param_grid, scoring='neg_mean_squared_error', cv=10, n_jobs=-1)\n",
        "gs.fit(X, y)\n",
        "\n",
        "plt.plot(gs.cv_results_['param_elastic_net__alpha'], gs.cv_results_['mean_test_score'])\n",
        "plt.xlabel('Alpha')\n",
        "plt.ylabel('-MSE')\n",
        "plt.title('-MSE vs L2 penalty')"
      ],
      "execution_count": null,
      "outputs": [
        {
          "output_type": "stream",
          "name": "stderr",
          "text": [
            "/usr/local/lib/python3.7/dist-packages/sklearn/linear_model/_coordinate_descent.py:648: ConvergenceWarning: Objective did not converge. You might want to increase the number of iterations, check the scale of the features or consider increasing regularisation. Duality gap: 1.036e+02, tolerance: 2.348e-02 Linear regression models with null weight for the l1 regularization term are more efficiently fitted using one of the solvers implemented in sklearn.linear_model.Ridge/RidgeCV instead.\n",
            "  coef_, l1_reg, l2_reg, X, y, max_iter, tol, rng, random, positive\n"
          ]
        },
        {
          "output_type": "execute_result",
          "data": {
            "text/plain": [
              "Text(0.5, 1.0, '-MSE vs L2 penalty')"
            ]
          },
          "metadata": {},
          "execution_count": 28
        },
        {
          "output_type": "display_data",
          "data": {
            "image/png": "[encoded data removed]",
            "text/plain": [
              "<Figure size 432x288 with 1 Axes>"
            ]
          },
          "metadata": {
            "needs_background": "light"
          }
        }
      ]
    },
    {
      "cell_type": "code",
      "metadata": {
        "colab": {
          "base_uri": "https://localhost:8080/"
        },
        "id": "e1WDQKzUlZEB",
        "outputId": "daa154cf-7297-4da0-94a4-fcb9e393d15e"
      },
      "source": [
        "print('Best params:', gs.best_params_)"
      ],
      "execution_count": null,
      "outputs": [
        {
          "output_type": "stream",
          "name": "stdout",
          "text": [
            "Best params: {'elastic_net__alpha': 1.23}\n"
          ]
        }
      ]
    },
    {
      "cell_type": "code",
      "metadata": {
        "colab": {
          "base_uri": "https://localhost:8080/"
        },
        "id": "0MIyzNi2pOJX",
        "outputId": "93d171a8-c331-438c-ba5a-6b9ab35e3b8c"
      },
      "source": [
        "poly_features = PolynomialFeatures(degree=3, include_bias=False)\n",
        "elastic_net = ElasticNet(l1_ratio=0, alpha=0.3, max_iter=10000)\n",
        "\n",
        "X_poly = poly_features.fit_transform(X)\n",
        "elastic_net.fit(X_poly, y)\n",
        "\n",
        "coefs = np.abs(elastic_net.coef_)\n",
        "names = poly_features.get_feature_names(features_ar.columns[3:15])\n",
        "idxs_sorted = np.argsort(coefs)[::-1]\n",
        "coefs = coefs[idxs_sorted]\n",
        "names = [names[i] for i in idxs_sorted]\n",
        "\n",
        "for i in range(len(names)):\n",
        "    print(names[i] + ':', coefs[i], '(' + str(np.round(100*coefs[i]/np.sum(coefs), 2)) + '%)')"
      ],
      "execution_count": null,
      "outputs": [
        {
          "output_type": "stream",
          "name": "stdout",
          "text": [
            "energy valence^2: 0.12268235066323478 (0.97%)\n",
            "valence^3: 0.12243663329452088 (0.97%)\n",
            "loudness valence^2: 0.12230928211677818 (0.97%)\n",
            "energy valence: 0.12190243746099778 (0.97%)\n",
            "valence^2: 0.11641459637108738 (0.92%)\n",
            "acousticness valence^2: 0.11320374796890202 (0.9%)\n",
            "mode tempo^2: 0.10558792864688973 (0.84%)\n",
            "energy^2 valence: 0.10401616026447641 (0.83%)\n",
            "danceability energy valence: 0.10276752522561261 (0.82%)\n",
            "loudness acousticness valence: 0.1025023633431638 (0.81%)\n",
            "danceability energy: 0.10133689804056538 (0.81%)\n",
            "energy loudness valence: 0.10115453179821102 (0.8%)\n",
            "acousticness valence: 0.1003982681458511 (0.8%)\n",
            "mode valence tempo: 0.0989961974744454 (0.79%)\n",
            "loudness valence: 0.09668682316576918 (0.77%)\n",
            "loudness^2 valence: 0.09607128779149175 (0.76%)\n",
            "danceability energy^2: 0.09495515759707177 (0.75%)\n",
            "energy: 0.09092276897970712 (0.72%)\n",
            "danceability valence^2: 0.08897874158743828 (0.71%)\n",
            "danceability loudness valence: 0.0866955549151314 (0.69%)\n",
            "danceability energy mode: 0.08469056283995482 (0.67%)\n",
            "loudness^2 mode: 0.08456871210116353 (0.67%)\n",
            "duration_ms: 0.08371738719219371 (0.67%)\n",
            "energy^2: 0.0818903501554068 (0.65%)\n",
            "tempo^3: 0.08188024471097968 (0.65%)\n",
            "danceability^2 energy: 0.08178256172949168 (0.65%)\n",
            "valence tempo^2: 0.08015000158021467 (0.64%)\n",
            "energy acousticness valence: 0.07830252064454019 (0.62%)\n",
            "mode^2 tempo: 0.07731827531455576 (0.61%)\n",
            "mode tempo: 0.07731827531455575 (0.61%)\n",
            "loudness duration_ms: 0.07727046018872648 (0.61%)\n",
            "valence duration_ms: 0.07703765056011683 (0.61%)\n",
            "danceability acousticness valence: 0.0768322835842374 (0.61%)\n",
            "energy duration_ms: 0.0759251492738726 (0.6%)\n",
            "valence: 0.0745592205942114 (0.59%)\n",
            "loudness^2 acousticness: 0.07398532088302612 (0.59%)\n",
            "danceability duration_ms: 0.07387279719448489 (0.59%)\n",
            "valence^2 duration_ms: 0.0737020653076804 (0.59%)\n",
            "valence^2 tempo: 0.07325203394608668 (0.58%)\n",
            "danceability energy loudness: 0.07282796786036345 (0.58%)\n",
            "key^2 mode: 0.07238385446233406 (0.58%)\n",
            "loudness valence duration_ms: 0.0718870818590534 (0.57%)\n",
            "loudness acousticness: 0.07149957483701819 (0.57%)\n",
            "liveness^3: 0.07015834876642438 (0.56%)\n",
            "energy valence duration_ms: 0.07004318573335118 (0.56%)\n",
            "danceability mode tempo: 0.06998075367158475 (0.56%)\n",
            "danceability valence: 0.06969520825317273 (0.55%)\n",
            "danceability loudness duration_ms: 0.06857792230312194 (0.54%)\n",
            "danceability energy duration_ms: 0.0684376510554416 (0.54%)\n",
            "mode liveness^2: 0.06610113252999462 (0.53%)\n",
            "danceability valence duration_ms: 0.06306918657738644 (0.5%)\n",
            "loudness^2 duration_ms: 0.06291583555081162 (0.5%)\n",
            "danceability loudness acousticness: 0.06238509999327865 (0.5%)\n",
            "energy acousticness: 0.061671346507415785 (0.49%)\n",
            "mode duration_ms: 0.061611779454785603 (0.49%)\n",
            "mode^2 duration_ms: 0.06161177945478559 (0.49%)\n",
            "key mode^2: 0.06157989673463018 (0.49%)\n",
            "key mode: 0.06157989673463018 (0.49%)\n",
            "danceability mode duration_ms: 0.06103435848345543 (0.48%)\n",
            "energy loudness duration_ms: 0.060991937650362996 (0.48%)\n",
            "energy^2 duration_ms: 0.06044234483018156 (0.48%)\n",
            "energy^3: 0.060026778452075324 (0.48%)\n",
            "energy loudness: 0.05919660759492162 (0.47%)\n",
            "energy loudness acousticness: 0.05745346424240581 (0.46%)\n",
            "danceability key^2: 0.057102728653855156 (0.45%)\n",
            "loudness mode: 0.05596352634931032 (0.44%)\n",
            "loudness mode^2: 0.05596352634931031 (0.44%)\n",
            "acousticness^2 valence: 0.055828549996542694 (0.44%)\n",
            "tempo^2: 0.055467572824392 (0.44%)\n",
            "danceability^2 duration_ms: 0.055017296159391535 (0.44%)\n",
            "energy mode tempo: 0.05491146282320204 (0.44%)\n",
            "mode tempo duration_ms: 0.054822167440752426 (0.44%)\n",
            "speechiness^3: 0.05336917089975225 (0.42%)\n",
            "acousticness valence duration_ms: 0.05271738177192963 (0.42%)\n",
            "speechiness^2: 0.05162542027029325 (0.41%)\n",
            "valence tempo: 0.050720040362077126 (0.4%)\n",
            "danceability liveness^2: 0.05002391199785321 (0.4%)\n",
            "danceability energy acousticness: 0.04995527323730825 (0.4%)\n",
            "energy mode duration_ms: 0.049535955493696215 (0.39%)\n",
            "energy^2 loudness: 0.04923925536870405 (0.39%)\n",
            "loudness acousticness duration_ms: 0.049201341939552334 (0.39%)\n",
            "danceability^2 valence: 0.04890462245931096 (0.39%)\n",
            "danceability loudness: 0.048769517723155686 (0.39%)\n",
            "danceability mode liveness: 0.04799679506775144 (0.38%)\n",
            "loudness mode tempo: 0.047540961923331244 (0.38%)\n",
            "key^2 valence: 0.04733739682840463 (0.38%)\n",
            "danceability loudness^2: 0.04709339377500263 (0.37%)\n",
            "energy^2 acousticness: 0.046937281528890394 (0.37%)\n",
            "acousticness duration_ms: 0.046835292738271854 (0.37%)\n",
            "mode acousticness tempo: 0.04575173094188941 (0.36%)\n",
            "danceability^2 mode: 0.045369072482308585 (0.36%)\n",
            "energy valence tempo: 0.04520988233406209 (0.36%)\n",
            "acousticness tempo^2: 0.044680731035390865 (0.35%)\n",
            "key loudness mode: 0.044639325980704796 (0.35%)\n",
            "loudness tempo^2: 0.044368231508830645 (0.35%)\n",
            "energy mode^2: 0.04409615660440081 (0.35%)\n",
            "energy mode: 0.04409615660440076 (0.35%)\n",
            "energy mode valence: 0.04367791560659729 (0.35%)\n",
            "key liveness^2: 0.0434958712518518 (0.35%)\n",
            "loudness valence tempo: 0.04307716339586771 (0.34%)\n",
            "key^3: 0.043005519581038154 (0.34%)\n",
            "acousticness valence tempo: 0.04279160163379698 (0.34%)\n",
            "danceability mode: 0.04256982723507342 (0.34%)\n",
            "danceability mode^2: 0.04256982723507342 (0.34%)\n",
            "liveness tempo: 0.04227041492054649 (0.34%)\n",
            "acousticness: 0.041741811521848166 (0.33%)\n",
            "danceability acousticness: 0.04148017931646542 (0.33%)\n",
            "mode speechiness valence: 0.041316419272239904 (0.33%)\n",
            "danceability^2 loudness: 0.041145528716774994 (0.33%)\n",
            "key^2 speechiness: 0.0405266927906577 (0.32%)\n",
            "loudness acousticness^2: 0.040333184386873305 (0.32%)\n",
            "liveness^2 valence: 0.04009594918971468 (0.32%)\n",
            "key loudness duration_ms: 0.03995154535408279 (0.32%)\n",
            "mode valence duration_ms: 0.03983897272163604 (0.32%)\n",
            "valence tempo duration_ms: 0.03933822728289344 (0.31%)\n",
            "energy speechiness valence: 0.03931943311382757 (0.31%)\n",
            "speechiness valence^2: 0.038812520143754935 (0.31%)\n",
            "mode liveness valence: 0.03880804196962092 (0.31%)\n",
            "danceability speechiness^2: 0.03879101386305341 (0.31%)\n",
            "energy key duration_ms: 0.03872429871339835 (0.31%)\n",
            "energy loudness^2: 0.03850427935665825 (0.31%)\n",
            "danceability^2 key: 0.03811972396496131 (0.3%)\n",
            "loudness mode duration_ms: 0.037992987159152045 (0.3%)\n",
            "loudness speechiness valence: 0.03776191720748142 (0.3%)\n",
            "energy tempo^2: 0.03768049734254727 (0.3%)\n",
            "key mode liveness: 0.03762780869283442 (0.3%)\n",
            "danceability acousticness duration_ms: 0.03754365431605918 (0.3%)\n",
            "energy acousticness duration_ms: 0.03748749898835584 (0.3%)\n",
            "key loudness^2: 0.03748064199995971 (0.3%)\n",
            "danceability tempo^2: 0.037038024183605765 (0.29%)\n",
            "liveness: 0.03669051454143389 (0.29%)\n",
            "mode acousticness^2: 0.03665898467838262 (0.29%)\n",
            "energy key loudness: 0.03637095270887947 (0.29%)\n",
            "acousticness tempo: 0.03636124778106831 (0.29%)\n",
            "key loudness: 0.0360480586635144 (0.29%)\n",
            "tempo duration_ms: 0.035830333120566854 (0.28%)\n",
            "liveness valence^2: 0.03539468778358013 (0.28%)\n",
            "key speechiness^2: 0.03515264966674676 (0.28%)\n",
            "energy mode speechiness: 0.034774572833419566 (0.28%)\n",
            "tempo^2 duration_ms: 0.03477125858840308 (0.28%)\n",
            "energy key valence: 0.03457248691837937 (0.27%)\n",
            "mode acousticness duration_ms: 0.034215345110661335 (0.27%)\n",
            "danceability^2 acousticness: 0.03397345581272461 (0.27%)\n",
            "energy key: 0.03384696499102374 (0.27%)\n",
            "liveness^2: 0.03382700684553001 (0.27%)\n",
            "danceability liveness valence: 0.03362783463415111 (0.27%)\n",
            "key speechiness: 0.03301348767951302 (0.26%)\n",
            "key^2: 0.03265489090005775 (0.26%)\n",
            "key duration_ms: 0.03261634834043379 (0.26%)\n",
            "danceability key liveness: 0.031279381235764805 (0.25%)\n",
            "loudness: 0.030919828726860037 (0.25%)\n",
            "key mode tempo: 0.03081245019403456 (0.24%)\n",
            "key^2 tempo: 0.03080949189908293 (0.24%)\n",
            "energy liveness tempo: 0.030375975263349814 (0.24%)\n",
            "energy loudness speechiness: 0.030295479028210937 (0.24%)\n",
            "energy^2 speechiness: 0.030275027168866653 (0.24%)\n",
            "energy mode acousticness: 0.03014624196521112 (0.24%)\n",
            "energy speechiness: 0.029986553741559896 (0.24%)\n",
            "loudness liveness tempo: 0.029963417826944696 (0.24%)\n",
            "mode liveness duration_ms: 0.029804842376592183 (0.24%)\n",
            "energy key mode: 0.02959266861092533 (0.24%)\n",
            "danceability valence tempo: 0.028935778223741302 (0.23%)\n",
            "danceability duration_ms^2: 0.028792102478576206 (0.23%)\n",
            "danceability key speechiness: 0.02867116718196765 (0.23%)\n",
            "loudness acousticness tempo: 0.028598180736697405 (0.23%)\n",
            "loudness tempo duration_ms: 0.02842761957893636 (0.23%)\n",
            "speechiness^2 tempo: 0.027891860631069926 (0.22%)\n",
            "loudness^2: 0.027889972801662184 (0.22%)\n",
            "loudness^2 speechiness: 0.027705041237951866 (0.22%)\n",
            "danceability key: 0.02769436727068878 (0.22%)\n",
            "danceability tempo duration_ms: 0.02765228988779989 (0.22%)\n",
            "danceability energy speechiness: 0.027642875738502937 (0.22%)\n",
            "energy acousticness tempo: 0.0275367309864799 (0.22%)\n",
            "key tempo^2: 0.027280292278776628 (0.22%)\n",
            "duration_ms^2: 0.02724232475859311 (0.22%)\n",
            "energy^2 key: 0.027047558643154317 (0.21%)\n",
            "energy acousticness^2: 0.026836683972366406 (0.21%)\n",
            "loudness duration_ms^2: 0.026819685493154943 (0.21%)\n",
            "danceability energy key: 0.02681743247108558 (0.21%)\n",
            "acousticness liveness valence: 0.026387015416004276 (0.21%)\n",
            "speechiness acousticness valence: 0.025868934583352744 (0.21%)\n",
            "energy^2 mode: 0.025624839024904998 (0.2%)\n",
            "speechiness valence: 0.025195558244312122 (0.2%)\n",
            "energy key liveness: 0.025013311472344806 (0.2%)\n",
            "energy liveness valence: 0.02478214643119108 (0.2%)\n",
            "loudness liveness: 0.02472327978807781 (0.2%)\n",
            "mode speechiness duration_ms: 0.024628430841043818 (0.2%)\n",
            "valence duration_ms^2: 0.024444722192879093 (0.19%)\n",
            "key speechiness tempo: 0.024442513154344002 (0.19%)\n",
            "energy duration_ms^2: 0.024186567634260678 (0.19%)\n",
            "energy tempo duration_ms: 0.02395576176915661 (0.19%)\n",
            "key loudness liveness: 0.023911088348325487 (0.19%)\n",
            "liveness^2 duration_ms: 0.02372896983934046 (0.19%)\n",
            "loudness^3: 0.02366956411578658 (0.19%)\n",
            "key liveness: 0.023539401314765614 (0.19%)\n",
            "mode: 0.02353194413860666 (0.19%)\n",
            "mode^3: 0.023531944138606646 (0.19%)\n",
            "mode^2: 0.023531944138606608 (0.19%)\n",
            "key^2 acousticness: 0.023321762889215863 (0.19%)\n",
            "acousticness tempo duration_ms: 0.023227309684740533 (0.18%)\n",
            "energy liveness^2: 0.02311593146980732 (0.18%)\n",
            "danceability liveness tempo: 0.022645962576583068 (0.18%)\n",
            "liveness^2 tempo: 0.02258728381494758 (0.18%)\n",
            "mode speechiness^2: 0.02250231312880261 (0.18%)\n",
            "key loudness valence: 0.022404810249256526 (0.18%)\n",
            "loudness^2 liveness: 0.022259064950385418 (0.18%)\n",
            "danceability acousticness tempo: 0.021764311512468906 (0.17%)\n",
            "speechiness valence duration_ms: 0.021672730704396053 (0.17%)\n",
            "mode acousticness liveness: 0.021623687597834538 (0.17%)\n",
            "mode^2 instrumentalness: 0.02140988774760313 (0.17%)\n",
            "mode instrumentalness: 0.021409887747603124 (0.17%)\n",
            "instrumentalness: 0.021384757509382943 (0.17%)\n",
            "danceability^2 liveness: 0.021286886668051386 (0.17%)\n",
            "loudness speechiness duration_ms: 0.021246742533180513 (0.17%)\n",
            "energy key acousticness: 0.021049765046097808 (0.17%)\n",
            "danceability liveness duration_ms: 0.020869220381928597 (0.17%)\n",
            "acousticness duration_ms^2: 0.020831147780094685 (0.17%)\n",
            "key^2 liveness: 0.02074138649478037 (0.16%)\n",
            "liveness valence duration_ms: 0.0206599598529841 (0.16%)\n",
            "speechiness tempo: 0.020412784267383667 (0.16%)\n",
            "loudness speechiness acousticness: 0.0202940493537793 (0.16%)\n",
            "energy speechiness duration_ms: 0.0202339592291816 (0.16%)\n",
            "key liveness duration_ms: 0.020010754696264395 (0.16%)\n",
            "key liveness valence: 0.019999842289892083 (0.16%)\n",
            "loudness speechiness: 0.01995080714057007 (0.16%)\n",
            "danceability: 0.019734180782126274 (0.16%)\n",
            "mode speechiness liveness: 0.01970663805441698 (0.16%)\n",
            "acousticness^2 duration_ms: 0.01947970732191734 (0.15%)\n",
            "key acousticness^2: 0.019432961788577504 (0.15%)\n",
            "danceability mode valence: 0.01933638726172953 (0.15%)\n",
            "energy speechiness acousticness: 0.01932410727245982 (0.15%)\n",
            "danceability acousticness^2: 0.019098459928269383 (0.15%)\n",
            "danceability key tempo: 0.018958009972357748 (0.15%)\n",
            "danceability energy liveness: 0.01893078509322775 (0.15%)\n",
            "tempo duration_ms^2: 0.0188134326980714 (0.15%)\n",
            "loudness liveness valence: 0.01875370160098442 (0.15%)\n",
            "key speechiness valence: 0.01859971226528323 (0.15%)\n",
            "danceability key duration_ms: 0.018543398912825144 (0.15%)\n",
            "danceability loudness speechiness: 0.018527215538500428 (0.15%)\n",
            "key valence duration_ms: 0.018493370182453547 (0.15%)\n",
            "danceability^2 tempo: 0.01843870064675697 (0.15%)\n",
            "energy loudness mode: 0.01841460968974329 (0.15%)\n",
            "speechiness duration_ms: 0.018323260098344816 (0.15%)\n",
            "loudness mode valence: 0.018307575003142774 (0.15%)\n",
            "speechiness: 0.018071558904859744 (0.14%)\n",
            "danceability mode speechiness: 0.018011941331390398 (0.14%)\n",
            "loudness liveness^2: 0.017887320793087084 (0.14%)\n",
            "mode duration_ms^2: 0.017766814943330246 (0.14%)\n",
            "danceability speechiness valence: 0.01766083119359165 (0.14%)\n",
            "key mode duration_ms: 0.01714953709089579 (0.14%)\n",
            "key liveness tempo: 0.016783724411720137 (0.13%)\n",
            "loudness mode speechiness: 0.016749421036067202 (0.13%)\n",
            "liveness duration_ms: 0.01667776563177365 (0.13%)\n",
            "key loudness acousticness: 0.016219602204175558 (0.13%)\n",
            "speechiness acousticness: 0.015984530183793734 (0.13%)\n",
            "key tempo duration_ms: 0.015924849835365042 (0.13%)\n",
            "energy liveness: 0.015865620855049934 (0.13%)\n",
            "energy acousticness liveness: 0.015845994178549715 (0.13%)\n",
            "speechiness liveness tempo: 0.015709887025556816 (0.12%)\n",
            "key acousticness valence: 0.01525779741591991 (0.12%)\n",
            "energy liveness duration_ms: 0.015216201919090422 (0.12%)\n",
            "mode acousticness valence: 0.014963795189139983 (0.12%)\n",
            "liveness valence: 0.014663172308129522 (0.12%)\n",
            "danceability speechiness duration_ms: 0.014620024917813156 (0.12%)\n",
            "energy loudness liveness: 0.014559536749443783 (0.12%)\n",
            "speechiness^2 liveness: 0.014401337859547746 (0.11%)\n",
            "danceability key loudness: 0.014145177717601532 (0.11%)\n",
            "danceability mode instrumentalness: 0.014051391977451064 (0.11%)\n",
            "danceability instrumentalness: 0.014033080257366432 (0.11%)\n",
            "loudness liveness duration_ms: 0.014002173165837881 (0.11%)\n",
            "speechiness acousticness duration_ms: 0.013874848360175343 (0.11%)\n",
            "key acousticness tempo: 0.013725323976538044 (0.11%)\n",
            "danceability speechiness tempo: 0.01323219535064851 (0.11%)\n",
            "danceability^2 speechiness: 0.013097823605601343 (0.1%)\n",
            "loudness acousticness liveness: 0.01268987234201418 (0.1%)\n",
            "mode instrumentalness^2: 0.012428915237023568 (0.1%)\n",
            "instrumentalness^2: 0.012428910697914955 (0.1%)\n",
            "tempo: 0.012332250247077538 (0.1%)\n",
            "liveness tempo^2: 0.012193330460698008 (0.1%)\n",
            "speechiness liveness^2: 0.012179473315508912 (0.1%)\n",
            "danceability speechiness acousticness: 0.012133503337823712 (0.1%)\n",
            "mode speechiness acousticness: 0.011863260883536704 (0.09%)\n",
            "speechiness^2 valence: 0.0118260768368981 (0.09%)\n",
            "danceability acousticness liveness: 0.011698520462662343 (0.09%)\n",
            "key tempo: 0.011686253671405668 (0.09%)\n",
            "mode valence^2: 0.011588808451592403 (0.09%)\n",
            "danceability speechiness: 0.011429213333897108 (0.09%)\n",
            "speechiness duration_ms^2: 0.011324136850273265 (0.09%)\n",
            "energy mode instrumentalness: 0.011314081103049807 (0.09%)\n",
            "loudness speechiness^2: 0.01131191181197724 (0.09%)\n",
            "energy instrumentalness: 0.011291763020363332 (0.09%)\n",
            "acousticness liveness^2: 0.010943608778610187 (0.09%)\n",
            "energy mode liveness: 0.010802325926229215 (0.09%)\n",
            "speechiness valence tempo: 0.010632365300280854 (0.08%)\n",
            "instrumentalness^3: 0.010582675448871133 (0.08%)\n",
            "instrumentalness tempo: 0.010576688553403353 (0.08%)\n",
            "mode instrumentalness tempo: 0.010575483601299986 (0.08%)\n",
            "energy^2 liveness: 0.010560612248456773 (0.08%)\n",
            "liveness valence tempo: 0.010421843103212617 (0.08%)\n",
            "danceability energy tempo: 0.010407575599681333 (0.08%)\n",
            "key acousticness duration_ms: 0.010300579175248884 (0.08%)\n",
            "key mode speechiness: 0.010283576015952194 (0.08%)\n",
            "key mode valence: 0.010278005141074771 (0.08%)\n",
            "loudness mode instrumentalness: 0.010122365526717235 (0.08%)\n",
            "loudness instrumentalness: 0.010097541479049846 (0.08%)\n",
            "speechiness acousticness tempo: 0.01004992226934017 (0.08%)\n",
            "key acousticness liveness: 0.009819456450825515 (0.08%)\n",
            "acousticness^2 tempo: 0.009798401002154523 (0.08%)\n",
            "danceability^2: 0.009755346216477882 (0.08%)\n",
            "danceability^2 instrumentalness: 0.00969965811953196 (0.08%)\n",
            "key duration_ms^2: 0.00951331565945756 (0.08%)\n",
            "danceability loudness liveness: 0.009370968842615656 (0.07%)\n",
            "key acousticness: 0.00929900157708398 (0.07%)\n",
            "danceability tempo: 0.009273955675288825 (0.07%)\n",
            "mode speechiness tempo: 0.009196059860906098 (0.07%)\n",
            "energy speechiness liveness: 0.009071504348184135 (0.07%)\n",
            "loudness^2 tempo: 0.009032424842926084 (0.07%)\n",
            "key mode instrumentalness: 0.00878653543295291 (0.07%)\n",
            "key instrumentalness: 0.008759490392616058 (0.07%)\n",
            "mode liveness tempo: 0.008686320604795461 (0.07%)\n",
            "mode^2 liveness: 0.008674553226491601 (0.07%)\n",
            "mode liveness: 0.008674553226491587 (0.07%)\n",
            "speechiness liveness valence: 0.008603235905721636 (0.07%)\n",
            "energy key tempo: 0.008569184475264231 (0.07%)\n",
            "acousticness^2: 0.008516732954770958 (0.07%)\n",
            "acousticness^2 liveness: 0.008111880324025557 (0.06%)\n",
            "danceability key mode: 0.008070394397869553 (0.06%)\n",
            "key valence^2: 0.007969497451654374 (0.06%)\n",
            "energy instrumentalness^2: 0.007965043606869062 (0.06%)\n",
            "energy key^2: 0.007963879791232989 (0.06%)\n",
            "energy^2 instrumentalness: 0.007947900125832718 (0.06%)\n",
            "key^2 instrumentalness: 0.00781978197707197 (0.06%)\n",
            "mode^2 speechiness: 0.0077776430376748406 (0.06%)\n",
            "mode speechiness: 0.007777643037674825 (0.06%)\n",
            "instrumentalness^2 tempo: 0.007764463853575675 (0.06%)\n",
            "acousticness liveness: 0.007724753019636359 (0.06%)\n",
            "energy loudness instrumentalness: 0.007384812420081416 (0.06%)\n",
            "mode instrumentalness duration_ms: 0.007269006236640436 (0.06%)\n",
            "instrumentalness duration_ms: 0.007260889208276416 (0.06%)\n",
            "danceability instrumentalness^2: 0.007248732308516712 (0.06%)\n",
            "loudness instrumentalness^2: 0.007179122717379115 (0.06%)\n",
            "acousticness liveness duration_ms: 0.007146829889813102 (0.06%)\n",
            "loudness^2 instrumentalness: 0.007105703524073676 (0.06%)\n",
            "mode instrumentalness valence: 0.0070770086187292285 (0.06%)\n",
            "instrumentalness valence: 0.007053952055219509 (0.06%)\n",
            "loudness speechiness liveness: 0.006923554329211443 (0.06%)\n",
            "danceability key valence: 0.006812986465028428 (0.05%)\n",
            "danceability key instrumentalness: 0.006760462683514042 (0.05%)\n",
            "danceability^3: 0.006750324595444601 (0.05%)\n",
            "key^2 duration_ms: 0.006698988319726054 (0.05%)\n",
            "energy instrumentalness tempo: 0.006517768989868905 (0.05%)\n",
            "instrumentalness tempo^2: 0.006492271543947691 (0.05%)\n",
            "key speechiness acousticness: 0.006469675509273184 (0.05%)\n",
            "danceability energy instrumentalness: 0.006465183843205822 (0.05%)\n",
            "key valence: 0.006461222517939769 (0.05%)\n",
            "danceability instrumentalness tempo: 0.006332894002893604 (0.05%)\n",
            "danceability loudness mode: 0.006320206914058937 (0.05%)\n",
            "speechiness acousticness liveness: 0.00621357508740453 (0.05%)\n",
            "loudness instrumentalness tempo: 0.006050245210501475 (0.05%)\n",
            "energy^2 tempo: 0.006024448619262064 (0.05%)\n",
            "danceability key acousticness: 0.005684456121116041 (0.05%)\n",
            "danceability loudness instrumentalness: 0.00568431841960075 (0.05%)\n",
            "key^2 loudness: 0.0056071061103362884 (0.04%)\n",
            "key instrumentalness duration_ms: 0.00553682732739094 (0.04%)\n",
            "danceability instrumentalness duration_ms: 0.005506480186739265 (0.04%)\n",
            "speechiness liveness duration_ms: 0.005477843271048206 (0.04%)\n",
            "speechiness acousticness^2: 0.0054327876830324254 (0.04%)\n",
            "key: 0.005430417170644664 (0.04%)\n",
            "danceability mode acousticness: 0.005217934251519729 (0.04%)\n",
            "energy loudness tempo: 0.005110925038171605 (0.04%)\n",
            "speechiness tempo duration_ms: 0.005072563652186218 (0.04%)\n",
            "danceability liveness: 0.005019754888860141 (0.04%)\n",
            "loudness mode acousticness: 0.004987196775273601 (0.04%)\n",
            "loudness tempo: 0.004730983868954565 (0.04%)\n",
            "danceability instrumentalness valence: 0.004722383903452847 (0.04%)\n",
            "mode instrumentalness liveness: 0.004678802194787988 (0.04%)\n",
            "instrumentalness liveness: 0.004675052805013808 (0.04%)\n",
            "liveness duration_ms^2: 0.004501533066742768 (0.04%)\n",
            "instrumentalness duration_ms^2: 0.0042011485831619025 (0.03%)\n",
            "speechiness^2 duration_ms: 0.003990061811870538 (0.03%)\n",
            "loudness mode liveness: 0.003921991559756179 (0.03%)\n",
            "energy speechiness tempo: 0.003883090980399129 (0.03%)\n",
            "speechiness tempo^2: 0.003870693473362053 (0.03%)\n",
            "energy instrumentalness valence: 0.003834042879489226 (0.03%)\n",
            "energy speechiness^2: 0.003613699311073726 (0.03%)\n",
            "energy key speechiness: 0.0035722149219585986 (0.03%)\n",
            "mode speechiness instrumentalness: 0.0035302346117927455 (0.03%)\n",
            "speechiness instrumentalness: 0.0035278944975021477 (0.03%)\n",
            "loudness instrumentalness valence: 0.0034511244482399906 (0.03%)\n",
            "speechiness liveness: 0.0033399921329679153 (0.03%)\n",
            "key instrumentalness valence: 0.0033172462732478456 (0.03%)\n",
            "instrumentalness^2 valence: 0.0032499751683481948 (0.03%)\n",
            "key loudness speechiness: 0.003055972818711046 (0.02%)\n",
            "instrumentalness^2 liveness: 0.0030452350812491314 (0.02%)\n",
            "instrumentalness^2 duration_ms: 0.0029489240340525376 (0.02%)\n",
            "danceability instrumentalness liveness: 0.002929827136410748 (0.02%)\n",
            "instrumentalness valence tempo: 0.0029156931667716395 (0.02%)\n",
            "instrumentalness valence^2: 0.0028713719972503406 (0.02%)\n",
            "key speechiness liveness: 0.002827688617895757 (0.02%)\n",
            "mode acousticness instrumentalness: 0.002803391676032606 (0.02%)\n",
            "acousticness instrumentalness: 0.002801999798883798 (0.02%)\n",
            "key instrumentalness^2: 0.0027022986370749957 (0.02%)\n",
            "acousticness^3: 0.002686542856097366 (0.02%)\n",
            "instrumentalness valence duration_ms: 0.0026289704746689734 (0.02%)\n",
            "energy instrumentalness liveness: 0.0026233630362110464 (0.02%)\n",
            "instrumentalness liveness tempo: 0.002622460739705084 (0.02%)\n",
            "key acousticness instrumentalness: 0.002618710826908443 (0.02%)\n",
            "danceability speechiness instrumentalness: 0.0025852675701239025 (0.02%)\n",
            "energy key instrumentalness: 0.002558839290645575 (0.02%)\n",
            "acousticness liveness tempo: 0.002549788121857065 (0.02%)\n",
            "key instrumentalness tempo: 0.002521831520597741 (0.02%)\n",
            "mode valence: 0.0025098702194189075 (0.02%)\n",
            "mode^2 valence: 0.0025098702194188624 (0.02%)\n",
            "loudness instrumentalness liveness: 0.0024628997276427617 (0.02%)\n",
            "instrumentalness tempo duration_ms: 0.002382416710656298 (0.02%)\n",
            "energy instrumentalness duration_ms: 0.0023774237683709142 (0.02%)\n",
            "duration_ms^3: 0.0023535757118802038 (0.02%)\n",
            "danceability acousticness instrumentalness: 0.0021968099501778913 (0.02%)\n",
            "speechiness^2 instrumentalness: 0.002071499888247665 (0.02%)\n",
            "danceability speechiness liveness: 0.0020201264475758272 (0.02%)\n",
            "acousticness instrumentalness duration_ms: 0.0018708148153357563 (0.01%)\n",
            "speechiness instrumentalness tempo: 0.0017931404403056573 (0.01%)\n",
            "loudness instrumentalness duration_ms: 0.0016080143648125127 (0.01%)\n",
            "loudness speechiness instrumentalness: 0.001576589329958865 (0.01%)\n",
            "key loudness instrumentalness: 0.001479201374405367 (0.01%)\n",
            "energy speechiness instrumentalness: 0.001388251345004315 (0.01%)\n",
            "instrumentalness liveness valence: 0.0013511929473291255 (0.01%)\n",
            "key instrumentalness liveness: 0.0012646293179501148 (0.01%)\n",
            "liveness tempo duration_ms: 0.0012529520284937235 (0.01%)\n",
            "instrumentalness liveness duration_ms: 0.001237607024539759 (0.01%)\n",
            "key speechiness instrumentalness: 0.001198390953399007 (0.01%)\n",
            "speechiness instrumentalness valence: 0.001187263176377584 (0.01%)\n",
            "instrumentalness liveness^2: 0.0010630713161932858 (0.01%)\n",
            "acousticness instrumentalness^2: 0.0010527891650217419 (0.01%)\n",
            "acousticness^2 instrumentalness: 0.0009605086772540309 (0.01%)\n",
            "acousticness instrumentalness valence: 0.0009364594047176115 (0.01%)\n",
            "key mode acousticness: 0.0009230239988577542 (0.01%)\n",
            "speechiness instrumentalness duration_ms: 0.00090185973040451 (0.01%)\n",
            "speechiness instrumentalness^2: 0.0009008568668983558 (0.01%)\n",
            "loudness speechiness tempo: 0.0008645649332555854 (0.01%)\n",
            "speechiness instrumentalness liveness: 0.0008488902373541513 (0.01%)\n",
            "acousticness instrumentalness tempo: 0.0008385812480186159 (0.01%)\n",
            "energy acousticness instrumentalness: 0.000673286052584678 (0.01%)\n",
            "key speechiness duration_ms: 0.0006352372840374729 (0.01%)\n",
            "acousticness instrumentalness liveness: 0.0004400257281206126 (0.0%)\n",
            "key valence tempo: 0.000408896192083976 (0.0%)\n",
            "loudness acousticness instrumentalness: 0.00028453325118613456 (0.0%)\n",
            "speechiness acousticness instrumentalness: 0.00022059069579343678 (0.0%)\n",
            "energy tempo: 0.0001920703960303162 (0.0%)\n",
            "speechiness^2 acousticness: 0.00018564629267961815 (0.0%)\n",
            "key loudness tempo: 4.219998491468009e-05 (0.0%)\n",
            "mode^2 acousticness: 2.3586831905575417e-05 (0.0%)\n",
            "mode acousticness: 2.3586831905558706e-05 (0.0%)\n",
            "danceability loudness tempo: 7.3024521328790935e-06 (0.0%)\n"
          ]
        },
        {
          "output_type": "stream",
          "name": "stderr",
          "text": [
            "/usr/local/lib/python3.7/dist-packages/sklearn/linear_model/_coordinate_descent.py:648: ConvergenceWarning: Objective did not converge. You might want to increase the number of iterations, check the scale of the features or consider increasing regularisation. Duality gap: 9.186e+01, tolerance: 2.348e-02 Linear regression models with null weight for the l1 regularization term are more efficiently fitted using one of the solvers implemented in sklearn.linear_model.Ridge/RidgeCV instead.\n",
            "  coef_, l1_reg, l2_reg, X, y, max_iter, tol, rng, random, positive\n",
            "/usr/local/lib/python3.7/dist-packages/sklearn/utils/deprecation.py:87: FutureWarning: Function get_feature_names is deprecated; get_feature_names is deprecated in 1.0 and will be removed in 1.2. Please use get_feature_names_out instead.\n",
            "  warnings.warn(msg, category=FutureWarning)\n"
          ]
        }
      ]
    },
    {
      "cell_type": "code",
      "metadata": {
        "colab": {
          "base_uri": "https://localhost:8080/",
          "height": 338
        },
        "id": "6qE9sO-0pmIM",
        "outputId": "2d8233c4-c6b7-4a3c-f470-97dc96f4eefe"
      },
      "source": [
        "coefs_percent = 100*coefs/np.sum(coefs)\n",
        "scores = {key: 0 for key in features_ar.columns[3:15]}\n",
        "\n",
        "for key in scores.keys():\n",
        "    for idx, name in enumerate(names):\n",
        "        if key in name:\n",
        "            w = 1 if name == key or name == key + '^2' else 1/2\n",
        "            scores[key] += w*coefs_percent[idx]\n",
        "\n",
        "scores = {k: v for k, v in sorted(scores.items(), key=lambda item: item[1], reverse=True)}\n",
        "\n",
        "plt.figure(figsize=(15,5))\n",
        "plt.bar(scores.keys(), scores.values(), width=0.5)"
      ],
      "execution_count": null,
      "outputs": [
        {
          "output_type": "execute_result",
          "data": {
            "text/plain": [
              "<BarContainer object of 12 artists>"
            ]
          },
          "metadata": {},
          "execution_count": 33
        },
        {
          "output_type": "display_data",
          "data": {
            "image/png": "[encoded data removed]",
            "text/plain": [
              "<Figure size 1080x360 with 1 Axes>"
            ]
          },
          "metadata": {
            "needs_background": "light"
          }
        }
      ]
    },
    {
      "cell_type": "markdown",
      "metadata": {
        "id": "93V6LxIUUO1e"
      },
      "source": [
        "Vemos principalmente que el error es ligeramente mayor, y hay que tener en cuenta que se opto por un modelo de un orden mayor. Sin embargo vemos que el modelo le tiene relativa importancia a algunos atributos eliminados anteriormente, esto puede significar que con el tratamiento adecuado estos atributos pueden traer una mejora concreta al modelo. Pero como este trabajo es solo de indole didactico, no se opto por dedicarle trabajo a la modificación del feature. \n",
        "Aun asi podemos ver que los métodos de regresión resultan útiles no sólo para predecir valores numéricos a partir de un conjunto de datos, si no para analizar la relación entre variables independientes y dependiente."
      ]
    },
    {
      "cell_type": "code",
      "metadata": {
        "id": "DJsgWnv6rLni"
      },
      "source": [
        ""
      ],
      "execution_count": null,
      "outputs": []
    }
  ]
}